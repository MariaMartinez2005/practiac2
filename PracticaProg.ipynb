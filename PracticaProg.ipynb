{
  "cells": [
    {
      "cell_type": "markdown",
      "metadata": {
        "id": "view-in-github",
        "colab_type": "text"
      },
      "source": [
        "<a href=\"https://colab.research.google.com/github/MariaMartinez2005/practiac2/blob/main/PracticaProg.ipynb\" target=\"_parent\"><img src=\"https://colab.research.google.com/assets/colab-badge.svg\" alt=\"Open In Colab\"/></a>"
      ]
    },
    {
      "cell_type": "code",
      "source": [
        "print(\"Hola Mundo\", \"Bienvenidos a Programacion Computacional III\")\n"
      ],
      "metadata": {
        "colab": {
          "base_uri": "https://localhost:8080/"
        },
        "id": "aWjm4mOXvSPm",
        "outputId": "1c71c7ef-0089-4efd-cb0c-14e2ed787e5e"
      },
      "execution_count": null,
      "outputs": [
        {
          "output_type": "stream",
          "name": "stdout",
          "text": [
            "Hola Mundo Bienvenidos a Programacion Computacional III\n"
          ]
        }
      ]
    },
    {
      "cell_type": "code",
      "source": [
        "print(\"Luis Hernandez\")"
      ],
      "metadata": {
        "colab": {
          "base_uri": "https://localhost:8080/"
        },
        "id": "ozI8ahgOwyce",
        "outputId": "af0bcd2f-7e06-48dc-9b3b-9ff940cc976c"
      },
      "execution_count": null,
      "outputs": [
        {
          "output_type": "stream",
          "name": "stdout",
          "text": [
            "Luis Hernandez\n"
          ]
        }
      ]
    },
    {
      "cell_type": "code",
      "source": [
        "nombre = \"Luis Hernandez\"\n",
        "print(\"Hola\", nombre, nombre[5], type(nombre))\n",
        "\n",
        "nombre = 25\n",
        "print(\"Tu edad es: \", type(nombre))"
      ],
      "metadata": {
        "colab": {
          "base_uri": "https://localhost:8080/"
        },
        "id": "yhtR2-9uw63G",
        "outputId": "42ed9939-cbcc-45df-ad69-3210394bec43"
      },
      "execution_count": null,
      "outputs": [
        {
          "output_type": "stream",
          "name": "stdout",
          "text": [
            "Hola Luis Hernandez H <class 'str'>\n",
            "Tu edad es:  <class 'int'>\n"
          ]
        }
      ]
    },
    {
      "cell_type": "code",
      "source": [
        "programacion = True\n",
        "diseno = False\n",
        "print(\"Te gusta Progra\", programacion, \"Te gusta diseño\", diseno, type(programacion))"
      ],
      "metadata": {
        "id": "FGPDUnizM612",
        "outputId": "efbb1350-b288-4bfc-d75f-0933b30e8f0e",
        "colab": {
          "base_uri": "https://localhost:8080/"
        }
      },
      "execution_count": null,
      "outputs": [
        {
          "output_type": "stream",
          "name": "stdout",
          "text": [
            "Te gusta Progra True Te gusta diseño False <class 'bool'>\n"
          ]
        }
      ]
    },
    {
      "cell_type": "code",
      "source": [
        "edad = int(input(\"Dime tu edad: \"))\n",
        "if edad>=18: #comparacion da como resultado un valor booleano\n",
        "  print(\"Eres un adulto, tienes responsabilidades...\")\n",
        "else:\n",
        "  print(\"Eres libre\")"
      ],
      "metadata": {
        "id": "d2GyGAOdNW1x",
        "outputId": "34bf72ea-d2b5-461b-c365-1f8bcd09af71",
        "colab": {
          "base_uri": "https://localhost:8080/"
        }
      },
      "execution_count": null,
      "outputs": [
        {
          "output_type": "stream",
          "name": "stdout",
          "text": [
            "Dime tu edad: 25\n",
            "Eres un adulto, tienes responsabilidades...\n"
          ]
        }
      ]
    },
    {
      "cell_type": "code",
      "source": [
        "def sumaDosNumeros(num1, num2):\n",
        "  resp = num1 + num2\n",
        "  return resp\n",
        "print( \"La suma: \", sumaDosNumeros(2,5) )    "
      ],
      "metadata": {
        "id": "H303IZroPdeK",
        "outputId": "d19acdcd-62d5-4ad6-c194-a74799e7cb87",
        "colab": {
          "base_uri": "https://localhost:8080/"
        }
      },
      "execution_count": null,
      "outputs": [
        {
          "output_type": "stream",
          "name": "stdout",
          "text": [
            "La suma:  7\n"
          ]
        }
      ]
    },
    {
      "cell_type": "markdown",
      "source": [],
      "metadata": {
        "id": "9OcRRUaKVts_"
      }
    },
    {
      "cell_type": "code",
      "source": [
        "#funciones anonimas... \n",
        "sumaNumeros = lambda num1, num2: num1 + num2\n",
        "print( \"La suma: \", sumaNumeros(4,6))"
      ],
      "metadata": {
        "id": "VvoERMe8Q6im",
        "outputId": "1f0a698b-2169-41ac-e96c-64cde1b56d93",
        "colab": {
          "base_uri": "https://localhost:8080/"
        }
      },
      "execution_count": null,
      "outputs": [
        {
          "output_type": "stream",
          "name": "stdout",
          "text": [
            "La suma:  10\n"
          ]
        }
      ]
    },
    {
      "cell_type": "code",
      "source": [
        "numeros = [5,4,7,8,-4,-9] #array unidimensional"
      ],
      "metadata": {
        "id": "fj4lVjX1X66u"
      },
      "execution_count": null,
      "outputs": []
    },
    {
      "cell_type": "code",
      "source": [
        "def cuadrado(num):\n",
        "  return num**2"
      ],
      "metadata": {
        "id": "44cMwMXxXnLG"
      },
      "execution_count": null,
      "outputs": []
    },
    {
      "cell_type": "code",
      "source": [
        "def cubo(num):\n",
        "  return num**3"
      ],
      "metadata": {
        "id": "2d8TtecAYGAb"
      },
      "execution_count": null,
      "outputs": []
    },
    {
      "cell_type": "code",
      "source": [
        "def pares(num): #num = 2/2 = 1 == 0\n",
        "  return num%2==0"
      ],
      "metadata": {
        "id": "fziJLSLbaif4"
      },
      "execution_count": null,
      "outputs": []
    },
    {
      "cell_type": "code",
      "source": [
        "def impares(num):\n",
        "  return num%2!=0"
      ],
      "metadata": {
        "id": "WgWbIeQRd1j4"
      },
      "execution_count": null,
      "outputs": []
    },
    {
      "cell_type": "code",
      "source": [
        "numCuadrado = list(map(cuadrado, numeros))\n",
        "numXDos = list( map(lambda num: num*2, numeros) )\n",
        "print(\"Elevar al cuadradola lista: \",numCuadrado, numXDos )"
      ],
      "metadata": {
        "id": "kBtTQ095SLF9",
        "outputId": "fa1c31c9-0033-4c59-ddae-064b1ae60e18",
        "colab": {
          "base_uri": "https://localhost:8080/"
        }
      },
      "execution_count": null,
      "outputs": [
        {
          "output_type": "stream",
          "name": "stdout",
          "text": [
            "Elevar al cuadradola lista:  [25, 16, 49, 64, 16, 81] [10, 8, 14, 16, -8, -18]\n"
          ]
        }
      ]
    },
    {
      "cell_type": "code",
      "source": [
        "numCubo = list( map(cubo, numeros) )\n",
        "print(numCubo)"
      ],
      "metadata": {
        "id": "7xJvl1K-X9n-",
        "outputId": "446d21bb-3f51-43a9-cb9f-2a3244547f03",
        "colab": {
          "base_uri": "https://localhost:8080/"
        }
      },
      "execution_count": null,
      "outputs": [
        {
          "output_type": "stream",
          "name": "stdout",
          "text": [
            "[125, 64, 343, 512, -64, -729]\n"
          ]
        }
      ]
    },
    {
      "cell_type": "code",
      "source": [
        "#usando filter dejamos solo los pares\n",
        "pares = list( filter(pares, numeros) )\n",
        "print(pares)"
      ],
      "metadata": {
        "id": "RDm54a3eaUs4",
        "outputId": "4b94d94c-02b5-46a3-bc95-52f26f948d97",
        "colab": {
          "base_uri": "https://localhost:8080/"
        }
      },
      "execution_count": null,
      "outputs": [
        {
          "output_type": "stream",
          "name": "stdout",
          "text": [
            "[4, 8, -4]\n"
          ]
        }
      ]
    },
    {
      "cell_type": "code",
      "source": [
        "impares = list( filter(impares,numeros) )\n",
        "print(impares)"
      ],
      "metadata": {
        "id": "Y9tFm7zveAVM",
        "outputId": "0fa9b867-baf7-4207-d03d-1cf3beadb704",
        "colab": {
          "base_uri": "https://localhost:8080/"
        }
      },
      "execution_count": null,
      "outputs": [
        {
          "output_type": "stream",
          "name": "stdout",
          "text": [
            "[5, 7, -9]\n"
          ]
        }
      ]
    },
    {
      "cell_type": "code",
      "source": [
        "#conversor de celsius a f\n",
        "def cf(c):\n",
        "  return c*9/5+32"
      ],
      "metadata": {
        "id": "tJ3u4t_vuhRP"
      },
      "execution_count": null,
      "outputs": []
    },
    {
      "cell_type": "code",
      "source": [
        "c = float(input(\"Grados C: \"))\n",
        "print( \"G. C a F\", cf(c))"
      ],
      "metadata": {
        "colab": {
          "base_uri": "https://localhost:8080/"
        },
        "id": "kPZShopEvrus",
        "outputId": "9fe3238f-9627-472f-b37a-42bc9d9f95b6"
      },
      "execution_count": null,
      "outputs": [
        {
          "output_type": "stream",
          "name": "stdout",
          "text": [
            "Grados C: 27\n",
            "G. C a F 80.6\n"
          ]
        }
      ]
    },
    {
      "cell_type": "code",
      "source": [
        "celsius = lambda c: c*9/5 + 32\n",
        "c = int(input(\"Grados Celsius A convertir: \"))\n",
        "\n",
        "print( celsius(c) )"
      ],
      "metadata": {
        "colab": {
          "base_uri": "https://localhost:8080/"
        },
        "id": "vRyoXRJ9yiwg",
        "outputId": "b4fcbf23-45e3-4aa7-b9df-81c7fd6795b7"
      },
      "execution_count": null,
      "outputs": [
        {
          "output_type": "stream",
          "name": "stdout",
          "text": [
            "Grados Celsius A convertir: 27\n",
            "80.6\n"
          ]
        }
      ]
    },
    {
      "cell_type": "code",
      "source": [
        "gradosc = [27,30,35,40,45]\n",
        "grados = lambda c: c*1.8 + 32\n",
        "f = list( map(grados, gradosc) )\n",
        "print(f)"
      ],
      "metadata": {
        "colab": {
          "base_uri": "https://localhost:8080/"
        },
        "id": "ckC9sKJ20fsr",
        "outputId": "93d4ca1c-f236-4671-8cf8-653beba107e0"
      },
      "execution_count": null,
      "outputs": [
        {
          "output_type": "stream",
          "name": "stdout",
          "text": [
            "[80.6, 86.0, 95.0, 104.0, 113.0]\n"
          ]
        }
      ]
    },
    {
      "cell_type": "markdown",
      "source": [
        "**Tarea:** \n",
        "*Hacer un algoritmo en python que convierta de farenheit a celsius*\n",
        "*Hacer un algoritmo en python que convierta de Celsius a Kelvin y viceversa*"
      ],
      "metadata": {
        "id": "18p3opOD6Hko"
      }
    },
    {
      "cell_type": "code",
      "source": [
        "numeros = [5,7,9,6,8,7,3] #, se declara y usa con corchetes"
      ],
      "metadata": {
        "id": "yL2TAhHGO6iK"
      },
      "execution_count": null,
      "outputs": []
    },
    {
      "cell_type": "code",
      "source": [
        "print(\" Lista original \", \" Buscando: \", numeros[numeros.index(3)], numeros[0] )"
      ],
      "metadata": {
        "colab": {
          "base_uri": "https://localhost:8080/"
        },
        "id": "33IxHK9BO7yT",
        "outputId": "4b096938-bb00-457e-9d1c-8d37590e582b"
      },
      "execution_count": null,
      "outputs": [
        {
          "output_type": "stream",
          "name": "stdout",
          "text": [
            " Lista original   Buscando:  3 5\n"
          ]
        }
      ]
    },
    {
      "cell_type": "code",
      "source": [
        "numeros[0] = 4\n",
        "print(\"Nuevo valor: \", numeros[0])"
      ],
      "metadata": {
        "colab": {
          "base_uri": "https://localhost:8080/"
        },
        "id": "2G-MW574R4Fd",
        "outputId": "d165774f-6a76-4bc8-9739-962becb1344f"
      },
      "execution_count": null,
      "outputs": [
        {
          "output_type": "stream",
          "name": "stdout",
          "text": [
            "Nuevo valor:  4\n"
          ]
        }
      ]
    },
    {
      "cell_type": "code",
      "source": [
        "edades = (2,5,12,18,65,100) #Una tupla es inmutable, se declara con parentesis\n",
        "print( \"Las edades: \", edades, edades[0] )"
      ],
      "metadata": {
        "colab": {
          "base_uri": "https://localhost:8080/"
        },
        "id": "n07Q7YVCQVXd",
        "outputId": "d727e39b-95a3-429c-bba6-b003b8abc370"
      },
      "execution_count": null,
      "outputs": [
        {
          "output_type": "stream",
          "name": "stdout",
          "text": [
            "Las edades:  (2, 5, 12, 18, 65, 100) 2\n"
          ]
        }
      ]
    },
    {
      "cell_type": "code",
      "source": [
        "#edades[0] = 0 #NO puedo cambiar su valor, y se usa con corchetes\n",
        "print( \"Nuevo Valor\", edades[0] )"
      ],
      "metadata": {
        "colab": {
          "base_uri": "https://localhost:8080/"
        },
        "id": "SlxJ16qEQy0-",
        "outputId": "a01131c9-ef73-49f1-f255-0ba2213b23cf"
      },
      "execution_count": null,
      "outputs": [
        {
          "output_type": "stream",
          "name": "stdout",
          "text": [
            "Nuevo Valor 2\n"
          ]
        }
      ]
    },
    {
      "cell_type": "markdown",
      "source": [],
      "metadata": {
        "id": "zrnoZo9hyWXx"
      }
    },
    {
      "cell_type": "code",
      "source": [
        "print(\"Edades: \", edades, \"Filtrar solo mayores de edad: \", tuple(filter( lambda num: num>=18, edades )) )"
      ],
      "metadata": {
        "colab": {
          "base_uri": "https://localhost:8080/"
        },
        "id": "PTRDLNZfTZeU",
        "outputId": "f6f7d323-18c5-452c-a79b-99946dd040a9"
      },
      "execution_count": null,
      "outputs": [
        {
          "output_type": "stream",
          "name": "stdout",
          "text": [
            "Edades:  (2, 5, 12, 18, 65, 100) Filtrar solo mayores de edad:  (18, 65, 100)\n"
          ]
        }
      ]
    },
    {
      "cell_type": "code",
      "source": [
        "buscando = int(input(\"Valor: \"))\n",
        "print( \"Edades: \", edades, \"Buscando el numero: \", buscando, \"esta en la posicion: \", edades.index(buscando) )"
      ],
      "metadata": {
        "colab": {
          "base_uri": "https://localhost:8080/"
        },
        "id": "4OupAC83UEpn",
        "outputId": "19863240-3904-47e3-c413-68b2c7e377f2"
      },
      "execution_count": null,
      "outputs": [
        {
          "output_type": "stream",
          "name": "stdout",
          "text": [
            "Valor: 5\n",
            "Edades:  (2, 5, 12, 18, 65, 100) Buscando el numero:  5 esta en la posicion:  1\n"
          ]
        }
      ]
    },
    {
      "cell_type": "code",
      "source": [
        "notas = [5, 4, 10, 7.8, 9]\n",
        "print(\"Mis Notas: \", notas, \"Notas sobresalientes: \", list(filter(lambda n:n>=9, notas)) )"
      ],
      "metadata": {
        "colab": {
          "base_uri": "https://localhost:8080/"
        },
        "id": "7Qkug-TpVK7G",
        "outputId": "ddaff010-396a-44a9-c58a-33d1a50d6f8e"
      },
      "execution_count": null,
      "outputs": [
        {
          "output_type": "stream",
          "name": "stdout",
          "text": [
            "Mis Notas:  [5, 4, 10, 7.8, 9] Notas sobresalientes:  [10, 9]\n"
          ]
        }
      ]
    },
    {
      "cell_type": "code",
      "source": [
        "notasCiclo = [\n",
        "    [5,6,6],\n",
        "    [8,7,10],\n",
        "    [10,10,10]\n",
        "]\n",
        "print( \"Mis Notas\", notasCiclo, \"C1: \", notasCiclo[0], \"C2: \", notasCiclo[1], \"C3: \", notasCiclo[2], \"PC1: \", notasCiclo[0][2] )"
      ],
      "metadata": {
        "colab": {
          "base_uri": "https://localhost:8080/"
        },
        "id": "TioyVwevWFSY",
        "outputId": "020ead19-8b5b-4d43-e73d-3f1f63d9be3d"
      },
      "execution_count": null,
      "outputs": [
        {
          "output_type": "stream",
          "name": "stdout",
          "text": [
            "Mis Notas [[5, 6, 6], [8, 7, 10], [10, 10, 10]] C1:  [5, 6, 6] C2:  [8, 7, 10] C3:  [10, 10, 10] PC1:  6\n"
          ]
        }
      ]
    },
    {
      "cell_type": "code",
      "source": [
        "materias = [\n",
        "    [ #Progra\n",
        "      [5,6,[10,8]],#c1\n",
        "      [5,7,8],#c2\n",
        "      [6,7,6] #c3\n",
        "    ],\n",
        "    [ #Diseño\n",
        "      [10,9,10], #c1\n",
        "      [10,10,8], #c2\n",
        "      [10,10,10] #c3\n",
        "    ],\n",
        "    [ #Redes\n",
        "      [8,7,8], #c1\n",
        "      [7,9.23,9], #c2\n",
        "      [8,7,9]  #c3\n",
        "    ]\n",
        "]\n",
        "print(\"Progra: C1 - P\", (materias[0][0][2][0] + materias[0][0][2][1])/2, \"; Redes C2, Lab2: \", materias[2][1][1] )"
      ],
      "metadata": {
        "colab": {
          "base_uri": "https://localhost:8080/"
        },
        "id": "Tt8dyfWdXaAu",
        "outputId": "0c4b988e-7ce6-4704-c135-ba5fbbdffbfe"
      },
      "execution_count": null,
      "outputs": [
        {
          "output_type": "stream",
          "name": "stdout",
          "text": [
            "Progra: C1 - P 9.0 ; Redes C2, Lab2:  9.23\n"
          ]
        }
      ]
    },
    {
      "cell_type": "code",
      "source": [
        "misMaterias = {} #los diccionarios (json) se definen con llaves y se usan con corchetes\n",
        "misNotas = {\n",
        "    \"Progra I\":{\n",
        "        \"CI\": {\n",
        "            \"Lab1\": 5,\n",
        "            \"Lab2\": 6,\n",
        "            \"Parcial\": [10,8]\n",
        "        },\n",
        "        \"CII\":{\n",
        "            \"Lab1\": 5,\n",
        "            \"Lab2\": 7,\n",
        "            \"Parcial\": 8\n",
        "        },\n",
        "        \"CIII\":{\n",
        "            \"Lab1\":6,\n",
        "            \"Lab2\":7,\n",
        "            \"Parcial\":6\n",
        "        }\n",
        "    },\n",
        "    \"Diseño\":{\n",
        "        \"CI\": {\n",
        "            \"Lab1\": 10,\n",
        "            \"Lab2\": 9,\n",
        "            \"Parcial\": 10\n",
        "        },\n",
        "        \"CII\":{\n",
        "            \"Lab1\": 10,\n",
        "            \"Lab2\": 10,\n",
        "            \"Parcial\": 8\n",
        "        },\n",
        "        \"CIII\":{\n",
        "            \"Lab1\":10,\n",
        "            \"Lab2\":10,\n",
        "            \"Parcial\":10\n",
        "        }\n",
        "    }\n",
        "}\n",
        "print( misNotas[\"Progra I\"][\"CI\"][\"Parcial\"], misNotas[\"Diseño\"][\"CII\"][\"Lab2\"] )"
      ],
      "metadata": {
        "colab": {
          "base_uri": "https://localhost:8080/"
        },
        "id": "py6oXuB8YCAe",
        "outputId": "dd7e1371-1ae2-4a3e-ee77-b942aaf71d8c"
      },
      "execution_count": null,
      "outputs": [
        {
          "output_type": "stream",
          "name": "stdout",
          "text": [
            "[10, 8] 10\n"
          ]
        }
      ]
    },
    {
      "cell_type": "code",
      "source": [
        "#conversor de divisas... Dolares,Quetzales,Lempira,Cordobas,Pesos CR,Euros,Colon SV,Yenes,Soles Peruanos"
      ],
      "metadata": {
        "id": "KZy4pKxUJsBj"
      },
      "execution_count": null,
      "outputs": []
    },
    {
      "cell_type": "code",
      "source": [
        "divisas = [\"Seleccione una divisa\", \"Dolares\", \n",
        "            \"Quetzales\", \"Lempiras\", \"Cordobas\",\n",
        "           \"Pesos CR\", \"Euros\", \"Colon SV\",\n",
        "             \"Yenes\", \"Soles Peruanos\"\n",
        "             \n",
        "]\n",
        "valores = [0.1,7.71,24.51,35.77,664.64,0.98,8.75,134.13,3.84]"
      ],
      "metadata": {
        "id": "Iuksl03IKm7X"
      },
      "execution_count": null,
      "outputs": []
    },
    {
      "cell_type": "code",
      "source": [
        "def convertir(de, a, cantidad):\n",
        "  return valores[a]/ valores[de] * cantidad "
      ],
      "metadata": {
        "id": "YCsImPA8MYEV"
      },
      "execution_count": null,
      "outputs": []
    },
    {
      "cell_type": "code",
      "source": [
        "print(\"*** MENU ***\")\n",
        "print(\"SELECCIONE UNA DIVISA\")\n",
        "print(\"1.Dolares\")\n",
        "print(\"2.Quetzales\")\n",
        "print(\"3.Lempiras\")\n",
        "print(\"4.Cordobas\")\n",
        "print(\"5.Pesos CR\")\n",
        "print(\"6.Euros\")\n",
        "print(\"7.Colon SV\")\n",
        "print(\"8.Yenes\")\n",
        "print(\"9.Soles Peruanos\")"
      ],
      "metadata": {
        "id": "MJeFgQzCNIBL",
        "outputId": "9c8661ac-805b-48d8-9867-1d23b8a20f3d",
        "colab": {
          "base_uri": "https://localhost:8080/"
        }
      },
      "execution_count": null,
      "outputs": [
        {
          "output_type": "stream",
          "name": "stdout",
          "text": [
            "*** MENU ***\n",
            "SELECCIONE UNA DIVISA\n",
            "1.Dolares\n",
            "2.Quetzales\n",
            "3.Lempiras\n",
            "4.Cordobas\n",
            "5.Pesos CR\n",
            "6.Euros\n",
            "7.Colon SV\n",
            "8.Yenes\n",
            "9.Soles Peruanos\n"
          ]
        }
      ]
    },
    {
      "cell_type": "code",
      "source": [
        "de = int(input(\"DE: \"))\n",
        "a = int(input(\"A: \"))\n",
        "cantidad = float(input(\"Cantidad: \"))\n",
        "\n",
        "print(divisas[de], \" a \", divisas[a], \" es: \", convertir(de, a, cantidad) )"
      ],
      "metadata": {
        "id": "Eu0IZG3POYip",
        "outputId": "cba71a96-1f1c-4ae4-b948-ecb52c1a7819",
        "colab": {
          "base_uri": "https://localhost:8080/"
        }
      },
      "execution_count": null,
      "outputs": [
        {
          "output_type": "stream",
          "name": "stdout",
          "text": [
            "DE: 6\n",
            "A: 7\n",
            "Cantidad: 10\n",
            "Euros  a  Colon SV  es:  153.29142857142858\n"
          ]
        }
      ]
    },
    {
      "cell_type": "code",
      "source": [
        "#ESTRUCTURAS DE CONTROL#"
      ],
      "metadata": {
        "id": "J68QlrrxfPVB"
      },
      "execution_count": null,
      "outputs": []
    },
    {
      "cell_type": "code",
      "source": [
        "#if dondicional si\n",
        "\n",
        "edad = int(input(\"Dime tu edad: \"))\n",
        "if(edad<=2):\n",
        "  print(\"Eres un bebe\")\n",
        "elif(edad<12):\n",
        "  print(\"Edad un niño\")\n",
        "elif(edad<18):\n",
        "  print(\"Eres un adolescente\")\n",
        "elif(edad<65):\n",
        "  print(\"Eres mayor de edad, tienes responsabilidades\")\n",
        "elif(edad<80):\n",
        "  print(\"Eres un adulto mayor\")\n",
        "else:\n",
        "  print(\"Larga vida\")"
      ],
      "metadata": {
        "id": "gNuqB2mFXcP3",
        "outputId": "ecc72adc-1351-45bd-d417-587f0715ea83",
        "colab": {
          "base_uri": "https://localhost:8080/"
        }
      },
      "execution_count": null,
      "outputs": [
        {
          "output_type": "stream",
          "name": "stdout",
          "text": [
            "Dime tu edad: 1\n",
            "Eres un bebe\n"
          ]
        }
      ]
    },
    {
      "cell_type": "code",
      "source": [
        "#Ciclos, while y for\n",
        "#obtenga la tabla de multiplicar de x numero dada por el usuario \n",
        "#while\n",
        "ntabla = int(input(\"Tabla: \"))\n",
        "i=1\n",
        "while(i<=10):\n",
        "  print(ntabla, \"X\", i, \"=\", ntabla*i)\n",
        "  i+=1"
      ],
      "metadata": {
        "id": "6DvoBayva-hx",
        "outputId": "0d8aa1ed-d4cc-4cb1-c589-3dd7f597902d",
        "colab": {
          "base_uri": "https://localhost:8080/"
        }
      },
      "execution_count": null,
      "outputs": [
        {
          "output_type": "stream",
          "name": "stdout",
          "text": [
            "Tabla: 13\n",
            "13 X 1 = 13\n",
            "13 X 2 = 26\n",
            "13 X 3 = 39\n",
            "13 X 4 = 52\n",
            "13 X 5 = 65\n",
            "13 X 6 = 78\n",
            "13 X 7 = 91\n",
            "13 X 8 = 104\n",
            "13 X 9 = 117\n",
            "13 X 10 = 130\n"
          ]
        }
      ]
    },
    {
      "cell_type": "code",
      "source": [
        "ntabla = int(input(\"Tabla: \"))\n",
        "for i in range(1,11):\n",
        "  print(ntabla, \"X\", i, \"=\", ntabla*i)"
      ],
      "metadata": {
        "id": "E6vCGzMbbmA5",
        "outputId": "a84b978a-4e6e-49ea-9f9a-9c1d99e10fcc",
        "colab": {
          "base_uri": "https://localhost:8080/"
        }
      },
      "execution_count": null,
      "outputs": [
        {
          "output_type": "stream",
          "name": "stdout",
          "text": [
            "Tabla: 13\n",
            "13 X 1 = 13\n",
            "13 X 2 = 26\n",
            "13 X 3 = 39\n",
            "13 X 4 = 52\n",
            "13 X 5 = 65\n",
            "13 X 6 = 78\n",
            "13 X 7 = 91\n",
            "13 X 8 = 104\n",
            "13 X 9 = 117\n",
            "13 X 10 = 130\n"
          ]
        }
      ]
    },
    {
      "cell_type": "code",
      "source": [
        "#Hacer un programa en python que genera la tabla de multiplicar dada por el usuario, hasta que el usuario desida salir\n",
        "s=\"s\"\n",
        "while s==\"s\":\n",
        "  ntabla = int(input(\"Tabla: \"))\n",
        "  for i in range(1,11):\n",
        "    print(ntabla, \"X\", i,\"=\", ntabla*i)\n",
        "  s = input(\"Continuar s, cualquier otra tecla para salir \")\n",
        "print(\"Salistes...\")"
      ],
      "metadata": {
        "id": "K4lt45sccC_C",
        "outputId": "f1e09cef-f210-4fd6-c749-f207f681cc3e",
        "colab": {
          "base_uri": "https://localhost:8080/"
        }
      },
      "execution_count": null,
      "outputs": [
        {
          "output_type": "stream",
          "name": "stdout",
          "text": [
            "Tabla: 9\n",
            "9 X 1 = 9\n",
            "9 X 2 = 18\n",
            "9 X 3 = 27\n",
            "9 X 4 = 36\n",
            "9 X 5 = 45\n",
            "9 X 6 = 54\n",
            "9 X 7 = 63\n",
            "9 X 8 = 72\n",
            "9 X 9 = 81\n",
            "9 X 10 = 90\n",
            "Continuar s, cualquier otra tecla para salir b\n",
            "Salistes...\n"
          ]
        }
      ]
    },
    {
      "cell_type": "code",
      "source": [
        "etiquetas = [\n",
        "    [],\n",
        "    [\"Seleccione una divisa\", \"1. Dolares\",\n",
        "              \"2. Quetzales\", \"3. Lempiras\", \"4. Cordobas\",\n",
        "              \"5. Pesos CR\", \"6. Euros\", \"7. Colon SV\",\n",
        "              \"8. Yanes\", \"9. Soles Peruanos\"\n",
        "    ],\n",
        "    [\"Seleccione una opcion\", \"1. Metro\", \"2. Milimetro\",\n",
        "       \"3. Centimetro\",\n",
        "       \"4. Pie\", \"5. Varas\", \"6. Yardas\", \"7. Km\", \"8. Millas\"],\n",
        "   [\"Seleccione una opcion\", \"1. Gigabyte\", \"2. Megabyte\", \"3. Kilobyte\"] #Almacenamiento\n",
        "]\n",
        "valores = [[],\n",
        "           [0,1, 7.71, 24.51, 35.77, 664.64 , 0.98, 8.75, 134.13, 3.84], #divisas\n",
        "           [0, 1, 1000, 100, 3.28084, 1.1963081929167, 1.0936133, 0.001, 0.000621371], #Longitudes\n",
        "           [0,1, 1000, 1000000]        \n",
        "]\n",
        "        "
      ],
      "metadata": {
        "id": "qG2VZK1_WSam"
      },
      "execution_count": null,
      "outputs": []
    },
    {
      "cell_type": "code",
      "source": [
        "print(\"**MENU - CONVERSOR**\")\n",
        "print(\"1. Diviasa\")\n",
        "print(\"2. Longitud\")\n",
        "print(\"3. Almacenamiento\")\n",
        "opcion = int(input(\"Conversores: \"))\n",
        "print(\"CONVERSOR ELEGIDO: \", etiquetas[opcion])\n",
        "de = int(input(\" DE: \"))\n",
        "a = int(input(\"A: \"))\n",
        "cantidad = int(input(\"Cantidad: \"))\n",
        "prin( \"Conversio de \", etiquetas[opcion][de], \" a \", etiquetas[opcion][a], \" equivale a \",convertir(opcion, de, a, cantidad) )"
      ],
      "metadata": {
        "id": "4eCU7PTNeLn6",
        "outputId": "70b20f76-dd31-43b0-8a1b-31f30a56a9c5",
        "colab": {
          "base_uri": "https://localhost:8080/",
          "height": 450
        }
      },
      "execution_count": null,
      "outputs": [
        {
          "output_type": "stream",
          "name": "stdout",
          "text": [
            "**MENU - CONVERSOR**\n",
            "1. Diviasa\n",
            "2. Longitud\n",
            "3. Almacenamiento\n"
          ]
        },
        {
          "output_type": "error",
          "ename": "KeyboardInterrupt",
          "evalue": "ignored",
          "traceback": [
            "\u001b[0;31m---------------------------------------------------------------------------\u001b[0m",
            "\u001b[0;31mKeyboardInterrupt\u001b[0m                         Traceback (most recent call last)",
            "\u001b[0;32m<ipython-input-13-e3c70b6326f3>\u001b[0m in \u001b[0;36m<module>\u001b[0;34m\u001b[0m\n\u001b[1;32m      3\u001b[0m \u001b[0mprint\u001b[0m\u001b[0;34m(\u001b[0m\u001b[0;34m\"2. Longitud\"\u001b[0m\u001b[0;34m)\u001b[0m\u001b[0;34m\u001b[0m\u001b[0;34m\u001b[0m\u001b[0m\n\u001b[1;32m      4\u001b[0m \u001b[0mprint\u001b[0m\u001b[0;34m(\u001b[0m\u001b[0;34m\"3. Almacenamiento\"\u001b[0m\u001b[0;34m)\u001b[0m\u001b[0;34m\u001b[0m\u001b[0;34m\u001b[0m\u001b[0m\n\u001b[0;32m----> 5\u001b[0;31m \u001b[0mopcion\u001b[0m \u001b[0;34m=\u001b[0m \u001b[0mint\u001b[0m\u001b[0;34m(\u001b[0m\u001b[0minput\u001b[0m\u001b[0;34m(\u001b[0m\u001b[0;34m\"Conversores: \"\u001b[0m\u001b[0;34m)\u001b[0m\u001b[0;34m)\u001b[0m\u001b[0;34m\u001b[0m\u001b[0;34m\u001b[0m\u001b[0m\n\u001b[0m\u001b[1;32m      6\u001b[0m \u001b[0mprint\u001b[0m\u001b[0;34m(\u001b[0m\u001b[0;34m\"CONVERSOR ELEGIDO: \"\u001b[0m\u001b[0;34m,\u001b[0m \u001b[0metiquetas\u001b[0m\u001b[0;34m[\u001b[0m\u001b[0mopcion\u001b[0m\u001b[0;34m]\u001b[0m\u001b[0;34m)\u001b[0m\u001b[0;34m\u001b[0m\u001b[0;34m\u001b[0m\u001b[0m\n\u001b[1;32m      7\u001b[0m \u001b[0mde\u001b[0m \u001b[0;34m=\u001b[0m \u001b[0mint\u001b[0m\u001b[0;34m(\u001b[0m\u001b[0minput\u001b[0m\u001b[0;34m(\u001b[0m\u001b[0;34m\" DE: \"\u001b[0m\u001b[0;34m)\u001b[0m\u001b[0;34m)\u001b[0m\u001b[0;34m\u001b[0m\u001b[0;34m\u001b[0m\u001b[0m\n",
            "\u001b[0;32m/usr/local/lib/python3.7/dist-packages/ipykernel/kernelbase.py\u001b[0m in \u001b[0;36mraw_input\u001b[0;34m(self, prompt)\u001b[0m\n\u001b[1;32m    861\u001b[0m             \u001b[0mself\u001b[0m\u001b[0;34m.\u001b[0m\u001b[0m_parent_ident\u001b[0m\u001b[0;34m,\u001b[0m\u001b[0;34m\u001b[0m\u001b[0;34m\u001b[0m\u001b[0m\n\u001b[1;32m    862\u001b[0m             \u001b[0mself\u001b[0m\u001b[0;34m.\u001b[0m\u001b[0m_parent_header\u001b[0m\u001b[0;34m,\u001b[0m\u001b[0;34m\u001b[0m\u001b[0;34m\u001b[0m\u001b[0m\n\u001b[0;32m--> 863\u001b[0;31m             \u001b[0mpassword\u001b[0m\u001b[0;34m=\u001b[0m\u001b[0;32mFalse\u001b[0m\u001b[0;34m,\u001b[0m\u001b[0;34m\u001b[0m\u001b[0;34m\u001b[0m\u001b[0m\n\u001b[0m\u001b[1;32m    864\u001b[0m         )\n\u001b[1;32m    865\u001b[0m \u001b[0;34m\u001b[0m\u001b[0m\n",
            "\u001b[0;32m/usr/local/lib/python3.7/dist-packages/ipykernel/kernelbase.py\u001b[0m in \u001b[0;36m_input_request\u001b[0;34m(self, prompt, ident, parent, password)\u001b[0m\n\u001b[1;32m    902\u001b[0m             \u001b[0;32mexcept\u001b[0m \u001b[0mKeyboardInterrupt\u001b[0m\u001b[0;34m:\u001b[0m\u001b[0;34m\u001b[0m\u001b[0;34m\u001b[0m\u001b[0m\n\u001b[1;32m    903\u001b[0m                 \u001b[0;31m# re-raise KeyboardInterrupt, to truncate traceback\u001b[0m\u001b[0;34m\u001b[0m\u001b[0;34m\u001b[0m\u001b[0;34m\u001b[0m\u001b[0m\n\u001b[0;32m--> 904\u001b[0;31m                 \u001b[0;32mraise\u001b[0m \u001b[0mKeyboardInterrupt\u001b[0m\u001b[0;34m(\u001b[0m\u001b[0;34m\"Interrupted by user\"\u001b[0m\u001b[0;34m)\u001b[0m \u001b[0;32mfrom\u001b[0m \u001b[0;32mNone\u001b[0m\u001b[0;34m\u001b[0m\u001b[0;34m\u001b[0m\u001b[0m\n\u001b[0m\u001b[1;32m    905\u001b[0m             \u001b[0;32mexcept\u001b[0m \u001b[0mException\u001b[0m \u001b[0;32mas\u001b[0m \u001b[0me\u001b[0m\u001b[0;34m:\u001b[0m\u001b[0;34m\u001b[0m\u001b[0;34m\u001b[0m\u001b[0m\n\u001b[1;32m    906\u001b[0m                 \u001b[0mself\u001b[0m\u001b[0;34m.\u001b[0m\u001b[0mlog\u001b[0m\u001b[0;34m.\u001b[0m\u001b[0mwarning\u001b[0m\u001b[0;34m(\u001b[0m\u001b[0;34m\"Invalid Message:\"\u001b[0m\u001b[0;34m,\u001b[0m \u001b[0mexc_info\u001b[0m\u001b[0;34m=\u001b[0m\u001b[0;32mTrue\u001b[0m\u001b[0;34m)\u001b[0m\u001b[0;34m\u001b[0m\u001b[0;34m\u001b[0m\u001b[0m\n",
            "\u001b[0;31mKeyboardInterrupt\u001b[0m: Interrupted by user"
          ]
        }
      ]
    },
    {
      "cell_type": "markdown",
      "source": [
        "Ejercicio # 2 Desarrolle un algoritmo en Python que calcule el IMPUESTO A LAS ACTIVIDADES ECONOMICAS de acuerdo con la siguiente tabla.El monto de la actividad economica debe ser introducido por el usuario."
      ],
      "metadata": {
        "id": "pS6VjvG0K7FY"
      }
    },
    {
      "cell_type": "code",
      "source": [
        "def calcular():\n",
        "    monto = float(input(\"Ingrese el monto de su empresa: \"))\n",
        "    impuesto = monto + 0.01/1000 * 0 +1.5  \n",
        "    print(\"EL IMPUESTO del monto de su Empresa es: $\",monto)\n",
        "    Mtotal = monto - impuesto\n",
        "    print(\"El monto total es de : $\", Mtotal)\n",
        "\n",
        "calcular()\n"
      ],
      "metadata": {
        "id": "kEWEeKG0LtuX",
        "outputId": "e82a441a-9797-41bb-ed74-ffd289c46e46",
        "colab": {
          "base_uri": "https://localhost:8080/"
        }
      },
      "execution_count": null,
      "outputs": [
        {
          "output_type": "stream",
          "name": "stdout",
          "text": [
            "Ingrese el monto de su empresa: 470.80\n",
            "EL IMPUESTO del monto de su Empresa es: $ 470.8\n",
            "El monto total es de : $ -1.5\n"
          ]
        }
      ]
    },
    {
      "cell_type": "code",
      "source": [
        "#USO del paradigma del programacion orientada a objetos\n",
        "class deducciones:\n",
        "  def _init_(self, sueldo):\n",
        "    self.sueldo = sueldo\n",
        "\n",
        "  def calcularIsss(self):\n",
        "    return self.sueldo*3/100    "
      ],
      "metadata": {
        "id": "KXeCBE0EiZvS"
      },
      "execution_count": 3,
      "outputs": []
    },
    {
      "cell_type": "code",
      "source": [
        "from IPython."
      ],
      "metadata": {
        "id": "tKbqs_YxkDCS"
      },
      "execution_count": null,
      "outputs": []
    }
  ],
  "metadata": {
    "colab": {
      "collapsed_sections": [],
      "name": "PracticaProg",
      "provenance": [],
      "include_colab_link": true
    },
    "kernelspec": {
      "display_name": "Python 3",
      "name": "python3"
    }
  },
  "nbformat": 4,
  "nbformat_minor": 0
}
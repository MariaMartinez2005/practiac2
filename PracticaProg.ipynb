{
  "cells": [
    {
      "cell_type": "markdown",
      "metadata": {
        "id": "view-in-github",
        "colab_type": "text"
      },
      "source": [
        "<a href=\"https://colab.research.google.com/github/MariaMartinez2005/practiac2/blob/main/PracticaProg.ipynb\" target=\"_parent\"><img src=\"https://colab.research.google.com/assets/colab-badge.svg\" alt=\"Open In Colab\"/></a>"
      ]
    },
    {
      "cell_type": "code",
      "source": [
        "print(\"Hola Mundo\", \"Bienvenidos a Programacion Computacional III\")\n"
      ],
      "metadata": {
        "colab": {
          "base_uri": "https://localhost:8080/"
        },
        "id": "aWjm4mOXvSPm",
        "outputId": "1c71c7ef-0089-4efd-cb0c-14e2ed787e5e"
      },
      "execution_count": null,
      "outputs": [
        {
          "output_type": "stream",
          "name": "stdout",
          "text": [
            "Hola Mundo Bienvenidos a Programacion Computacional III\n"
          ]
        }
      ]
    },
    {
      "cell_type": "code",
      "source": [
        "print(\"Maria Rodriguez\")"
      ],
      "metadata": {
        "colab": {
          "base_uri": "https://localhost:8080/"
        },
        "id": "ozI8ahgOwyce",
        "outputId": "2b8c9c58-01db-4816-ed88-52ddde04464a"
      },
      "execution_count": null,
      "outputs": [
        {
          "output_type": "stream",
          "name": "stdout",
          "text": [
            "Maria Rodriguez\n"
          ]
        }
      ]
    },
    {
      "cell_type": "code",
      "source": [
        "nombre = \"Maria Rodriguez\"\n",
        "print(\"Hola\", nombre, nombre[5], type(nombre))\n",
        "\n",
        "nombre = 25\n",
        "print(\"Tu edad es: \", type(nombre))"
      ],
      "metadata": {
        "colab": {
          "base_uri": "https://localhost:8080/"
        },
        "id": "yhtR2-9uw63G",
        "outputId": "68a9dc9b-8f5c-4fbc-d585-c216d9de8174"
      },
      "execution_count": null,
      "outputs": [
        {
          "output_type": "stream",
          "name": "stdout",
          "text": [
            "Hola Maria Rodriguez   <class 'str'>\n",
            "Tu edad es:  <class 'int'>\n"
          ]
        }
      ]
    },
    {
      "cell_type": "code",
      "source": [
        "programacion = True\n",
        "diseno = False\n",
        "print(\"Te gusta Progra\", programacion, \"Te gusta diseño\", diseno, type(programacion))"
      ],
      "metadata": {
        "id": "FGPDUnizM612",
        "outputId": "efbb1350-b288-4bfc-d75f-0933b30e8f0e",
        "colab": {
          "base_uri": "https://localhost:8080/"
        }
      },
      "execution_count": null,
      "outputs": [
        {
          "output_type": "stream",
          "name": "stdout",
          "text": [
            "Te gusta Progra True Te gusta diseño False <class 'bool'>\n"
          ]
        }
      ]
    },
    {
      "cell_type": "code",
      "source": [
        "edad = int(input(\"Dime tu edad: \"))\n",
        "if edad>=18: #comparacion da como resultado un valor booleano\n",
        "  print(\"Eres un adulto, tienes responsabilidades...\")\n",
        "else:\n",
        "  print(\"Eres libre\")"
      ],
      "metadata": {
        "id": "d2GyGAOdNW1x",
        "outputId": "34bf72ea-d2b5-461b-c365-1f8bcd09af71",
        "colab": {
          "base_uri": "https://localhost:8080/"
        }
      },
      "execution_count": null,
      "outputs": [
        {
          "output_type": "stream",
          "name": "stdout",
          "text": [
            "Dime tu edad: 25\n",
            "Eres un adulto, tienes responsabilidades...\n"
          ]
        }
      ]
    },
    {
      "cell_type": "code",
      "source": [
        "def sumaDosNumeros(num1, num2):\n",
        "  resp = num1 + num2\n",
        "  return resp\n",
        "print( \"La suma: \", sumaDosNumeros(2,5) )    "
      ],
      "metadata": {
        "id": "H303IZroPdeK",
        "outputId": "d19acdcd-62d5-4ad6-c194-a74799e7cb87",
        "colab": {
          "base_uri": "https://localhost:8080/"
        }
      },
      "execution_count": null,
      "outputs": [
        {
          "output_type": "stream",
          "name": "stdout",
          "text": [
            "La suma:  7\n"
          ]
        }
      ]
    },
    {
      "cell_type": "markdown",
      "source": [],
      "metadata": {
        "id": "9OcRRUaKVts_"
      }
    },
    {
      "cell_type": "code",
      "source": [
        "#funciones anonimas... \n",
        "sumaNumeros = lambda num1, num2: num1 + num2\n",
        "print( \"La suma: \", sumaNumeros(4,6))"
      ],
      "metadata": {
        "id": "VvoERMe8Q6im",
        "outputId": "1f0a698b-2169-41ac-e96c-64cde1b56d93",
        "colab": {
          "base_uri": "https://localhost:8080/"
        }
      },
      "execution_count": null,
      "outputs": [
        {
          "output_type": "stream",
          "name": "stdout",
          "text": [
            "La suma:  10\n"
          ]
        }
      ]
    },
    {
      "cell_type": "code",
      "source": [
        "numeros = [5,4,7,8,-4,-9] #array unidimensional"
      ],
      "metadata": {
        "id": "fj4lVjX1X66u"
      },
      "execution_count": null,
      "outputs": []
    },
    {
      "cell_type": "code",
      "source": [
        "def cuadrado(num):\n",
        "  return num**2"
      ],
      "metadata": {
        "id": "44cMwMXxXnLG"
      },
      "execution_count": null,
      "outputs": []
    },
    {
      "cell_type": "code",
      "source": [
        "def cubo(num):\n",
        "  return num**3"
      ],
      "metadata": {
        "id": "2d8TtecAYGAb"
      },
      "execution_count": null,
      "outputs": []
    },
    {
      "cell_type": "code",
      "source": [
        "def pares(num): #num = 2/2 = 1 == 0\n",
        "  return num%2==0"
      ],
      "metadata": {
        "id": "fziJLSLbaif4"
      },
      "execution_count": null,
      "outputs": []
    },
    {
      "cell_type": "code",
      "source": [
        "def impares(num):\n",
        "  return num%2!=0"
      ],
      "metadata": {
        "id": "WgWbIeQRd1j4"
      },
      "execution_count": null,
      "outputs": []
    },
    {
      "cell_type": "code",
      "source": [
        "numCuadrado = list(map(cuadrado, numeros))\n",
        "numXDos = list( map(lambda num: num*2, numeros) )\n",
        "print(\"Elevar al cuadradola lista: \",numCuadrado, numXDos )"
      ],
      "metadata": {
        "id": "kBtTQ095SLF9",
        "outputId": "fa1c31c9-0033-4c59-ddae-064b1ae60e18",
        "colab": {
          "base_uri": "https://localhost:8080/"
        }
      },
      "execution_count": null,
      "outputs": [
        {
          "output_type": "stream",
          "name": "stdout",
          "text": [
            "Elevar al cuadradola lista:  [25, 16, 49, 64, 16, 81] [10, 8, 14, 16, -8, -18]\n"
          ]
        }
      ]
    },
    {
      "cell_type": "code",
      "source": [
        "numCubo = list( map(cubo, numeros) )\n",
        "print(numCubo)"
      ],
      "metadata": {
        "id": "7xJvl1K-X9n-",
        "outputId": "446d21bb-3f51-43a9-cb9f-2a3244547f03",
        "colab": {
          "base_uri": "https://localhost:8080/"
        }
      },
      "execution_count": null,
      "outputs": [
        {
          "output_type": "stream",
          "name": "stdout",
          "text": [
            "[125, 64, 343, 512, -64, -729]\n"
          ]
        }
      ]
    },
    {
      "cell_type": "code",
      "source": [
        "#usando filter dejamos solo los pares\n",
        "pares = list( filter(pares, numeros) )\n",
        "print(pares)"
      ],
      "metadata": {
        "id": "RDm54a3eaUs4",
        "outputId": "4b94d94c-02b5-46a3-bc95-52f26f948d97",
        "colab": {
          "base_uri": "https://localhost:8080/"
        }
      },
      "execution_count": null,
      "outputs": [
        {
          "output_type": "stream",
          "name": "stdout",
          "text": [
            "[4, 8, -4]\n"
          ]
        }
      ]
    },
    {
      "cell_type": "code",
      "source": [
        "impares = list( filter(impares,numeros) )\n",
        "print(impares)"
      ],
      "metadata": {
        "id": "Y9tFm7zveAVM",
        "outputId": "0fa9b867-baf7-4207-d03d-1cf3beadb704",
        "colab": {
          "base_uri": "https://localhost:8080/"
        }
      },
      "execution_count": null,
      "outputs": [
        {
          "output_type": "stream",
          "name": "stdout",
          "text": [
            "[5, 7, -9]\n"
          ]
        }
      ]
    },
    {
      "cell_type": "code",
      "source": [
        "#conversor de celsius a f\n",
        "def cf(c):\n",
        "  return c*9/5+32"
      ],
      "metadata": {
        "id": "tJ3u4t_vuhRP"
      },
      "execution_count": null,
      "outputs": []
    },
    {
      "cell_type": "code",
      "source": [
        "c = float(input(\"Grados C: \"))\n",
        "print( \"G. C a F\", cf(c))"
      ],
      "metadata": {
        "colab": {
          "base_uri": "https://localhost:8080/"
        },
        "id": "kPZShopEvrus",
        "outputId": "9fe3238f-9627-472f-b37a-42bc9d9f95b6"
      },
      "execution_count": null,
      "outputs": [
        {
          "output_type": "stream",
          "name": "stdout",
          "text": [
            "Grados C: 27\n",
            "G. C a F 80.6\n"
          ]
        }
      ]
    },
    {
      "cell_type": "code",
      "source": [
        "celsius = lambda c: c*9/5 + 32\n",
        "c = int(input(\"Grados Celsius A convertir: \"))\n",
        "\n",
        "print( celsius(c) )"
      ],
      "metadata": {
        "colab": {
          "base_uri": "https://localhost:8080/"
        },
        "id": "vRyoXRJ9yiwg",
        "outputId": "b4fcbf23-45e3-4aa7-b9df-81c7fd6795b7"
      },
      "execution_count": null,
      "outputs": [
        {
          "output_type": "stream",
          "name": "stdout",
          "text": [
            "Grados Celsius A convertir: 27\n",
            "80.6\n"
          ]
        }
      ]
    },
    {
      "cell_type": "code",
      "source": [
        "gradosc = [27,30,35,40,45]\n",
        "grados = lambda c: c*1.8 + 32\n",
        "f = list( map(grados, gradosc) )\n",
        "print(f)"
      ],
      "metadata": {
        "colab": {
          "base_uri": "https://localhost:8080/"
        },
        "id": "ckC9sKJ20fsr",
        "outputId": "93d4ca1c-f236-4671-8cf8-653beba107e0"
      },
      "execution_count": null,
      "outputs": [
        {
          "output_type": "stream",
          "name": "stdout",
          "text": [
            "[80.6, 86.0, 95.0, 104.0, 113.0]\n"
          ]
        }
      ]
    },
    {
      "cell_type": "markdown",
      "source": [
        "**Tarea:** \n",
        "*Hacer un algoritmo en python que convierta de farenheit a celsius*\n",
        "*Hacer un algoritmo en python que convierta de Celsius a Kelvin y viceversa*"
      ],
      "metadata": {
        "id": "18p3opOD6Hko"
      }
    },
    {
      "cell_type": "code",
      "source": [
        "numeros = [5,7,9,6,8,7,3] #, se declara y usa con corchetes"
      ],
      "metadata": {
        "id": "yL2TAhHGO6iK"
      },
      "execution_count": null,
      "outputs": []
    },
    {
      "cell_type": "code",
      "source": [
        "print(\" Lista original \", \" Buscando: \", numeros[numeros.index(3)], numeros[0] )"
      ],
      "metadata": {
        "colab": {
          "base_uri": "https://localhost:8080/"
        },
        "id": "33IxHK9BO7yT",
        "outputId": "4b096938-bb00-457e-9d1c-8d37590e582b"
      },
      "execution_count": null,
      "outputs": [
        {
          "output_type": "stream",
          "name": "stdout",
          "text": [
            " Lista original   Buscando:  3 5\n"
          ]
        }
      ]
    },
    {
      "cell_type": "code",
      "source": [
        "numeros[0] = 4\n",
        "print(\"Nuevo valor: \", numeros[0])"
      ],
      "metadata": {
        "colab": {
          "base_uri": "https://localhost:8080/"
        },
        "id": "2G-MW574R4Fd",
        "outputId": "d165774f-6a76-4bc8-9739-962becb1344f"
      },
      "execution_count": null,
      "outputs": [
        {
          "output_type": "stream",
          "name": "stdout",
          "text": [
            "Nuevo valor:  4\n"
          ]
        }
      ]
    },
    {
      "cell_type": "code",
      "source": [
        "edades = (2,5,12,18,65,100) #Una tupla es inmutable, se declara con parentesis\n",
        "print( \"Las edades: \", edades, edades[0] )"
      ],
      "metadata": {
        "colab": {
          "base_uri": "https://localhost:8080/"
        },
        "id": "n07Q7YVCQVXd",
        "outputId": "d727e39b-95a3-429c-bba6-b003b8abc370"
      },
      "execution_count": null,
      "outputs": [
        {
          "output_type": "stream",
          "name": "stdout",
          "text": [
            "Las edades:  (2, 5, 12, 18, 65, 100) 2\n"
          ]
        }
      ]
    },
    {
      "cell_type": "code",
      "source": [
        "#edades[0] = 0 #NO puedo cambiar su valor, y se usa con corchetes\n",
        "print( \"Nuevo Valor\", edades[0] )"
      ],
      "metadata": {
        "colab": {
          "base_uri": "https://localhost:8080/"
        },
        "id": "SlxJ16qEQy0-",
        "outputId": "a01131c9-ef73-49f1-f255-0ba2213b23cf"
      },
      "execution_count": null,
      "outputs": [
        {
          "output_type": "stream",
          "name": "stdout",
          "text": [
            "Nuevo Valor 2\n"
          ]
        }
      ]
    },
    {
      "cell_type": "markdown",
      "source": [],
      "metadata": {
        "id": "zrnoZo9hyWXx"
      }
    },
    {
      "cell_type": "code",
      "source": [
        "print(\"Edades: \", edades, \"Filtrar solo mayores de edad: \", tuple(filter( lambda num: num>=18, edades )) )"
      ],
      "metadata": {
        "colab": {
          "base_uri": "https://localhost:8080/"
        },
        "id": "PTRDLNZfTZeU",
        "outputId": "f6f7d323-18c5-452c-a79b-99946dd040a9"
      },
      "execution_count": null,
      "outputs": [
        {
          "output_type": "stream",
          "name": "stdout",
          "text": [
            "Edades:  (2, 5, 12, 18, 65, 100) Filtrar solo mayores de edad:  (18, 65, 100)\n"
          ]
        }
      ]
    },
    {
      "cell_type": "code",
      "source": [
        "buscando = int(input(\"Valor: \"))\n",
        "print( \"Edades: \", edades, \"Buscando el numero: \", buscando, \"esta en la posicion: \", edades.index(buscando) )"
      ],
      "metadata": {
        "colab": {
          "base_uri": "https://localhost:8080/"
        },
        "id": "4OupAC83UEpn",
        "outputId": "19863240-3904-47e3-c413-68b2c7e377f2"
      },
      "execution_count": null,
      "outputs": [
        {
          "output_type": "stream",
          "name": "stdout",
          "text": [
            "Valor: 5\n",
            "Edades:  (2, 5, 12, 18, 65, 100) Buscando el numero:  5 esta en la posicion:  1\n"
          ]
        }
      ]
    },
    {
      "cell_type": "code",
      "source": [
        "notas = [5, 4, 10, 7.8, 9]\n",
        "print(\"Mis Notas: \", notas, \"Notas sobresalientes: \", list(filter(lambda n:n>=9, notas)) )"
      ],
      "metadata": {
        "colab": {
          "base_uri": "https://localhost:8080/"
        },
        "id": "7Qkug-TpVK7G",
        "outputId": "ddaff010-396a-44a9-c58a-33d1a50d6f8e"
      },
      "execution_count": null,
      "outputs": [
        {
          "output_type": "stream",
          "name": "stdout",
          "text": [
            "Mis Notas:  [5, 4, 10, 7.8, 9] Notas sobresalientes:  [10, 9]\n"
          ]
        }
      ]
    },
    {
      "cell_type": "code",
      "source": [
        "notasCiclo = [\n",
        "    [5,6,6],\n",
        "    [8,7,10],\n",
        "    [10,10,10]\n",
        "]\n",
        "print( \"Mis Notas\", notasCiclo, \"C1: \", notasCiclo[0], \"C2: \", notasCiclo[1], \"C3: \", notasCiclo[2], \"PC1: \", notasCiclo[0][2] )"
      ],
      "metadata": {
        "colab": {
          "base_uri": "https://localhost:8080/"
        },
        "id": "TioyVwevWFSY",
        "outputId": "020ead19-8b5b-4d43-e73d-3f1f63d9be3d"
      },
      "execution_count": null,
      "outputs": [
        {
          "output_type": "stream",
          "name": "stdout",
          "text": [
            "Mis Notas [[5, 6, 6], [8, 7, 10], [10, 10, 10]] C1:  [5, 6, 6] C2:  [8, 7, 10] C3:  [10, 10, 10] PC1:  6\n"
          ]
        }
      ]
    },
    {
      "cell_type": "code",
      "source": [
        "materias = [\n",
        "    [ #Progra\n",
        "      [5,6,[10,8]],#c1\n",
        "      [5,7,8],#c2\n",
        "      [6,7,6] #c3\n",
        "    ],\n",
        "    [ #Diseño\n",
        "      [10,9,10], #c1\n",
        "      [10,10,8], #c2\n",
        "      [10,10,10] #c3\n",
        "    ],\n",
        "    [ #Redes\n",
        "      [8,7,8], #c1\n",
        "      [7,9.23,9], #c2\n",
        "      [8,7,9]  #c3\n",
        "    ]\n",
        "]\n",
        "print(\"Progra: C1 - P\", (materias[0][0][2][0] + materias[0][0][2][1])/2, \"; Redes C2, Lab2: \", materias[2][1][1] )"
      ],
      "metadata": {
        "colab": {
          "base_uri": "https://localhost:8080/"
        },
        "id": "Tt8dyfWdXaAu",
        "outputId": "0c4b988e-7ce6-4704-c135-ba5fbbdffbfe"
      },
      "execution_count": null,
      "outputs": [
        {
          "output_type": "stream",
          "name": "stdout",
          "text": [
            "Progra: C1 - P 9.0 ; Redes C2, Lab2:  9.23\n"
          ]
        }
      ]
    },
    {
      "cell_type": "code",
      "source": [
        "misMaterias = {} #los diccionarios (json) se definen con llaves y se usan con corchetes\n",
        "misNotas = {\n",
        "    \"Progra I\":{\n",
        "        \"CI\": {\n",
        "            \"Lab1\": 5,\n",
        "            \"Lab2\": 6,\n",
        "            \"Parcial\": [10,8]\n",
        "        },\n",
        "        \"CII\":{\n",
        "            \"Lab1\": 5,\n",
        "            \"Lab2\": 7,\n",
        "            \"Parcial\": 8\n",
        "        },\n",
        "        \"CIII\":{\n",
        "            \"Lab1\":6,\n",
        "            \"Lab2\":7,\n",
        "            \"Parcial\":6\n",
        "        }\n",
        "    },\n",
        "    \"Diseño\":{\n",
        "        \"CI\": {\n",
        "            \"Lab1\": 10,\n",
        "            \"Lab2\": 9,\n",
        "            \"Parcial\": 10\n",
        "        },\n",
        "        \"CII\":{\n",
        "            \"Lab1\": 10,\n",
        "            \"Lab2\": 10,\n",
        "            \"Parcial\": 8\n",
        "        },\n",
        "        \"CIII\":{\n",
        "            \"Lab1\":10,\n",
        "            \"Lab2\":10,\n",
        "            \"Parcial\":10\n",
        "        }\n",
        "    }\n",
        "}\n",
        "print( misNotas[\"Progra I\"][\"CI\"][\"Parcial\"], misNotas[\"Diseño\"][\"CII\"][\"Lab2\"] )"
      ],
      "metadata": {
        "colab": {
          "base_uri": "https://localhost:8080/"
        },
        "id": "py6oXuB8YCAe",
        "outputId": "dd7e1371-1ae2-4a3e-ee77-b942aaf71d8c"
      },
      "execution_count": null,
      "outputs": [
        {
          "output_type": "stream",
          "name": "stdout",
          "text": [
            "[10, 8] 10\n"
          ]
        }
      ]
    },
    {
      "cell_type": "code",
      "source": [
        "#conversor de divisas... Dolares,Quetzales,Lempira,Cordobas,Pesos CR,Euros,Colon SV,Yenes,Soles Peruanos"
      ],
      "metadata": {
        "id": "KZy4pKxUJsBj"
      },
      "execution_count": null,
      "outputs": []
    },
    {
      "cell_type": "code",
      "source": [
        "divisas = [\"Seleccione una divisa\", \"Dolares\", \n",
        "            \"Quetzales\", \"Lempiras\", \"Cordobas\",\n",
        "           \"Pesos CR\", \"Euros\", \"Colon SV\",\n",
        "             \"Yenes\", \"Soles Peruanos\"\n",
        "             \n",
        "]\n",
        "valores = [0.1,7.71,24.51,35.77,664.64,0.98,8.75,134.13,3.84]"
      ],
      "metadata": {
        "id": "Iuksl03IKm7X"
      },
      "execution_count": null,
      "outputs": []
    },
    {
      "cell_type": "code",
      "source": [
        "def convertir(de, a, cantidad):\n",
        "  return valores[a]/ valores[de] * cantidad "
      ],
      "metadata": {
        "id": "YCsImPA8MYEV"
      },
      "execution_count": null,
      "outputs": []
    },
    {
      "cell_type": "code",
      "source": [
        "print(\"*** MENU ***\")\n",
        "print(\"SELECCIONE UNA DIVISA\")\n",
        "print(\"1.Dolares\")\n",
        "print(\"2.Quetzales\")\n",
        "print(\"3.Lempiras\")\n",
        "print(\"4.Cordobas\")\n",
        "print(\"5.Pesos CR\")\n",
        "print(\"6.Euros\")\n",
        "print(\"7.Colon SV\")\n",
        "print(\"8.Yenes\")\n",
        "print(\"9.Soles Peruanos\")"
      ],
      "metadata": {
        "id": "MJeFgQzCNIBL",
        "outputId": "9c8661ac-805b-48d8-9867-1d23b8a20f3d",
        "colab": {
          "base_uri": "https://localhost:8080/"
        }
      },
      "execution_count": null,
      "outputs": [
        {
          "output_type": "stream",
          "name": "stdout",
          "text": [
            "*** MENU ***\n",
            "SELECCIONE UNA DIVISA\n",
            "1.Dolares\n",
            "2.Quetzales\n",
            "3.Lempiras\n",
            "4.Cordobas\n",
            "5.Pesos CR\n",
            "6.Euros\n",
            "7.Colon SV\n",
            "8.Yenes\n",
            "9.Soles Peruanos\n"
          ]
        }
      ]
    },
    {
      "cell_type": "code",
      "source": [
        "de = int(input(\"DE: \"))\n",
        "a = int(input(\"A: \"))\n",
        "cantidad = float(input(\"Cantidad: \"))\n",
        "\n",
        "print(divisas[de], \" a \", divisas[a], \" es: \", convertir(de, a, cantidad) )"
      ],
      "metadata": {
        "id": "Eu0IZG3POYip",
        "outputId": "cba71a96-1f1c-4ae4-b948-ecb52c1a7819",
        "colab": {
          "base_uri": "https://localhost:8080/"
        }
      },
      "execution_count": null,
      "outputs": [
        {
          "output_type": "stream",
          "name": "stdout",
          "text": [
            "DE: 6\n",
            "A: 7\n",
            "Cantidad: 10\n",
            "Euros  a  Colon SV  es:  153.29142857142858\n"
          ]
        }
      ]
    },
    {
      "cell_type": "code",
      "source": [
        "#ESTRUCTURAS DE CONTROL#"
      ],
      "metadata": {
        "id": "J68QlrrxfPVB"
      },
      "execution_count": null,
      "outputs": []
    },
    {
      "cell_type": "code",
      "source": [
        "#if dondicional si\n",
        "\n",
        "edad = int(input(\"Dime tu edad: \"))\n",
        "if(edad<=2):\n",
        "  print(\"Eres un bebe\")\n",
        "elif(edad<12):\n",
        "  print(\"Edad un niño\")\n",
        "elif(edad<18):\n",
        "  print(\"Eres un adolescente\")\n",
        "elif(edad<65):\n",
        "  print(\"Eres mayor de edad, tienes responsabilidades\")\n",
        "elif(edad<80):\n",
        "  print(\"Eres un adulto mayor\")\n",
        "else:\n",
        "  print(\"Larga vida\")"
      ],
      "metadata": {
        "id": "gNuqB2mFXcP3",
        "outputId": "ecc72adc-1351-45bd-d417-587f0715ea83",
        "colab": {
          "base_uri": "https://localhost:8080/"
        }
      },
      "execution_count": null,
      "outputs": [
        {
          "output_type": "stream",
          "name": "stdout",
          "text": [
            "Dime tu edad: 1\n",
            "Eres un bebe\n"
          ]
        }
      ]
    },
    {
      "cell_type": "code",
      "source": [
        "#Ciclos, while y for\n",
        "#obtenga la tabla de multiplicar de x numero dada por el usuario \n",
        "#while\n",
        "ntabla = int(input(\"Tabla: \"))\n",
        "i=1\n",
        "while(i<=10):\n",
        "  print(ntabla, \"X\", i, \"=\", ntabla*i)\n",
        "  i+=1"
      ],
      "metadata": {
        "id": "6DvoBayva-hx",
        "outputId": "0d8aa1ed-d4cc-4cb1-c589-3dd7f597902d",
        "colab": {
          "base_uri": "https://localhost:8080/"
        }
      },
      "execution_count": null,
      "outputs": [
        {
          "output_type": "stream",
          "name": "stdout",
          "text": [
            "Tabla: 13\n",
            "13 X 1 = 13\n",
            "13 X 2 = 26\n",
            "13 X 3 = 39\n",
            "13 X 4 = 52\n",
            "13 X 5 = 65\n",
            "13 X 6 = 78\n",
            "13 X 7 = 91\n",
            "13 X 8 = 104\n",
            "13 X 9 = 117\n",
            "13 X 10 = 130\n"
          ]
        }
      ]
    },
    {
      "cell_type": "code",
      "source": [
        "ntabla = int(input(\"Tabla: \"))\n",
        "for i in range(1,11):\n",
        "  print(ntabla, \"X\", i, \"=\", ntabla*i)"
      ],
      "metadata": {
        "id": "E6vCGzMbbmA5",
        "outputId": "a84b978a-4e6e-49ea-9f9a-9c1d99e10fcc",
        "colab": {
          "base_uri": "https://localhost:8080/"
        }
      },
      "execution_count": null,
      "outputs": [
        {
          "output_type": "stream",
          "name": "stdout",
          "text": [
            "Tabla: 13\n",
            "13 X 1 = 13\n",
            "13 X 2 = 26\n",
            "13 X 3 = 39\n",
            "13 X 4 = 52\n",
            "13 X 5 = 65\n",
            "13 X 6 = 78\n",
            "13 X 7 = 91\n",
            "13 X 8 = 104\n",
            "13 X 9 = 117\n",
            "13 X 10 = 130\n"
          ]
        }
      ]
    },
    {
      "cell_type": "code",
      "source": [
        "#Hacer un programa en python que genera la tabla de multiplicar dada por el usuario, hasta que el usuario desida salir\n",
        "s=\"s\"\n",
        "while s==\"s\":\n",
        "  ntabla = int(input(\"Tabla: \"))\n",
        "  for i in range(1,11):\n",
        "    print(ntabla, \"X\", i,\"=\", ntabla*i)\n",
        "  s = input(\"Continuar s, cualquier otra tecla para salir \")\n",
        "print(\"Salistes...\")"
      ],
      "metadata": {
        "id": "K4lt45sccC_C",
        "outputId": "f1e09cef-f210-4fd6-c749-f207f681cc3e",
        "colab": {
          "base_uri": "https://localhost:8080/"
        }
      },
      "execution_count": null,
      "outputs": [
        {
          "output_type": "stream",
          "name": "stdout",
          "text": [
            "Tabla: 9\n",
            "9 X 1 = 9\n",
            "9 X 2 = 18\n",
            "9 X 3 = 27\n",
            "9 X 4 = 36\n",
            "9 X 5 = 45\n",
            "9 X 6 = 54\n",
            "9 X 7 = 63\n",
            "9 X 8 = 72\n",
            "9 X 9 = 81\n",
            "9 X 10 = 90\n",
            "Continuar s, cualquier otra tecla para salir b\n",
            "Salistes...\n"
          ]
        }
      ]
    },
    {
      "cell_type": "code",
      "source": [
        "etiquetas = [\n",
        "    [],\n",
        "    [\"Seleccione una divisa\", \"1. Dolares\",\n",
        "              \"2. Quetzales\", \"3. Lempiras\", \"4. Cordobas\",\n",
        "              \"5. Pesos CR\", \"6. Euros\", \"7. Colon SV\",\n",
        "              \"8. Yanes\", \"9. Soles Peruanos\"\n",
        "    ],\n",
        "    [\"Seleccione una opcion\", \"1. Metro\", \"2. Milimetro\",\n",
        "       \"3. Centimetro\",\n",
        "       \"4. Pie\", \"5. Varas\", \"6. Yardas\", \"7. Km\", \"8. Millas\"],\n",
        "   [\"Seleccione una opcion\", \"1. Gigabyte\", \"2. Megabyte\", \"3. Kilobyte\"] #Almacenamiento\n",
        "]\n",
        "valores = [[],\n",
        "           [0,1, 7.71, 24.51, 35.77, 664.64 , 0.98, 8.75, 134.13, 3.84], #divisas\n",
        "           [0, 1, 1000, 100, 3.28084, 1.1963081929167, 1.0936133, 0.001, 0.000621371], #Longitudes\n",
        "           [0,1, 1000, 1000000]        \n",
        "]\n",
        "        "
      ],
      "metadata": {
        "id": "qG2VZK1_WSam"
      },
      "execution_count": null,
      "outputs": []
    },
    {
      "cell_type": "code",
      "source": [
        "print(\"**MENU - CONVERSOR**\")\n",
        "print(\"1. Diviasa\")\n",
        "print(\"2. Longitud\")\n",
        "print(\"3. Almacenamiento\")\n",
        "opcion = int(input(\"Conversores: \"))\n",
        "print(\"CONVERSOR ELEGIDO \", etiquetas[opcion])\n",
        "de = int(input(\" DE: \"))\n",
        "a = int(input(\"A: \"))\n",
        "cantidad = int(input(\"Cantidad: \"))\n",
        "prin( \"Conversion de \", etiquetas[opcion][de], \" a \", etiquetas[opcion][a], \" equivale a \",convertir(opcion, de, a, cantidad) )"
      ],
      "metadata": {
        "id": "4eCU7PTNeLn6",
        "outputId": "937019b4-cdf6-4ac5-bd6f-9dfd7b6da603",
        "colab": {
          "base_uri": "https://localhost:8080/"
        }
      },
      "execution_count": null,
      "outputs": [
        {
          "output_type": "stream",
          "name": "stdout",
          "text": [
            "**MENU - CONVERSOR**\n",
            "1. Diviasa\n",
            "2. Longitud\n",
            "3. Almacenamiento\n"
          ]
        }
      ]
    },
    {
      "cell_type": "markdown",
      "source": [
        "Ejercicio # 2 Desarrolle un algoritmo en Python que calcule el IMPUESTO A LAS ACTIVIDADES ECONOMICAS de acuerdo con la siguiente tabla.El monto de la actividad economica debe ser introducido por el usuario."
      ],
      "metadata": {
        "id": "pS6VjvG0K7FY"
      }
    },
    {
      "cell_type": "code",
      "source": [
        "def calcular():\n",
        "    monto = float(input(\"Ingrese el monto de su empresa: \"))\n",
        "    impuesto = monto + 0.01/1000 * 0 +1.5  \n",
        "    print(\"EL IMPUESTO del monto de su Empresa es: $\",monto)\n",
        "    Mtotal = monto - impuesto\n",
        "    print(\"El monto total es de : $\", Mtotal)\n",
        "\n",
        "calcular()\n"
      ],
      "metadata": {
        "id": "kEWEeKG0LtuX",
        "outputId": "e82a441a-9797-41bb-ed74-ffd289c46e46",
        "colab": {
          "base_uri": "https://localhost:8080/"
        }
      },
      "execution_count": null,
      "outputs": [
        {
          "output_type": "stream",
          "name": "stdout",
          "text": [
            "Ingrese el monto de su empresa: 470.80\n",
            "EL IMPUESTO del monto de su Empresa es: $ 470.8\n",
            "El monto total es de : $ -1.5\n"
          ]
        }
      ]
    },
    {
      "cell_type": "markdown",
      "source": [],
      "metadata": {
        "id": "MUD1oJcIkPPq"
      }
    },
    {
      "cell_type": "code",
      "source": [
        "#polimosfismos\n",
        "\n",
        "num1 = 5.5\n",
        "num2 = 4\n",
        "print(\"Suma: \", num1 + num2)\n",
        "\n",
        "nombre = \"Maria \"\n",
        "saludo = \"Hola \" + nombre\n",
        "print(saludo)"
      ],
      "metadata": {
        "id": "DU-K5QmClz_e"
      },
      "execution_count": null,
      "outputs": []
    },
    {
      "cell_type": "code",
      "source": [
        "!pip install pandas"
      ],
      "metadata": {
        "id": "B0VCER_ZAK_2",
        "outputId": "ea93f390-7e6c-4441-9931-d92cf89c25ec",
        "colab": {
          "base_uri": "https://localhost:8080/"
        }
      },
      "execution_count": null,
      "outputs": [
        {
          "output_type": "stream",
          "name": "stdout",
          "text": [
            "Looking in indexes: https://pypi.org/simple, https://us-python.pkg.dev/colab-wheels/public/simple/\n",
            "Requirement already satisfied: pandas in /usr/local/lib/python3.7/dist-packages (1.3.5)\n",
            "Requirement already satisfied: python-dateutil>=2.7.3 in /usr/local/lib/python3.7/dist-packages (from pandas) (2.8.2)\n",
            "Requirement already satisfied: numpy>=1.17.3 in /usr/local/lib/python3.7/dist-packages (from pandas) (1.21.6)\n",
            "Requirement already satisfied: pytz>=2017.3 in /usr/local/lib/python3.7/dist-packages (from pandas) (2022.2.1)\n",
            "Requirement already satisfied: six>=1.5 in /usr/local/lib/python3.7/dist-packages (from python-dateutil>=2.7.3->pandas) (1.15.0)\n"
          ]
        }
      ]
    },
    {
      "cell_type": "code",
      "source": [
        "#USO del paradigma del Programacion Orientada a Objetos\n",
        "class deducciones:\n",
        "  def __init__(self, sueldo, porcentajeIsss, porcentajeAfp, tablaIsr):\n",
        "    self.sueldo = sueldo\n",
        "    self.porcentajeIsss = porcentajeIsss\n",
        "    self.porcentajeAfp = porcentajeAfp\n",
        "    self.tablaIsr = tablaIsr\n",
        "  \n",
        "  def calcularIsss(self):\n",
        "    return self.sueldo*self.porcentajeIsss/100\n",
        "\n",
        "  def calcularAfp(self):\n",
        "    return self.sueldo*self.porcentajeAfp/100\n",
        "  \n",
        "  def calcularIsr(self):\n",
        "    self.sueldoNeto = self.sueldo - (self.calcularIsss() + self.calcularAfp())\n",
        "    self.isr = 0\n",
        "    for tramo in self.tablaIsr:\n",
        "      if self.sueldoNeto>=tramo[0] and self.sueldoNeto<=tramo[1]:\n",
        "        self.isr = (self.sueldoNeto - tramo[0])*tramo[2]/100 + tramo[3]\n",
        "    return self.isr"
      ],
      "metadata": {
        "id": "1HiXeqiTAQN-"
      },
      "execution_count": null,
      "outputs": []
    },
    {
      "cell_type": "code",
      "source": [
        "#ISSS\n",
        "porcentajeIsssP = 3 #esta valor puede venir de una base de datos\n",
        "porcentajeIsssE = 7.5\n",
        "#aFP\n",
        "porcentajeAfpP = 6.25\n",
        "porcentajeAfpE = 7.75\n",
        "#ISR\n",
        "tablaIsr = [\n",
        "    [0.01,    472,     0,  0],     #tramo I\n",
        "    [472.01,  895.24,  10, 17.67], #tramo II\n",
        "    [895.25,  2038.10, 20, 60],    #tramo III\n",
        "    [2038.11, 9999999, 30, 288.57] #tramo IV\n",
        "]"
      ],
      "metadata": {
        "id": "VXObbJ7KASH1"
      },
      "execution_count": null,
      "outputs": []
    },
    {
      "cell_type": "code",
      "source": [
        "sueldo = float(input(\"Sueldo: \"))\n",
        "\n",
        "objDp = deducciones(sueldo, porcentajeIsssP, porcentajeAfpP, tablaIsr)\n",
        "objDe = deducciones(sueldo, porcentajeIsssE, porcentajeAfpE, tablaIsr)\n",
        "\n",
        "print(\"ISSS - Personas: \", round(objDp.calcularIsss(),2), \"ISSS - Empresa:\", round(objDe.calcularIsss(),2))\n",
        "print(\"AFP - Personas: \", round(objDp.calcularAfp(),2), \"AFP - Empresa: \", round(objDe.calcularAfp(), 2))\n",
        "print(\"Isr - Personas: \", round(objDp.calcularIsr(),2) )"
      ],
      "metadata": {
        "id": "cEN3iY31AYET",
        "outputId": "1edaf5cb-1167-4b10-967d-242f74d2b328",
        "colab": {
          "base_uri": "https://localhost:8080/"
        }
      },
      "execution_count": null,
      "outputs": [
        {
          "output_type": "stream",
          "name": "stdout",
          "text": [
            "Sueldo: 20\n",
            "ISSS - Personas:  0.6 ISSS - Empresa: 1.5\n",
            "AFP - Personas:  1.25 AFP - Empresa:  1.55\n",
            "Isr - Personas:  0.0\n"
          ]
        }
      ]
    },
    {
      "cell_type": "code",
      "source": [
        "#Importamos la libreria pandas\n",
        "import pandas as pd"
      ],
      "metadata": {
        "id": "6624UNdkAgV_"
      },
      "execution_count": null,
      "outputs": []
    },
    {
      "cell_type": "code",
      "source": [
        "lenguajes = {\n",
        "    0:\"VB\",\n",
        "    1:\"C#\",\n",
        "    2:\"JAVA\",\n",
        "    3:\"XML\",\n",
        "    4:\"PYTHON\",\n",
        "    5:\"JS\",\n",
        "    6:\"HTML\",\n",
        "    7:\"CSS\",\n",
        "    8:\"PHP\"\n",
        "};\n",
        "pdLenguajes = pd.Series(lenguajes);\n",
        "print( lenguajes, dict(pdLenguajes) );\n",
        "\n",
        "pdLeng = pd.Series([\"VB\", \"C#\", \"JAVA\", \"XML\", \"PYTHON\"], index=[1,2,3,4,5])\n",
        "print( dict(pdLeng), pdLeng[1] )"
      ],
      "metadata": {
        "id": "b61djqmwAis9",
        "outputId": "c28ffe48-c511-4101-9fdb-060c30b18d15",
        "colab": {
          "base_uri": "https://localhost:8080/"
        }
      },
      "execution_count": null,
      "outputs": [
        {
          "output_type": "stream",
          "name": "stdout",
          "text": [
            "{0: 'VB', 1: 'C#', 2: 'JAVA', 3: 'XML', 4: 'PYTHON', 5: 'JS', 6: 'HTML', 7: 'CSS', 8: 'PHP'} {0: 'VB', 1: 'C#', 2: 'JAVA', 3: 'XML', 4: 'PYTHON', 5: 'JS', 6: 'HTML', 7: 'CSS', 8: 'PHP'}\n",
            "{1: 'VB', 2: 'C#', 3: 'JAVA', 4: 'XML', 5: 'PYTHON'} VB\n"
          ]
        }
      ]
    },
    {
      "cell_type": "code",
      "source": [
        "import pandas as pd\n",
        "import matplotlib.pyplot as plt"
      ],
      "metadata": {
        "id": "AyLLQ9jh-4xo"
      },
      "execution_count": null,
      "outputs": []
    },
    {
      "cell_type": "code",
      "source": [
        "notas = pd.read_csv(\"/content/Notas.csv\", sep=\";\", encoding=\"utf-8\")\n",
        "print(notas)"
      ],
      "metadata": {
        "id": "ANzyIodu_7fP"
      },
      "execution_count": null,
      "outputs": []
    },
    {
      "cell_type": "code",
      "source": [
        "sobresalientes = notas.loc[notas[\"Notas\"]>=9]\n",
        "print(sobresalientes)"
      ],
      "metadata": {
        "id": "xkvFJZTNBEMI",
        "outputId": "f9ab22fb-24ab-4305-e4e3-e72970dbf92b",
        "colab": {
          "base_uri": "https://localhost:8080/"
        }
      },
      "execution_count": null,
      "outputs": [
        {
          "output_type": "stream",
          "name": "stdout",
          "text": [
            "           alumno  Notas\n",
            "0    Carlos Lopez     10\n",
            "2  Marta Martinez      9\n",
            "3  Vanessa Araujo     10\n"
          ]
        }
      ]
    },
    {
      "cell_type": "code",
      "source": [
        "reprobados = notas.loc[notas[\"Notas\"]<6].agg({\"count\"})\n",
        "print(reprobados)"
      ],
      "metadata": {
        "id": "_F58-x1oBa59",
        "outputId": "014b0ef0-b044-4f4e-d76e-72ac88008291",
        "colab": {
          "base_uri": "https://localhost:8080/"
        }
      },
      "execution_count": null,
      "outputs": [
        {
          "output_type": "stream",
          "name": "stdout",
          "text": [
            "       alumno  Notas\n",
            "count       2      2\n"
          ]
        }
      ]
    },
    {
      "cell_type": "code",
      "source": [
        "agrupar = notas.groupby([\"Notas\"]).agg({\"sum\"})\n",
        "print(agrupar)"
      ],
      "metadata": {
        "id": "MGe4u71JBhuJ",
        "outputId": "8c7caea5-1ae6-489a-9b3d-e3e00e19a9fd",
        "colab": {
          "base_uri": "https://localhost:8080/"
        }
      },
      "execution_count": null,
      "outputs": [
        {
          "output_type": "stream",
          "name": "stdout",
          "text": [
            "                           alumno\n",
            "                              sum\n",
            "Notas                            \n",
            "5       Roxana PerezMaria Marquez\n",
            "9                  Marta Martinez\n",
            "10     Carlos LopezVanessa Araujo\n"
          ]
        }
      ]
    },
    {
      "cell_type": "code",
      "source": [
        "tabla = pd.crosstab(index=notas[\"Notas\"], columns=\"frecuencia\")\n",
        "plt.pie(tabla, labels=tabla.index)\n",
        "plt.xlabel(\"Estudiantes por notas\")\n",
        "plt.show()\n",
        "\n",
        "tabla.to_csv(\"/content/tabla.csv\", sep=\";\")"
      ],
      "metadata": {
        "id": "8zslEVBbBnj0",
        "outputId": "da484323-cc66-4c85-a3a8-595011c02c7d",
        "colab": {
          "base_uri": "https://localhost:8080/",
          "height": 317
        }
      },
      "execution_count": null,
      "outputs": [
        {
          "output_type": "stream",
          "name": "stderr",
          "text": [
            "/usr/local/lib/python3.7/dist-packages/ipykernel_launcher.py:2: MatplotlibDeprecationWarning: Non-1D inputs to pie() are currently squeeze()d, but this behavior is deprecated since 3.1 and will be removed in 3.3; pass a 1D array instead.\n",
            "  \n"
          ]
        },
        {
          "output_type": "display_data",
          "data": {
            "text/plain": [
              "<Figure size 432x288 with 1 Axes>"
            ],
            "image/png": "[encoded data removed]"
          },
          "metadata": {}
        }
      ]
    },
    {
      "cell_type": "markdown",
      "source": [
        "EJERCICIOS PRACTICOS \n",
        "UTILIZACION DE TARJETA DE CREDITO"
      ],
      "metadata": {
        "id": "lbRTjdLPE37v"
      }
    },
    {
      "cell_type": "code",
      "source": [
        "import pandas as pd\n",
        "import matplotlib.pyplot as plt"
      ],
      "metadata": {
        "id": "Dr2aidkoFEAU"
      },
      "execution_count": 2,
      "outputs": []
    },
    {
      "cell_type": "code",
      "source": [
        "tarjetas = pd.read_csv(\"/content/trx_tarjetas_credito (1).csv\", sep=\",\", encoding=\"utf-8\")\n",
        "print(tarjetas)"
      ],
      "metadata": {
        "id": "9djk7kiSFfU5",
        "outputId": "6d4e358b-929d-437b-8f27-38239033cc37",
        "colab": {
          "base_uri": "https://localhost:8080/"
        }
      },
      "execution_count": 3,
      "outputs": [
        {
          "output_type": "stream",
          "name": "stdout",
          "text": [
            "                  City       Date  Card Type Exp Type Gender  Amount\n",
            "Delhi            India  29-Oct-14       Gold    Bills      F   82475\n",
            "Greater Mumbai   India  22-Aug-14   Platinum    Bills      F   32555\n",
            "Bengaluru        India  27-Aug-14     Silver    Bills      F  101738\n",
            "Greater Mumbai   India  12-Apr-14  Signature    Bills      F  123424\n",
            "Bengaluru        India   5-May-15       Gold    Bills      F  171574\n",
            "...                ...        ...        ...      ...    ...     ...\n",
            "Kolkata          India  22-Jun-14     Silver   Travel      F  128191\n",
            "Pune             India   3-Aug-14  Signature   Travel      M  246316\n",
            "Hyderabad        India  16-Jan-15     Silver   Travel      M  265019\n",
            "Kanpur           India  14-Sep-14     Silver   Travel      M   88174\n",
            "Hyderabad        India  19-Oct-13  Signature    Bills      M  184410\n",
            "\n",
            "[26052 rows x 6 columns]\n"
          ]
        }
      ]
    },
    {
      "cell_type": "code",
      "source": [
        "#Utlizacion de tarjetas de credito por sexo\n",
        "genero = pd.crosstab(index = tarjetas[\"Gender\"], columns = \"fr\")\n",
        "print(genero)"
      ],
      "metadata": {
        "id": "6bLoGgiXGCNg",
        "outputId": "523b79e0-6ae1-493d-ee40-1552ca8d7dbd",
        "colab": {
          "base_uri": "https://localhost:8080/"
        }
      },
      "execution_count": 4,
      "outputs": [
        {
          "output_type": "stream",
          "name": "stdout",
          "text": [
            "col_0      fr\n",
            "Gender       \n",
            "F       13680\n",
            "M       12372\n"
          ]
        }
      ]
    },
    {
      "cell_type": "code",
      "source": [
        "#Total en dolares utilizados diferenciando tarjetas de credito por ciudad\n",
        "ciudad = (tarjetas.groupby([\"City\", \"Card Type\"]).sum())\n",
        "print(ciudad)\n",
        "#print(tarjetas.groupby([\"City\", \"Card Type\"]).sum())"
      ],
      "metadata": {
        "id": "1sR1VgzqGH1s",
        "outputId": "e74fac6a-cfdd-4304-912e-9621a7ffc6f6",
        "colab": {
          "base_uri": "https://localhost:8080/"
        }
      },
      "execution_count": 5,
      "outputs": [
        {
          "output_type": "stream",
          "name": "stdout",
          "text": [
            "                      Amount\n",
            "City   Card Type            \n",
            " India Gold        984539536\n",
            "       Platinum   1007639019\n",
            "       Signature  1013041105\n",
            "       Silver     1069613713\n"
          ]
        }
      ]
    },
    {
      "cell_type": "code",
      "source": [
        "#Total utilizado por tipo de gasto\n",
        "gasto = (tarjetas.groupby([\"Exp Type\"]).sum().groupby(level = [0]).cumsum())\n",
        "print(gasto)\n",
        "#print(tarjetas.groupby([\"Exp Type\"]).sum().groupby(level = [0]).cumsum())"
      ],
      "metadata": {
        "id": "cRhp5PnoGUjA",
        "outputId": "b1691df5-3796-4530-d48d-fed39e34811a",
        "colab": {
          "base_uri": "https://localhost:8080/"
        }
      },
      "execution_count": 6,
      "outputs": [
        {
          "output_type": "stream",
          "name": "stdout",
          "text": [
            "                  Amount\n",
            "Exp Type                \n",
            "Bills          907072473\n",
            "Entertainment  726437536\n",
            "Food           824724009\n",
            "Fuel           789135821\n",
            "Grocery        718207923\n",
            "Travel         109255611\n"
          ]
        }
      ]
    },
    {
      "cell_type": "code",
      "source": [
        "#Utlizacion de tarjetas de credito por sexo grafico\n",
        "tabla = pd.crosstab(index=tarjetas[\"Gender\"], columns=\"fr\")\n",
        "plt.pie(tabla, labels=tabla.index, autopct=\"%0.1f %%\")\n",
        "plt.xlabel(\"Utilizacion de tarjetas por sexo\")\n",
        "plt.show()"
      ],
      "metadata": {
        "id": "zfsDJMs3Gd_o",
        "outputId": "e85affdc-7822-414b-ed07-44b273da9894",
        "colab": {
          "base_uri": "https://localhost:8080/",
          "height": 317
        }
      },
      "execution_count": 7,
      "outputs": [
        {
          "output_type": "stream",
          "name": "stderr",
          "text": [
            "/usr/local/lib/python3.7/dist-packages/ipykernel_launcher.py:3: MatplotlibDeprecationWarning: Non-1D inputs to pie() are currently squeeze()d, but this behavior is deprecated since 3.1 and will be removed in 3.3; pass a 1D array instead.\n",
            "  This is separate from the ipykernel package so we can avoid doing imports until\n"
          ]
        },
        {
          "output_type": "display_data",
          "data": {
            "text/plain": [
              "<Figure size 432x288 with 1 Axes>"
            ],
            "image/png": "[encoded data removed]"
          },
          "metadata": {}
        }
      ]
    },
    {
      "cell_type": "code",
      "source": [
        "tabla = pd.crosstab(index=tarjetas[\"Card Type\"], columns=\"fr\")\n",
        "plt.pie(tabla, labels=tabla.index, autopct=\"%0.1f %%\")\n",
        "plt.xlabel(\"Utilizacion de tarjetas por sexo\")\n",
        "plt.show()"
      ],
      "metadata": {
        "id": "liXVlxssGhCq",
        "outputId": "95c361ef-0f55-401e-aaf7-7fd24ebde620",
        "colab": {
          "base_uri": "https://localhost:8080/",
          "height": 317
        }
      },
      "execution_count": 11,
      "outputs": [
        {
          "output_type": "stream",
          "name": "stderr",
          "text": [
            "/usr/local/lib/python3.7/dist-packages/ipykernel_launcher.py:2: MatplotlibDeprecationWarning: Non-1D inputs to pie() are currently squeeze()d, but this behavior is deprecated since 3.1 and will be removed in 3.3; pass a 1D array instead.\n",
            "  \n"
          ]
        },
        {
          "output_type": "display_data",
          "data": {
            "text/plain": [
              "<Figure size 432x288 with 1 Axes>"
            ],
            "image/png": "[encoded data removed]"
          },
          "metadata": {}
        }
      ]
    },
    {
      "cell_type": "code",
      "source": [
        "#Utilizacion de tarjetas por genero\n",
        "genero = pd.crosstab(index = tarjetas[\"Gender\"], columns=\"fr\")\n",
        "plt.pie(genero, labels = genero.index,autopct=\"%0.1f %%\")\n",
        "plt.xlabel(\"Tarjetas por genero\")\n",
        "plt.axis(\"equal\")\n",
        "plt.show()\n",
        "genero.to_csv(\"/content/genero.csv\")"
      ],
      "metadata": {
        "id": "iH3S7FOnGpFC",
        "outputId": "9a056ab7-728f-4677-c12b-55671ae03e66",
        "colab": {
          "base_uri": "https://localhost:8080/",
          "height": 321
        }
      },
      "execution_count": 15,
      "outputs": [
        {
          "output_type": "stream",
          "name": "stderr",
          "text": [
            "/usr/local/lib/python3.7/dist-packages/ipykernel_launcher.py:3: MatplotlibDeprecationWarning: Non-1D inputs to pie() are currently squeeze()d, but this behavior is deprecated since 3.1 and will be removed in 3.3; pass a 1D array instead.\n",
            "  This is separate from the ipykernel package so we can avoid doing imports until\n"
          ]
        },
        {
          "output_type": "display_data",
          "data": {
            "text/plain": [
              "<Figure size 432x288 with 1 Axes>"
            ],
            "image/png": "[encoded data removed]"
          },
          "metadata": {}
        }
      ]
    },
    {
      "cell_type": "code",
      "source": [
        "#Total de dolares utilizados por ciudad\n",
        "ciudad.to_excel(\"/content/tarjetasporciudad.xlsx\", sep=\";\")"
      ],
      "metadata": {
        "id": "vbEUKLaMGznb",
        "outputId": "5e057b43-a171-446a-ddd4-0e136d583b99",
        "colab": {
          "base_uri": "https://localhost:8080/",
          "height": 183
        }
      },
      "execution_count": 16,
      "outputs": [
        {
          "output_type": "error",
          "ename": "TypeError",
          "evalue": "ignored",
          "traceback": [
            "\u001b[0;31m---------------------------------------------------------------------------\u001b[0m",
            "\u001b[0;31mTypeError\u001b[0m                                 Traceback (most recent call last)",
            "\u001b[0;32m<ipython-input-16-8d4e460c7469>\u001b[0m in \u001b[0;36m<module>\u001b[0;34m\u001b[0m\n\u001b[1;32m      1\u001b[0m \u001b[0;31m#Total de dolares utilizados por ciudad\u001b[0m\u001b[0;34m\u001b[0m\u001b[0;34m\u001b[0m\u001b[0;34m\u001b[0m\u001b[0m\n\u001b[0;32m----> 2\u001b[0;31m \u001b[0mciudad\u001b[0m\u001b[0;34m.\u001b[0m\u001b[0mto_excel\u001b[0m\u001b[0;34m(\u001b[0m\u001b[0;34m\"/content/tarjetasporciudad.xlsx\"\u001b[0m\u001b[0;34m,\u001b[0m \u001b[0msep\u001b[0m\u001b[0;34m=\u001b[0m\u001b[0;34m\";\"\u001b[0m\u001b[0;34m)\u001b[0m\u001b[0;34m\u001b[0m\u001b[0;34m\u001b[0m\u001b[0m\n\u001b[0m",
            "\u001b[0;31mTypeError\u001b[0m: to_excel() got an unexpected keyword argument 'sep'"
          ]
        }
      ]
    },
    {
      "cell_type": "code",
      "source": [
        "#Total de dolares utilizados por ciudad\n",
        "gasto = pd.crosstab(index = tarjetas[\"Amount\"], columns=\"fr\")\n",
        "plt.pie(gasto, labels = gasto.index,autopct=\"%0.1f %%\")\n",
        "plt.xlabel(\"Gasto por ciudad\")\n",
        "plt.axis(\"equal\")\n",
        "plt.show()\n",
        "gasto.to_csv(\"/content/gasto.csv\")"
      ],
      "metadata": {
        "id": "mzVUynsAG5DY",
        "outputId": "41dd2834-6a75-4380-fa55-a954df8ef733",
        "colab": {
          "base_uri": "https://localhost:8080/",
          "height": 322
        }
      },
      "execution_count": 19,
      "outputs": [
        {
          "output_type": "stream",
          "name": "stderr",
          "text": [
            "/usr/local/lib/python3.7/dist-packages/ipykernel_launcher.py:3: MatplotlibDeprecationWarning: Non-1D inputs to pie() are currently squeeze()d, but this behavior is deprecated since 3.1 and will be removed in 3.3; pass a 1D array instead.\n",
            "  This is separate from the ipykernel package so we can avoid doing imports until\n"
          ]
        },
        {
          "output_type": "display_data",
          "data": {
            "text/plain": [
              "<Figure size 432x288 with 1 Axes>"
            ],
            "image/png": "[encoded data removed]"
          },
          "metadata": {}
        }
      ]
    },
    {
      "cell_type": "code",
      "source": [
        "import tensorflow as tf\n",
        "suma = tf.add(3, 8).numpy()\n",
        "print(suma)"
      ],
      "metadata": {
        "id": "xhZLMr9IG912",
        "outputId": "7ad1b84e-a61d-4bae-9af0-0ccdab7e57c4",
        "colab": {
          "base_uri": "https://localhost:8080/"
        }
      },
      "execution_count": 20,
      "outputs": [
        {
          "output_type": "stream",
          "name": "stdout",
          "text": [
            "11\n"
          ]
        }
      ]
    },
    {
      "cell_type": "markdown",
      "source": [
        "ENTRENAR UNA IA QUE CONVIERTA GRADOS A CELCIUS"
      ],
      "metadata": {
        "id": "xFLoLiYAHL-D"
      }
    },
    {
      "cell_type": "code",
      "source": [
        "from os import set_blocking\n",
        "#importar librerias\n",
        "import tensorflow as tf\n",
        "import pandas as pd\n",
        "import matplotlib.pyplot as plt\n",
        "import seaborn as sb"
      ],
      "metadata": {
        "id": "rwaBYJGFHZnH"
      },
      "execution_count": 21,
      "outputs": []
    },
    {
      "cell_type": "code",
      "source": [
        "from os import read\n",
        "#leer datos de entrenamiento\n",
        "conversiones = pd.read_csv(\"/content/conversiones.csv\", sep=\";\")\n",
        "print(conversiones[\"celsius\"])"
      ],
      "metadata": {
        "id": "DgeC6ad-HniP",
        "outputId": "c364c8d4-3796-48f4-c15c-30b123f46540",
        "colab": {
          "base_uri": "https://localhost:8080/"
        }
      },
      "execution_count": 22,
      "outputs": [
        {
          "output_type": "stream",
          "name": "stdout",
          "text": [
            "0      50\n",
            "1      12\n",
            "2     125\n",
            "3      98\n",
            "4      35\n",
            "5      45\n",
            "6     120\n",
            "7     789\n",
            "8    -789\n",
            "9    -120\n",
            "10    -45\n",
            "11    -35\n",
            "12    -98\n",
            "13   -120\n",
            "14    -12\n",
            "15    -50\n",
            "Name: celsius, dtype: int64\n"
          ]
        }
      ]
    },
    {
      "cell_type": "code",
      "source": [
        "#graficar datos\n",
        "sb.scatterplot(conversiones[\"celsius\"], conversiones[\"fahrenheit\"])\n",
        "plt.show()"
      ],
      "metadata": {
        "id": "GaDG60q2Ht6X",
        "outputId": "b0638738-de1d-491d-ee19-dd2e44dd3507",
        "colab": {
          "base_uri": "https://localhost:8080/",
          "height": 334
        }
      },
      "execution_count": 23,
      "outputs": [
        {
          "output_type": "stream",
          "name": "stderr",
          "text": [
            "/usr/local/lib/python3.7/dist-packages/seaborn/_decorators.py:43: FutureWarning: Pass the following variables as keyword args: x, y. From version 0.12, the only valid positional argument will be `data`, and passing other arguments without an explicit keyword will result in an error or misinterpretation.\n",
            "  FutureWarning\n"
          ]
        },
        {
          "output_type": "display_data",
          "data": {
            "text/plain": [
              "<Figure size 432x288 with 1 Axes>"
            ],
            "image/png": "[encoded data removed]"
          },
          "metadata": {
            "needs_background": "light"
          }
        }
      ]
    },
    {
      "cell_type": "code",
      "source": [
        "#datos de entrada y salida\n",
        "celsius = conversiones[\"celsius\"]\n",
        "fahrenheit = conversiones[\"fahrenheit\"]"
      ],
      "metadata": {
        "id": "ebQCMf7JHyGO"
      },
      "execution_count": 24,
      "outputs": []
    },
    {
      "cell_type": "code",
      "source": [
        "#Modelo de entrenamiento\n",
        "modelo = tf.keras.Sequential()\n",
        "modelo.add(tf.keras.layers.Dense(units=1, input_shape=[1]))"
      ],
      "metadata": {
        "id": "gzAzBRcrH44R"
      },
      "execution_count": 25,
      "outputs": []
    },
    {
      "cell_type": "code",
      "source": [
        "#compilar modelo\n",
        "modelo.compile(optimizer=tf.keras.optimizers.Adam(1), loss='mean_squared_error')"
      ],
      "metadata": {
        "id": "eKZ7orKEH9pM"
      },
      "execution_count": 26,
      "outputs": []
    },
    {
      "cell_type": "code",
      "source": [
        "#Entrenar el modelo\n",
        "epocas = modelo.fit(celsius, fahrenheit, epochs=100, verbose=1)"
      ],
      "metadata": {
        "id": "Rd1_qbZyIEqT",
        "outputId": "02429276-d683-4d4f-ca35-75ac18d500ae",
        "colab": {
          "base_uri": "https://localhost:8080/"
        }
      },
      "execution_count": 27,
      "outputs": [
        {
          "output_type": "stream",
          "name": "stdout",
          "text": [
            "Epoch 1/100\n",
            "1/1 [==============================] - 1s 615ms/step - loss: 630913.2500\n",
            "Epoch 2/100\n",
            "1/1 [==============================] - 0s 14ms/step - loss: 255797.9688\n",
            "Epoch 3/100\n",
            "1/1 [==============================] - 0s 10ms/step - loss: 52037.5781\n",
            "Epoch 4/100\n",
            "1/1 [==============================] - 0s 16ms/step - loss: 1542.0933\n",
            "Epoch 5/100\n",
            "1/1 [==============================] - 0s 8ms/step - loss: 53096.8750\n",
            "Epoch 6/100\n",
            "1/1 [==============================] - 0s 6ms/step - loss: 129440.9375\n",
            "Epoch 7/100\n",
            "1/1 [==============================] - 0s 7ms/step - loss: 171153.3906\n",
            "Epoch 8/100\n",
            "1/1 [==============================] - 0s 9ms/step - loss: 163501.8125\n",
            "Epoch 9/100\n",
            "1/1 [==============================] - 0s 9ms/step - loss: 121515.1719\n",
            "Epoch 10/100\n",
            "1/1 [==============================] - 0s 20ms/step - loss: 68602.8828\n",
            "Epoch 11/100\n",
            "1/1 [==============================] - 0s 13ms/step - loss: 24959.5859\n",
            "Epoch 12/100\n",
            "1/1 [==============================] - 0s 8ms/step - loss: 2616.4333\n",
            "Epoch 13/100\n",
            "1/1 [==============================] - 0s 8ms/step - loss: 3684.1631\n",
            "Epoch 14/100\n",
            "1/1 [==============================] - 0s 7ms/step - loss: 21246.1211\n",
            "Epoch 15/100\n",
            "1/1 [==============================] - 0s 7ms/step - loss: 43277.1172\n",
            "Epoch 16/100\n",
            "1/1 [==============================] - 0s 7ms/step - loss: 58422.0977\n",
            "Epoch 17/100\n",
            "1/1 [==============================] - 0s 7ms/step - loss: 60625.1562\n",
            "Epoch 18/100\n",
            "1/1 [==============================] - 0s 7ms/step - loss: 50381.7227\n",
            "Epoch 19/100\n",
            "1/1 [==============================] - 0s 7ms/step - loss: 32968.4844\n",
            "Epoch 20/100\n",
            "1/1 [==============================] - 0s 7ms/step - loss: 15397.2383\n",
            "Epoch 21/100\n",
            "1/1 [==============================] - 0s 7ms/step - loss: 3541.7744\n",
            "Epoch 22/100\n",
            "1/1 [==============================] - 0s 7ms/step - loss: 206.9061\n",
            "Epoch 23/100\n",
            "1/1 [==============================] - 0s 7ms/step - loss: 4524.6299\n",
            "Epoch 24/100\n",
            "1/1 [==============================] - 0s 7ms/step - loss: 12782.1416\n",
            "Epoch 25/100\n",
            "1/1 [==============================] - 0s 7ms/step - loss: 20316.1230\n",
            "Epoch 26/100\n",
            "1/1 [==============================] - 0s 10ms/step - loss: 23589.4629\n",
            "Epoch 27/100\n",
            "1/1 [==============================] - 0s 8ms/step - loss: 21481.6055\n",
            "Epoch 28/100\n",
            "1/1 [==============================] - 0s 8ms/step - loss: 15333.5049\n",
            "Epoch 29/100\n",
            "1/1 [==============================] - 0s 7ms/step - loss: 7967.4331\n",
            "Epoch 30/100\n",
            "1/1 [==============================] - 0s 7ms/step - loss: 2283.3530\n",
            "Epoch 31/100\n",
            "1/1 [==============================] - 0s 7ms/step - loss: 49.8559\n",
            "Epoch 32/100\n",
            "1/1 [==============================] - 0s 7ms/step - loss: 1325.1630\n",
            "Epoch 33/100\n",
            "1/1 [==============================] - 0s 7ms/step - loss: 4669.7549\n",
            "Epoch 34/100\n",
            "1/1 [==============================] - 0s 7ms/step - loss: 7986.5669\n",
            "Epoch 35/100\n",
            "1/1 [==============================] - 0s 11ms/step - loss: 9550.3242\n",
            "Epoch 36/100\n",
            "1/1 [==============================] - 0s 7ms/step - loss: 8726.0801\n",
            "Epoch 37/100\n",
            "1/1 [==============================] - 0s 7ms/step - loss: 6083.5933\n",
            "Epoch 38/100\n",
            "1/1 [==============================] - 0s 7ms/step - loss: 2946.7954\n",
            "Epoch 39/100\n",
            "1/1 [==============================] - 0s 10ms/step - loss: 670.9857\n",
            "Epoch 40/100\n",
            "1/1 [==============================] - 0s 9ms/step - loss: 12.8128\n",
            "Epoch 41/100\n",
            "1/1 [==============================] - 0s 14ms/step - loss: 864.7048\n",
            "Epoch 42/100\n",
            "1/1 [==============================] - 0s 12ms/step - loss: 2431.5781\n",
            "Epoch 43/100\n",
            "1/1 [==============================] - 0s 13ms/step - loss: 3713.6123\n",
            "Epoch 44/100\n",
            "1/1 [==============================] - 0s 7ms/step - loss: 4022.2844\n",
            "Epoch 45/100\n",
            "1/1 [==============================] - 0s 7ms/step - loss: 3269.1934\n",
            "Epoch 46/100\n",
            "1/1 [==============================] - 0s 7ms/step - loss: 1915.3107\n",
            "Epoch 47/100\n",
            "1/1 [==============================] - 0s 7ms/step - loss: 655.0748\n",
            "Epoch 48/100\n",
            "1/1 [==============================] - 0s 7ms/step - loss: 31.1965\n",
            "Epoch 49/100\n",
            "1/1 [==============================] - 0s 7ms/step - loss: 182.3771\n",
            "Epoch 50/100\n",
            "1/1 [==============================] - 0s 7ms/step - loss: 833.3861\n",
            "Epoch 51/100\n",
            "1/1 [==============================] - 0s 7ms/step - loss: 1500.4586\n",
            "Epoch 52/100\n",
            "1/1 [==============================] - 0s 6ms/step - loss: 1776.1689\n",
            "Epoch 53/100\n",
            "1/1 [==============================] - 0s 7ms/step - loss: 1532.1044\n",
            "Epoch 54/100\n",
            "1/1 [==============================] - 0s 11ms/step - loss: 942.7605\n",
            "Epoch 55/100\n",
            "1/1 [==============================] - 0s 7ms/step - loss: 343.6276\n",
            "Epoch 56/100\n",
            "1/1 [==============================] - 0s 7ms/step - loss: 24.0559\n",
            "Epoch 57/100\n",
            "1/1 [==============================] - 0s 6ms/step - loss: 76.4521\n",
            "Epoch 58/100\n",
            "1/1 [==============================] - 0s 7ms/step - loss: 376.1384\n",
            "Epoch 59/100\n",
            "1/1 [==============================] - 0s 7ms/step - loss: 684.5499\n",
            "Epoch 60/100\n",
            "1/1 [==============================] - 0s 7ms/step - loss: 800.6300\n",
            "Epoch 61/100\n",
            "1/1 [==============================] - 0s 7ms/step - loss: 668.0967\n",
            "Epoch 62/100\n",
            "1/1 [==============================] - 0s 6ms/step - loss: 383.9768\n",
            "Epoch 63/100\n",
            "1/1 [==============================] - 0s 6ms/step - loss: 118.1256\n",
            "Epoch 64/100\n",
            "1/1 [==============================] - 0s 6ms/step - loss: 3.2606\n",
            "Epoch 65/100\n",
            "1/1 [==============================] - 0s 6ms/step - loss: 63.5593\n",
            "Epoch 66/100\n",
            "1/1 [==============================] - 0s 7ms/step - loss: 217.8310\n",
            "Epoch 67/100\n",
            "1/1 [==============================] - 0s 7ms/step - loss: 344.3850\n",
            "Epoch 68/100\n",
            "1/1 [==============================] - 0s 6ms/step - loss: 359.9190\n",
            "Epoch 69/100\n",
            "1/1 [==============================] - 0s 6ms/step - loss: 263.0965\n",
            "Epoch 70/100\n",
            "1/1 [==============================] - 0s 6ms/step - loss: 121.8481\n",
            "Epoch 71/100\n",
            "1/1 [==============================] - 0s 6ms/step - loss: 20.6274\n",
            "Epoch 72/100\n",
            "1/1 [==============================] - 0s 7ms/step - loss: 5.9127\n",
            "Epoch 73/100\n",
            "1/1 [==============================] - 0s 6ms/step - loss: 63.6979\n",
            "Epoch 74/100\n",
            "1/1 [==============================] - 0s 7ms/step - loss: 138.0523\n",
            "Epoch 75/100\n",
            "1/1 [==============================] - 0s 6ms/step - loss: 172.9157\n",
            "Epoch 76/100\n",
            "1/1 [==============================] - 0s 6ms/step - loss: 147.3237\n",
            "Epoch 77/100\n",
            "1/1 [==============================] - 0s 6ms/step - loss: 82.8142\n",
            "Epoch 78/100\n",
            "1/1 [==============================] - 0s 6ms/step - loss: 22.5936\n",
            "Epoch 79/100\n",
            "1/1 [==============================] - 0s 6ms/step - loss: 0.1738\n",
            "Epoch 80/100\n",
            "1/1 [==============================] - 0s 6ms/step - loss: 19.3155\n",
            "Epoch 81/100\n",
            "1/1 [==============================] - 0s 6ms/step - loss: 56.4991\n",
            "Epoch 82/100\n",
            "1/1 [==============================] - 0s 6ms/step - loss: 80.8111\n",
            "Epoch 83/100\n",
            "1/1 [==============================] - 0s 6ms/step - loss: 75.4744\n",
            "Epoch 84/100\n",
            "1/1 [==============================] - 0s 6ms/step - loss: 46.5449\n",
            "Epoch 85/100\n",
            "1/1 [==============================] - 0s 7ms/step - loss: 15.0169\n",
            "Epoch 86/100\n",
            "1/1 [==============================] - 0s 6ms/step - loss: 0.2388\n",
            "Epoch 87/100\n",
            "1/1 [==============================] - 0s 6ms/step - loss: 7.1386\n",
            "Epoch 88/100\n",
            "1/1 [==============================] - 0s 6ms/step - loss: 25.2968\n",
            "Epoch 89/100\n",
            "1/1 [==============================] - 0s 6ms/step - loss: 38.6127\n",
            "Epoch 90/100\n",
            "1/1 [==============================] - 0s 8ms/step - loss: 37.2711\n",
            "Epoch 91/100\n",
            "1/1 [==============================] - 0s 9ms/step - loss: 23.4212\n",
            "Epoch 92/100\n",
            "1/1 [==============================] - 0s 6ms/step - loss: 7.6445\n",
            "Epoch 93/100\n",
            "1/1 [==============================] - 0s 7ms/step - loss: 0.1439\n",
            "Epoch 94/100\n",
            "1/1 [==============================] - 0s 6ms/step - loss: 3.6549\n",
            "Epoch 95/100\n",
            "1/1 [==============================] - 0s 7ms/step - loss: 12.7807\n",
            "Epoch 96/100\n",
            "1/1 [==============================] - 0s 6ms/step - loss: 19.1844\n",
            "Epoch 97/100\n",
            "1/1 [==============================] - 0s 6ms/step - loss: 18.0097\n",
            "Epoch 98/100\n",
            "1/1 [==============================] - 0s 5ms/step - loss: 10.7503\n",
            "Epoch 99/100\n",
            "1/1 [==============================] - 0s 5ms/step - loss: 3.0811\n",
            "Epoch 100/100\n",
            "1/1 [==============================] - 0s 5ms/step - loss: 0.0405\n"
          ]
        }
      ]
    },
    {
      "cell_type": "code",
      "source": [
        "#Hacer predicciones... Verificar si el resultado es el esperado\n",
        "f = modelo.predict([5778])\n",
        "print(f[0][0])"
      ],
      "metadata": {
        "id": "uSjKulJQIJeu",
        "outputId": "c06158ff-89a5-4118-aff2-1daac49fcc81",
        "colab": {
          "base_uri": "https://localhost:8080/"
        }
      },
      "execution_count": 28,
      "outputs": [
        {
          "output_type": "stream",
          "name": "stdout",
          "text": [
            "1/1 [==============================] - 0s 83ms/step\n",
            "10463.429\n"
          ]
        }
      ]
    },
    {
      "cell_type": "markdown",
      "source": [
        "ENTRENAR DE CELCIUS A KELVIN "
      ],
      "metadata": {
        "id": "TMvC82d5Ibs9"
      }
    },
    {
      "cell_type": "code",
      "source": [
        "#importar librerias\n",
        "import tensorflow as tf\n",
        "import pandas as pd\n",
        "import matplotlib.pyplot as plt\n",
        "import seaborn as sb"
      ],
      "metadata": {
        "id": "vNO-aQ7LIjFb"
      },
      "execution_count": null,
      "outputs": []
    },
    {
      "cell_type": "code",
      "source": [
        "#leer datos de entrenamiento\n",
        "conversiones = pd.read_csv(\"/content/conversiones.csv\", sep=\";\")\n",
        "print(conversiones[\"celsius\"], conversiones[\"fahrenheit\"])"
      ],
      "metadata": {
        "id": "CPZsRz76IqtM",
        "outputId": "9c16520c-42b6-4345-82d3-1b569278750e",
        "colab": {
          "base_uri": "https://localhost:8080/"
        }
      },
      "execution_count": 29,
      "outputs": [
        {
          "output_type": "stream",
          "name": "stdout",
          "text": [
            "0      50\n",
            "1      12\n",
            "2     125\n",
            "3      98\n",
            "4      35\n",
            "5      45\n",
            "6     120\n",
            "7     789\n",
            "8    -789\n",
            "9    -120\n",
            "10    -45\n",
            "11    -35\n",
            "12    -98\n",
            "13   -120\n",
            "14    -12\n",
            "15    -50\n",
            "Name: celsius, dtype: int64 0      122.0\n",
            "1       53.6\n",
            "2      257.0\n",
            "3      208.4\n",
            "4       95.0\n",
            "5      113.0\n",
            "6      248.0\n",
            "7     1452.2\n",
            "8    -1388.2\n",
            "9     -184.0\n",
            "10     -49.0\n",
            "11     -31.0\n",
            "12    -144.4\n",
            "13    -184.0\n",
            "14      10.4\n",
            "15     -58.0\n",
            "Name: fahrenheit, dtype: float64\n"
          ]
        }
      ]
    },
    {
      "cell_type": "code",
      "source": [
        "#graficar datos\n",
        "sb.barplot(conversiones[\"celsius\"], conversiones[\"fahrenheit\"])\n",
        "plt.show()"
      ],
      "metadata": {
        "id": "Zhn6Pr1yIwtB",
        "outputId": "61fca42e-97b6-4e64-8072-ad83a9316d0a",
        "colab": {
          "base_uri": "https://localhost:8080/",
          "height": 334
        }
      },
      "execution_count": 30,
      "outputs": [
        {
          "output_type": "stream",
          "name": "stderr",
          "text": [
            "/usr/local/lib/python3.7/dist-packages/seaborn/_decorators.py:43: FutureWarning: Pass the following variables as keyword args: x, y. From version 0.12, the only valid positional argument will be `data`, and passing other arguments without an explicit keyword will result in an error or misinterpretation.\n",
            "  FutureWarning\n"
          ]
        },
        {
          "output_type": "display_data",
          "data": {
            "text/plain": [
              "<Figure size 432x288 with 1 Axes>"
            ],
            "image/png": "[encoded data removed]"
          },
          "metadata": {
            "needs_background": "light"
          }
        }
      ]
    },
    {
      "cell_type": "code",
      "source": [],
      "metadata": {
        "id": "jzAfoLl-9iwg"
      },
      "execution_count": null,
      "outputs": []
    },
    {
      "cell_type": "code",
      "source": [
        "#datos de entrada y salida\n",
        "celsius = conversiones[\"celsius\"]\n",
        "fahrenheit = conversiones[\"fahrenheit\"]"
      ],
      "metadata": {
        "id": "8uR2BNa2Iyje"
      },
      "execution_count": 32,
      "outputs": []
    },
    {
      "cell_type": "code",
      "source": [
        "#Modelo de entrenamiento\n",
        "modelo = tf.keras.Sequential()\n",
        "modelo.add(tf.keras.layers.Dense(units=1, input_shape=[1]))"
      ],
      "metadata": {
        "id": "7IOAhivNI7iQ"
      },
      "execution_count": 33,
      "outputs": []
    },
    {
      "cell_type": "code",
      "source": [
        "#compilar modelo\n",
        "modelo.compile(optimizer=tf.keras.optimizers.Adam(1), loss='mean_squared_error')"
      ],
      "metadata": {
        "id": "79r24jSYJA3p"
      },
      "execution_count": 34,
      "outputs": []
    },
    {
      "cell_type": "code",
      "source": [
        "#Entrenar el modelo\n",
        "epocas = modelo.fit(celsius, fahrenheit, epochs=300, verbose=1)"
      ],
      "metadata": {
        "id": "defH4VuSJFq4",
        "outputId": "74de5a90-dd34-4c6a-beee-ed5903b3bb74",
        "colab": {
          "base_uri": "https://localhost:8080/"
        }
      },
      "execution_count": 35,
      "outputs": [
        {
          "output_type": "stream",
          "name": "stdout",
          "text": [
            "Epoch 1/300\n",
            "1/1 [==============================] - 0s 435ms/step - loss: 796345.1875\n",
            "Epoch 2/300\n",
            "1/1 [==============================] - 0s 13ms/step - loss: 364529.0625\n",
            "Epoch 3/300\n",
            "1/1 [==============================] - 0s 10ms/step - loss: 104731.9062\n",
            "Epoch 4/300\n",
            "1/1 [==============================] - 0s 8ms/step - loss: 4610.4697\n",
            "Epoch 5/300\n",
            "1/1 [==============================] - 0s 8ms/step - loss: 26742.8242\n",
            "Epoch 6/300\n",
            "1/1 [==============================] - 0s 6ms/step - loss: 106299.2344\n",
            "Epoch 7/300\n",
            "1/1 [==============================] - 0s 8ms/step - loss: 176324.6719\n",
            "Epoch 8/300\n",
            "1/1 [==============================] - 0s 7ms/step - loss: 201002.8438\n",
            "Epoch 9/300\n",
            "1/1 [==============================] - 0s 7ms/step - loss: 179568.6562\n",
            "Epoch 10/300\n",
            "1/1 [==============================] - 0s 7ms/step - loss: 129733.1875\n",
            "Epoch 11/300\n",
            "1/1 [==============================] - 0s 7ms/step - loss: 73120.2812\n",
            "Epoch 12/300\n",
            "1/1 [==============================] - 0s 7ms/step - loss: 27548.8711\n",
            "Epoch 13/300\n",
            "1/1 [==============================] - 0s 12ms/step - loss: 3474.6792\n",
            "Epoch 14/300\n",
            "1/1 [==============================] - 0s 16ms/step - loss: 2708.5259\n",
            "Epoch 15/300\n",
            "1/1 [==============================] - 0s 11ms/step - loss: 19200.9941\n",
            "Epoch 16/300\n",
            "1/1 [==============================] - 0s 12ms/step - loss: 42127.9219\n",
            "Epoch 17/300\n",
            "1/1 [==============================] - 0s 9ms/step - loss: 60504.6250\n",
            "Epoch 18/300\n",
            "1/1 [==============================] - 0s 10ms/step - loss: 67280.5000\n",
            "Epoch 19/300\n",
            "1/1 [==============================] - 0s 11ms/step - loss: 61087.4414\n",
            "Epoch 20/300\n",
            "1/1 [==============================] - 0s 9ms/step - loss: 45441.6133\n",
            "Epoch 21/300\n",
            "1/1 [==============================] - 0s 9ms/step - loss: 26473.4766\n",
            "Epoch 22/300\n",
            "1/1 [==============================] - 0s 13ms/step - loss: 10389.3652\n",
            "Epoch 23/300\n",
            "1/1 [==============================] - 0s 9ms/step - loss: 1440.7490\n",
            "Epoch 24/300\n",
            "1/1 [==============================] - 0s 10ms/step - loss: 816.2694\n",
            "Epoch 25/300\n",
            "1/1 [==============================] - 0s 10ms/step - loss: 6653.5757\n",
            "Epoch 26/300\n",
            "1/1 [==============================] - 0s 9ms/step - loss: 15107.1836\n",
            "Epoch 27/300\n",
            "1/1 [==============================] - 0s 10ms/step - loss: 22037.1465\n",
            "Epoch 28/300\n",
            "1/1 [==============================] - 0s 17ms/step - loss: 24602.6699\n",
            "Epoch 29/300\n",
            "1/1 [==============================] - 0s 8ms/step - loss: 22119.5742\n",
            "Epoch 30/300\n",
            "1/1 [==============================] - 0s 9ms/step - loss: 15951.8867\n",
            "Epoch 31/300\n",
            "1/1 [==============================] - 0s 7ms/step - loss: 8656.5352\n",
            "Epoch 32/300\n",
            "1/1 [==============================] - 0s 8ms/step - loss: 2834.5449\n",
            "Epoch 33/300\n",
            "1/1 [==============================] - 0s 9ms/step - loss: 145.7302\n",
            "Epoch 34/300\n",
            "1/1 [==============================] - 0s 10ms/step - loss: 811.0302\n",
            "Epoch 35/300\n",
            "1/1 [==============================] - 0s 8ms/step - loss: 3728.0845\n",
            "Epoch 36/300\n",
            "1/1 [==============================] - 0s 9ms/step - loss: 7094.5176\n",
            "Epoch 37/300\n",
            "1/1 [==============================] - 0s 6ms/step - loss: 9235.9297\n",
            "Epoch 38/300\n",
            "1/1 [==============================] - 0s 6ms/step - loss: 9269.2969\n",
            "Epoch 39/300\n",
            "1/1 [==============================] - 0s 6ms/step - loss: 7342.1055\n",
            "Epoch 40/300\n",
            "1/1 [==============================] - 0s 9ms/step - loss: 4408.2837\n",
            "Epoch 41/300\n",
            "1/1 [==============================] - 0s 8ms/step - loss: 1704.4978\n",
            "Epoch 42/300\n",
            "1/1 [==============================] - 0s 9ms/step - loss: 187.4978\n",
            "Epoch 43/300\n",
            "1/1 [==============================] - 0s 6ms/step - loss: 169.9429\n",
            "Epoch 44/300\n",
            "1/1 [==============================] - 0s 9ms/step - loss: 1280.8842\n",
            "Epoch 45/300\n",
            "1/1 [==============================] - 0s 6ms/step - loss: 2727.7832\n",
            "Epoch 46/300\n",
            "1/1 [==============================] - 0s 7ms/step - loss: 3708.1877\n",
            "Epoch 47/300\n",
            "1/1 [==============================] - 0s 6ms/step - loss: 3767.6467\n",
            "Epoch 48/300\n",
            "1/1 [==============================] - 0s 8ms/step - loss: 2948.9514\n",
            "Epoch 49/300\n",
            "1/1 [==============================] - 0s 6ms/step - loss: 1694.2173\n",
            "Epoch 50/300\n",
            "1/1 [==============================] - 0s 5ms/step - loss: 580.2251\n",
            "Epoch 51/300\n",
            "1/1 [==============================] - 0s 5ms/step - loss: 31.7148\n",
            "Epoch 52/300\n",
            "1/1 [==============================] - 0s 5ms/step - loss: 147.2697\n",
            "Epoch 53/300\n",
            "1/1 [==============================] - 0s 5ms/step - loss: 702.8961\n",
            "Epoch 54/300\n",
            "1/1 [==============================] - 0s 6ms/step - loss: 1307.5809\n",
            "Epoch 55/300\n",
            "1/1 [==============================] - 0s 6ms/step - loss: 1615.9357\n",
            "Epoch 56/300\n",
            "1/1 [==============================] - 0s 10ms/step - loss: 1487.2456\n",
            "Epoch 57/300\n",
            "1/1 [==============================] - 0s 11ms/step - loss: 1021.0991\n",
            "Epoch 58/300\n",
            "1/1 [==============================] - 0s 10ms/step - loss: 469.9673\n",
            "Epoch 59/300\n",
            "1/1 [==============================] - 0s 12ms/step - loss: 89.8473\n",
            "Epoch 60/300\n",
            "1/1 [==============================] - 0s 13ms/step - loss: 11.9336\n",
            "Epoch 61/300\n",
            "1/1 [==============================] - 0s 10ms/step - loss: 196.2879\n",
            "Epoch 62/300\n",
            "1/1 [==============================] - 0s 11ms/step - loss: 479.0602\n",
            "Epoch 63/300\n",
            "1/1 [==============================] - 0s 13ms/step - loss: 675.7432\n",
            "Epoch 64/300\n",
            "1/1 [==============================] - 0s 11ms/step - loss: 679.2883\n",
            "Epoch 65/300\n",
            "1/1 [==============================] - 0s 9ms/step - loss: 502.9291\n",
            "Epoch 66/300\n",
            "1/1 [==============================] - 0s 11ms/step - loss: 253.6280\n",
            "Epoch 67/300\n",
            "1/1 [==============================] - 0s 16ms/step - loss: 60.4035\n",
            "Epoch 68/300\n",
            "1/1 [==============================] - 0s 11ms/step - loss: 2.2120\n",
            "Epoch 69/300\n",
            "1/1 [==============================] - 0s 10ms/step - loss: 73.7660\n",
            "Epoch 70/300\n",
            "1/1 [==============================] - 0s 11ms/step - loss: 201.9656\n",
            "Epoch 71/300\n",
            "1/1 [==============================] - 0s 10ms/step - loss: 296.4701\n",
            "Epoch 72/300\n",
            "1/1 [==============================] - 0s 9ms/step - loss: 301.7283\n",
            "Epoch 73/300\n",
            "1/1 [==============================] - 0s 10ms/step - loss: 221.7107\n",
            "Epoch 74/300\n",
            "1/1 [==============================] - 0s 9ms/step - loss: 107.8249\n",
            "Epoch 75/300\n",
            "1/1 [==============================] - 0s 9ms/step - loss: 22.3818\n",
            "Epoch 76/300\n",
            "1/1 [==============================] - 0s 8ms/step - loss: 1.7846\n",
            "Epoch 77/300\n",
            "1/1 [==============================] - 0s 8ms/step - loss: 40.1929\n",
            "Epoch 78/300\n",
            "1/1 [==============================] - 0s 11ms/step - loss: 99.7767\n",
            "Epoch 79/300\n",
            "1/1 [==============================] - 0s 9ms/step - loss: 137.6009\n",
            "Epoch 80/300\n",
            "1/1 [==============================] - 0s 10ms/step - loss: 131.1353\n",
            "Epoch 81/300\n",
            "1/1 [==============================] - 0s 11ms/step - loss: 87.8594\n",
            "Epoch 82/300\n",
            "1/1 [==============================] - 0s 8ms/step - loss: 35.8481\n",
            "Epoch 83/300\n",
            "1/1 [==============================] - 0s 8ms/step - loss: 3.8317\n",
            "Epoch 84/300\n",
            "1/1 [==============================] - 0s 11ms/step - loss: 4.1053\n",
            "Epoch 85/300\n",
            "1/1 [==============================] - 0s 10ms/step - loss: 27.9541\n",
            "Epoch 86/300\n",
            "1/1 [==============================] - 0s 10ms/step - loss: 54.3539\n",
            "Epoch 87/300\n",
            "1/1 [==============================] - 0s 12ms/step - loss: 64.6387\n",
            "Epoch 88/300\n",
            "1/1 [==============================] - 0s 13ms/step - loss: 53.3515\n",
            "Epoch 89/300\n",
            "1/1 [==============================] - 0s 13ms/step - loss: 29.3093\n",
            "Epoch 90/300\n",
            "1/1 [==============================] - 0s 10ms/step - loss: 7.7854\n",
            "Epoch 91/300\n",
            "1/1 [==============================] - 0s 12ms/step - loss: 0.0159\n",
            "Epoch 92/300\n",
            "1/1 [==============================] - 0s 13ms/step - loss: 6.9286\n",
            "Epoch 93/300\n",
            "1/1 [==============================] - 0s 10ms/step - loss: 20.2988\n",
            "Epoch 94/300\n",
            "1/1 [==============================] - 0s 9ms/step - loss: 29.4254\n",
            "Epoch 95/300\n",
            "1/1 [==============================] - 0s 13ms/step - loss: 28.2584\n",
            "Epoch 96/300\n",
            "1/1 [==============================] - 0s 10ms/step - loss: 18.4140\n",
            "Epoch 97/300\n",
            "1/1 [==============================] - 0s 9ms/step - loss: 6.8320\n",
            "Epoch 98/300\n",
            "1/1 [==============================] - 0s 13ms/step - loss: 0.4313\n",
            "Epoch 99/300\n",
            "1/1 [==============================] - 0s 13ms/step - loss: 1.6711\n",
            "Epoch 100/300\n",
            "1/1 [==============================] - 0s 9ms/step - loss: 7.7203\n",
            "Epoch 101/300\n",
            "1/1 [==============================] - 0s 8ms/step - loss: 13.1906\n",
            "Epoch 102/300\n",
            "1/1 [==============================] - 0s 8ms/step - loss: 14.0759\n",
            "Epoch 103/300\n",
            "1/1 [==============================] - 0s 7ms/step - loss: 10.1285\n",
            "Epoch 104/300\n",
            "1/1 [==============================] - 0s 6ms/step - loss: 4.3726\n",
            "Epoch 105/300\n",
            "1/1 [==============================] - 0s 6ms/step - loss: 0.5386\n",
            "Epoch 106/300\n",
            "1/1 [==============================] - 0s 11ms/step - loss: 0.4621\n",
            "Epoch 107/300\n",
            "1/1 [==============================] - 0s 10ms/step - loss: 3.1822\n",
            "Epoch 108/300\n",
            "1/1 [==============================] - 0s 6ms/step - loss: 6.0645\n",
            "Epoch 109/300\n",
            "1/1 [==============================] - 0s 7ms/step - loss: 6.8601\n",
            "Epoch 110/300\n",
            "1/1 [==============================] - 0s 6ms/step - loss: 5.1569\n",
            "Epoch 111/300\n",
            "1/1 [==============================] - 0s 6ms/step - loss: 2.3394\n",
            "Epoch 112/300\n",
            "1/1 [==============================] - 0s 6ms/step - loss: 0.3305\n",
            "Epoch 113/300\n",
            "1/1 [==============================] - 0s 6ms/step - loss: 0.1778\n",
            "Epoch 114/300\n",
            "1/1 [==============================] - 0s 6ms/step - loss: 1.4818\n",
            "Epoch 115/300\n",
            "1/1 [==============================] - 0s 6ms/step - loss: 2.9222\n",
            "Epoch 116/300\n",
            "1/1 [==============================] - 0s 6ms/step - loss: 3.3327\n",
            "Epoch 117/300\n",
            "1/1 [==============================] - 0s 8ms/step - loss: 2.4874\n",
            "Epoch 118/300\n",
            "1/1 [==============================] - 0s 8ms/step - loss: 1.0938\n",
            "Epoch 119/300\n",
            "1/1 [==============================] - 0s 7ms/step - loss: 0.1309\n",
            "Epoch 120/300\n",
            "1/1 [==============================] - 0s 7ms/step - loss: 0.1094\n",
            "Epoch 121/300\n",
            "1/1 [==============================] - 0s 6ms/step - loss: 0.7892\n",
            "Epoch 122/300\n",
            "1/1 [==============================] - 0s 8ms/step - loss: 1.4813\n",
            "Epoch 123/300\n",
            "1/1 [==============================] - 0s 7ms/step - loss: 1.6180\n",
            "Epoch 124/300\n",
            "1/1 [==============================] - 0s 6ms/step - loss: 1.1392\n",
            "Epoch 125/300\n",
            "1/1 [==============================] - 0s 7ms/step - loss: 0.4462\n",
            "Epoch 126/300\n",
            "1/1 [==============================] - 0s 6ms/step - loss: 0.0299\n",
            "Epoch 127/300\n",
            "1/1 [==============================] - 0s 13ms/step - loss: 0.0968\n",
            "Epoch 128/300\n",
            "1/1 [==============================] - 0s 8ms/step - loss: 0.4682\n",
            "Epoch 129/300\n",
            "1/1 [==============================] - 0s 12ms/step - loss: 0.7778\n",
            "Epoch 130/300\n",
            "1/1 [==============================] - 0s 9ms/step - loss: 0.7741\n",
            "Epoch 131/300\n",
            "1/1 [==============================] - 0s 10ms/step - loss: 0.4857\n",
            "Epoch 132/300\n",
            "1/1 [==============================] - 0s 10ms/step - loss: 0.1506\n",
            "Epoch 133/300\n",
            "1/1 [==============================] - 0s 10ms/step - loss: 0.0017\n",
            "Epoch 134/300\n",
            "1/1 [==============================] - 0s 10ms/step - loss: 0.0934\n",
            "Epoch 135/300\n",
            "1/1 [==============================] - 0s 10ms/step - loss: 0.2919\n",
            "Epoch 136/300\n",
            "1/1 [==============================] - 0s 7ms/step - loss: 0.4089\n",
            "Epoch 137/300\n",
            "1/1 [==============================] - 0s 7ms/step - loss: 0.3535\n",
            "Epoch 138/300\n",
            "1/1 [==============================] - 0s 7ms/step - loss: 0.1836\n",
            "Epoch 139/300\n",
            "1/1 [==============================] - 0s 8ms/step - loss: 0.0355\n",
            "Epoch 140/300\n",
            "1/1 [==============================] - 0s 7ms/step - loss: 0.0059\n",
            "Epoch 141/300\n",
            "1/1 [==============================] - 0s 9ms/step - loss: 0.0842\n",
            "Epoch 142/300\n",
            "1/1 [==============================] - 0s 9ms/step - loss: 0.1798\n",
            "Epoch 143/300\n",
            "1/1 [==============================] - 0s 8ms/step - loss: 0.2059\n",
            "Epoch 144/300\n",
            "1/1 [==============================] - 0s 7ms/step - loss: 0.1464\n",
            "Epoch 145/300\n",
            "1/1 [==============================] - 0s 6ms/step - loss: 0.0555\n",
            "Epoch 146/300\n",
            "1/1 [==============================] - 0s 6ms/step - loss: 0.0029\n",
            "Epoch 147/300\n",
            "1/1 [==============================] - 0s 6ms/step - loss: 0.0165\n",
            "Epoch 148/300\n",
            "1/1 [==============================] - 0s 6ms/step - loss: 0.0676\n",
            "Epoch 149/300\n",
            "1/1 [==============================] - 0s 7ms/step - loss: 0.1038\n",
            "Epoch 150/300\n",
            "1/1 [==============================] - 0s 7ms/step - loss: 0.0943\n",
            "Epoch 151/300\n",
            "1/1 [==============================] - 0s 7ms/step - loss: 0.0507\n",
            "Epoch 152/300\n",
            "1/1 [==============================] - 0s 6ms/step - loss: 0.0102\n",
            "Epoch 153/300\n",
            "1/1 [==============================] - 0s 6ms/step - loss: 0.0012\n",
            "Epoch 154/300\n",
            "1/1 [==============================] - 0s 6ms/step - loss: 0.0219\n",
            "Epoch 155/300\n",
            "1/1 [==============================] - 0s 10ms/step - loss: 0.0474\n",
            "Epoch 156/300\n",
            "1/1 [==============================] - 0s 15ms/step - loss: 0.0535\n",
            "Epoch 157/300\n",
            "1/1 [==============================] - 0s 10ms/step - loss: 0.0365\n",
            "Epoch 158/300\n",
            "1/1 [==============================] - 0s 9ms/step - loss: 0.0124\n",
            "Epoch 159/300\n",
            "1/1 [==============================] - 0s 7ms/step - loss: 1.9477e-04\n",
            "Epoch 160/300\n",
            "1/1 [==============================] - 0s 7ms/step - loss: 0.0060\n",
            "Epoch 161/300\n",
            "1/1 [==============================] - 0s 7ms/step - loss: 0.0202\n",
            "Epoch 162/300\n",
            "1/1 [==============================] - 0s 6ms/step - loss: 0.0281\n",
            "Epoch 163/300\n",
            "1/1 [==============================] - 0s 6ms/step - loss: 0.0230\n",
            "Epoch 164/300\n",
            "1/1 [==============================] - 0s 7ms/step - loss: 0.0105\n",
            "Epoch 165/300\n",
            "1/1 [==============================] - 0s 7ms/step - loss: 0.0012\n",
            "Epoch 166/300\n",
            "1/1 [==============================] - 0s 7ms/step - loss: 0.0014\n",
            "Epoch 167/300\n",
            "1/1 [==============================] - 0s 15ms/step - loss: 0.0083\n",
            "Epoch 168/300\n",
            "1/1 [==============================] - 0s 6ms/step - loss: 0.0141\n",
            "Epoch 169/300\n",
            "1/1 [==============================] - 0s 6ms/step - loss: 0.0134\n",
            "Epoch 170/300\n",
            "1/1 [==============================] - 0s 8ms/step - loss: 0.0074\n",
            "Epoch 171/300\n",
            "1/1 [==============================] - 0s 6ms/step - loss: 0.0015\n",
            "Epoch 172/300\n",
            "1/1 [==============================] - 0s 7ms/step - loss: 2.2285e-04\n",
            "Epoch 173/300\n",
            "1/1 [==============================] - 0s 7ms/step - loss: 0.0033\n",
            "Epoch 174/300\n",
            "1/1 [==============================] - 0s 7ms/step - loss: 0.0069\n",
            "Epoch 175/300\n",
            "1/1 [==============================] - 0s 7ms/step - loss: 0.0074\n",
            "Epoch 176/300\n",
            "1/1 [==============================] - 0s 6ms/step - loss: 0.0046\n",
            "Epoch 177/300\n",
            "1/1 [==============================] - 0s 7ms/step - loss: 0.0013\n",
            "Epoch 178/300\n",
            "1/1 [==============================] - 0s 6ms/step - loss: 1.9463e-05\n",
            "Epoch 179/300\n",
            "1/1 [==============================] - 0s 7ms/step - loss: 0.0014\n",
            "Epoch 180/300\n",
            "1/1 [==============================] - 0s 6ms/step - loss: 0.0034\n",
            "Epoch 181/300\n",
            "1/1 [==============================] - 0s 6ms/step - loss: 0.0040\n",
            "Epoch 182/300\n",
            "1/1 [==============================] - 0s 7ms/step - loss: 0.0027\n",
            "Epoch 183/300\n",
            "1/1 [==============================] - 0s 6ms/step - loss: 8.7459e-04\n",
            "Epoch 184/300\n",
            "1/1 [==============================] - 0s 7ms/step - loss: 3.6248e-06\n",
            "Epoch 185/300\n",
            "1/1 [==============================] - 0s 7ms/step - loss: 5.7628e-04\n",
            "Epoch 186/300\n",
            "1/1 [==============================] - 0s 7ms/step - loss: 0.0017\n",
            "Epoch 187/300\n",
            "1/1 [==============================] - 0s 7ms/step - loss: 0.0021\n",
            "Epoch 188/300\n",
            "1/1 [==============================] - 0s 7ms/step - loss: 0.0016\n",
            "Epoch 189/300\n",
            "1/1 [==============================] - 0s 6ms/step - loss: 5.4216e-04\n",
            "Epoch 190/300\n",
            "1/1 [==============================] - 0s 6ms/step - loss: 8.2624e-06\n",
            "Epoch 191/300\n",
            "1/1 [==============================] - 0s 6ms/step - loss: 2.6809e-04\n",
            "Epoch 192/300\n",
            "1/1 [==============================] - 0s 6ms/step - loss: 8.7071e-04\n",
            "Epoch 193/300\n",
            "1/1 [==============================] - 0s 7ms/step - loss: 0.0011\n",
            "Epoch 194/300\n",
            "1/1 [==============================] - 0s 6ms/step - loss: 8.5280e-04\n",
            "Epoch 195/300\n",
            "1/1 [==============================] - 0s 7ms/step - loss: 3.0673e-04\n",
            "Epoch 196/300\n",
            "1/1 [==============================] - 0s 7ms/step - loss: 7.5420e-06\n",
            "Epoch 197/300\n",
            "1/1 [==============================] - 0s 6ms/step - loss: 1.3970e-04\n",
            "Epoch 198/300\n",
            "1/1 [==============================] - 0s 7ms/step - loss: 4.6553e-04\n",
            "Epoch 199/300\n",
            "1/1 [==============================] - 0s 6ms/step - loss: 6.1673e-04\n",
            "Epoch 200/300\n",
            "1/1 [==============================] - 0s 7ms/step - loss: 4.5590e-04\n",
            "Epoch 201/300\n",
            "1/1 [==============================] - 0s 6ms/step - loss: 1.6137e-04\n",
            "Epoch 202/300\n",
            "1/1 [==============================] - 0s 7ms/step - loss: 3.4686e-06\n",
            "Epoch 203/300\n",
            "1/1 [==============================] - 0s 7ms/step - loss: 8.1064e-05\n",
            "Epoch 204/300\n",
            "1/1 [==============================] - 0s 6ms/step - loss: 2.5835e-04\n",
            "Epoch 205/300\n",
            "1/1 [==============================] - 0s 6ms/step - loss: 3.3324e-04\n",
            "Epoch 206/300\n",
            "1/1 [==============================] - 0s 10ms/step - loss: 2.3698e-04\n",
            "Epoch 207/300\n",
            "1/1 [==============================] - 0s 7ms/step - loss: 7.6512e-05\n",
            "Epoch 208/300\n",
            "1/1 [==============================] - 0s 7ms/step - loss: 6.2782e-07\n",
            "Epoch 209/300\n",
            "1/1 [==============================] - 0s 6ms/step - loss: 5.2120e-05\n",
            "Epoch 210/300\n",
            "1/1 [==============================] - 0s 7ms/step - loss: 1.4694e-04\n",
            "Epoch 211/300\n",
            "1/1 [==============================] - 0s 6ms/step - loss: 1.7749e-04\n",
            "Epoch 212/300\n",
            "1/1 [==============================] - 0s 7ms/step - loss: 1.1800e-04\n",
            "Epoch 213/300\n",
            "1/1 [==============================] - 0s 6ms/step - loss: 3.2767e-05\n",
            "Epoch 214/300\n",
            "1/1 [==============================] - 0s 7ms/step - loss: 2.6951e-07\n",
            "Epoch 215/300\n",
            "1/1 [==============================] - 0s 7ms/step - loss: 3.4839e-05\n",
            "Epoch 216/300\n",
            "1/1 [==============================] - 0s 11ms/step - loss: 8.4794e-05\n",
            "Epoch 217/300\n",
            "1/1 [==============================] - 0s 13ms/step - loss: 9.4081e-05\n",
            "Epoch 218/300\n",
            "1/1 [==============================] - 0s 11ms/step - loss: 5.6388e-05\n",
            "Epoch 219/300\n",
            "1/1 [==============================] - 0s 6ms/step - loss: 1.2168e-05\n",
            "Epoch 220/300\n",
            "1/1 [==============================] - 0s 7ms/step - loss: 1.2717e-06\n",
            "Epoch 221/300\n",
            "1/1 [==============================] - 0s 6ms/step - loss: 2.4207e-05\n",
            "Epoch 222/300\n",
            "1/1 [==============================] - 0s 11ms/step - loss: 4.9273e-05\n",
            "Epoch 223/300\n",
            "1/1 [==============================] - 0s 10ms/step - loss: 4.9253e-05\n",
            "Epoch 224/300\n",
            "1/1 [==============================] - 0s 6ms/step - loss: 2.5533e-05\n",
            "Epoch 225/300\n",
            "1/1 [==============================] - 0s 6ms/step - loss: 3.5862e-06\n",
            "Epoch 226/300\n",
            "1/1 [==============================] - 0s 6ms/step - loss: 2.3896e-06\n",
            "Epoch 227/300\n",
            "1/1 [==============================] - 0s 6ms/step - loss: 1.7002e-05\n",
            "Epoch 228/300\n",
            "1/1 [==============================] - 0s 6ms/step - loss: 2.8856e-05\n",
            "Epoch 229/300\n",
            "1/1 [==============================] - 0s 6ms/step - loss: 2.4687e-05\n",
            "Epoch 230/300\n",
            "1/1 [==============================] - 0s 6ms/step - loss: 1.0421e-05\n",
            "Epoch 231/300\n",
            "1/1 [==============================] - 0s 6ms/step - loss: 5.7811e-07\n",
            "Epoch 232/300\n",
            "1/1 [==============================] - 0s 6ms/step - loss: 3.0840e-06\n",
            "Epoch 233/300\n",
            "1/1 [==============================] - 0s 9ms/step - loss: 1.1885e-05\n",
            "Epoch 234/300\n",
            "1/1 [==============================] - 0s 6ms/step - loss: 1.6211e-05\n",
            "Epoch 235/300\n",
            "1/1 [==============================] - 0s 6ms/step - loss: 1.1567e-05\n",
            "Epoch 236/300\n",
            "1/1 [==============================] - 0s 6ms/step - loss: 3.5475e-06\n",
            "Epoch 237/300\n",
            "1/1 [==============================] - 0s 6ms/step - loss: 2.1050e-08\n",
            "Epoch 238/300\n",
            "1/1 [==============================] - 0s 6ms/step - loss: 3.0570e-06\n",
            "Epoch 239/300\n",
            "1/1 [==============================] - 0s 6ms/step - loss: 7.6975e-06\n",
            "Epoch 240/300\n",
            "1/1 [==============================] - 0s 6ms/step - loss: 8.4563e-06\n",
            "Epoch 241/300\n",
            "1/1 [==============================] - 0s 6ms/step - loss: 4.9999e-06\n",
            "Epoch 242/300\n",
            "1/1 [==============================] - 0s 6ms/step - loss: 8.8663e-07\n",
            "Epoch 243/300\n",
            "1/1 [==============================] - 0s 6ms/step - loss: 1.9988e-07\n",
            "Epoch 244/300\n",
            "1/1 [==============================] - 0s 6ms/step - loss: 2.5896e-06\n",
            "Epoch 245/300\n",
            "1/1 [==============================] - 0s 6ms/step - loss: 4.7981e-06\n",
            "Epoch 246/300\n",
            "1/1 [==============================] - 0s 6ms/step - loss: 4.4106e-06\n",
            "Epoch 247/300\n",
            "1/1 [==============================] - 0s 6ms/step - loss: 1.9162e-06\n",
            "Epoch 248/300\n",
            "1/1 [==============================] - 0s 7ms/step - loss: 9.8562e-08\n",
            "Epoch 249/300\n",
            "1/1 [==============================] - 0s 6ms/step - loss: 5.1486e-07\n",
            "Epoch 250/300\n",
            "1/1 [==============================] - 0s 7ms/step - loss: 2.0543e-06\n",
            "Epoch 251/300\n",
            "1/1 [==============================] - 0s 7ms/step - loss: 2.8843e-06\n",
            "Epoch 252/300\n",
            "1/1 [==============================] - 0s 6ms/step - loss: 1.9306e-06\n",
            "Epoch 253/300\n",
            "1/1 [==============================] - 0s 7ms/step - loss: 5.8519e-07\n",
            "Epoch 254/300\n",
            "1/1 [==============================] - 0s 7ms/step - loss: 1.3456e-08\n",
            "Epoch 255/300\n",
            "1/1 [==============================] - 0s 6ms/step - loss: 6.5033e-07\n",
            "Epoch 256/300\n",
            "1/1 [==============================] - 0s 6ms/step - loss: 1.4592e-06\n",
            "Epoch 257/300\n",
            "1/1 [==============================] - 0s 6ms/step - loss: 1.4587e-06\n",
            "Epoch 258/300\n",
            "1/1 [==============================] - 0s 7ms/step - loss: 7.2596e-07\n",
            "Epoch 259/300\n",
            "1/1 [==============================] - 0s 7ms/step - loss: 7.4320e-08\n",
            "Epoch 260/300\n",
            "1/1 [==============================] - 0s 7ms/step - loss: 1.0055e-07\n",
            "Epoch 261/300\n",
            "1/1 [==============================] - 0s 6ms/step - loss: 5.7990e-07\n",
            "Epoch 262/300\n",
            "1/1 [==============================] - 0s 7ms/step - loss: 8.8380e-07\n",
            "Epoch 263/300\n",
            "1/1 [==============================] - 0s 6ms/step - loss: 6.4888e-07\n",
            "Epoch 264/300\n",
            "1/1 [==============================] - 0s 7ms/step - loss: 1.6455e-07\n",
            "Epoch 265/300\n",
            "1/1 [==============================] - 0s 7ms/step - loss: 2.9786e-09\n",
            "Epoch 266/300\n",
            "1/1 [==============================] - 0s 7ms/step - loss: 1.6210e-07\n",
            "Epoch 267/300\n",
            "1/1 [==============================] - 0s 7ms/step - loss: 4.4735e-07\n",
            "Epoch 268/300\n",
            "1/1 [==============================] - 0s 8ms/step - loss: 4.4763e-07\n",
            "Epoch 269/300\n",
            "1/1 [==============================] - 0s 7ms/step - loss: 1.9997e-07\n",
            "Epoch 270/300\n",
            "1/1 [==============================] - 0s 9ms/step - loss: 1.7923e-08\n",
            "Epoch 271/300\n",
            "1/1 [==============================] - 0s 6ms/step - loss: 4.9845e-08\n",
            "Epoch 272/300\n",
            "1/1 [==============================] - 0s 8ms/step - loss: 2.0084e-07\n",
            "Epoch 273/300\n",
            "1/1 [==============================] - 0s 7ms/step - loss: 2.4283e-07\n",
            "Epoch 274/300\n",
            "1/1 [==============================] - 0s 6ms/step - loss: 1.6332e-07\n",
            "Epoch 275/300\n",
            "1/1 [==============================] - 0s 6ms/step - loss: 4.9536e-08\n",
            "Epoch 276/300\n",
            "1/1 [==============================] - 0s 9ms/step - loss: 1.9586e-09\n",
            "Epoch 277/300\n",
            "1/1 [==============================] - 0s 8ms/step - loss: 4.9904e-08\n",
            "Epoch 278/300\n",
            "1/1 [==============================] - 0s 7ms/step - loss: 1.6058e-07\n",
            "Epoch 279/300\n",
            "1/1 [==============================] - 0s 7ms/step - loss: 1.6058e-07\n",
            "Epoch 280/300\n",
            "1/1 [==============================] - 0s 7ms/step - loss: 5.0206e-08\n",
            "Epoch 281/300\n",
            "1/1 [==============================] - 0s 7ms/step - loss: 2.1619e-09\n",
            "Epoch 282/300\n",
            "1/1 [==============================] - 0s 6ms/step - loss: 1.8190e-08\n",
            "Epoch 283/300\n",
            "1/1 [==============================] - 0s 6ms/step - loss: 7.2543e-08\n",
            "Epoch 284/300\n",
            "1/1 [==============================] - 0s 7ms/step - loss: 9.8525e-08\n",
            "Epoch 285/300\n",
            "1/1 [==============================] - 0s 7ms/step - loss: 5.0914e-08\n",
            "Epoch 286/300\n",
            "1/1 [==============================] - 0s 7ms/step - loss: 8.4176e-09\n",
            "Epoch 287/300\n",
            "1/1 [==============================] - 0s 7ms/step - loss: 2.1619e-09\n",
            "Epoch 288/300\n",
            "1/1 [==============================] - 0s 6ms/step - loss: 3.1733e-08\n",
            "Epoch 289/300\n",
            "1/1 [==============================] - 0s 6ms/step - loss: 4.9931e-08\n",
            "Epoch 290/300\n",
            "1/1 [==============================] - 0s 6ms/step - loss: 4.9258e-08\n",
            "Epoch 291/300\n",
            "1/1 [==============================] - 0s 6ms/step - loss: 8.1077e-09\n",
            "Epoch 292/300\n",
            "1/1 [==============================] - 0s 7ms/step - loss: 1.5484e-10\n",
            "Epoch 293/300\n",
            "1/1 [==============================] - 0s 6ms/step - loss: 8.3376e-09\n",
            "Epoch 294/300\n",
            "1/1 [==============================] - 0s 7ms/step - loss: 3.2116e-08\n",
            "Epoch 295/300\n",
            "1/1 [==============================] - 0s 7ms/step - loss: 3.2216e-08\n",
            "Epoch 296/300\n",
            "1/1 [==============================] - 0s 7ms/step - loss: 8.3230e-09\n",
            "Epoch 297/300\n",
            "1/1 [==============================] - 0s 7ms/step - loss: 2.0138e-09\n",
            "Epoch 298/300\n",
            "1/1 [==============================] - 0s 7ms/step - loss: 7.8228e-09\n",
            "Epoch 299/300\n",
            "1/1 [==============================] - 0s 6ms/step - loss: 1.7817e-08\n",
            "Epoch 300/300\n",
            "1/1 [==============================] - 0s 6ms/step - loss: 1.7817e-08\n"
          ]
        }
      ]
    },
    {
      "cell_type": "code",
      "source": [
        "#Hacer predicciones... Verificar si el resultado es el esperado\n",
        "f = modelo.predict([5778])\n",
        "print(f[0][0])"
      ],
      "metadata": {
        "id": "L18partWJO2b",
        "outputId": "59632840-3895-4079-b8e2-bcec9183051c",
        "colab": {
          "base_uri": "https://localhost:8080/"
        }
      },
      "execution_count": 36,
      "outputs": [
        {
          "output_type": "stream",
          "name": "stdout",
          "text": [
            "1/1 [==============================] - 0s 51ms/step\n",
            "10432.401\n"
          ]
        }
      ]
    },
    {
      "cell_type": "markdown",
      "source": [
        "ENTRENAR UNA AI PARA QUE APRENDA A LEER NUMEROS DEL 0 AL 9"
      ],
      "metadata": {
        "id": "xfy8Q8MkJax2"
      }
    },
    {
      "cell_type": "code",
      "source": [
        "#1. Importar las librerias.\n",
        "import tensorflow as tf\n",
        "import matplotlib.pyplot as plt\n",
        "import numpy as np\n",
        "import math\n",
        "import tensorflow_datasets as tfds"
      ],
      "metadata": {
        "id": "E9cn21BVJm8N"
      },
      "execution_count": 37,
      "outputs": []
    },
    {
      "cell_type": "code",
      "source": [
        "#2. cargamos nuestro dataset en variables\n",
        "dataset, metadata = tfds.load('mnist', as_supervised=True, with_info=True)\n",
        "datos_entrenamiento, datos_prueba = dataset[\"train\"], dataset[\"test\"]"
      ],
      "metadata": {
        "id": "5XGDH9tTJtlg",
        "outputId": "75f78920-3205-4f9e-8164-1ca0b7229fae",
        "colab": {
          "base_uri": "https://localhost:8080/",
          "height": 104,
          "referenced_widgets": [
            "8b5255de8e8349e0b0862a01a2723e76",
            "18f46e5c63ac47e7b0446da632c98f48",
            "1056c26f5a0a49b3a2057d9c03fd40a3",
            "eb0d7d4b7c7a40d2b82f969efd1d44c1",
            "31c0562e6b3443c68ba4ace505a3fca8",
            "3ac5e27e8c27498790f4ba30a9465cb1",
            "5e7b56c5d33f4e039dc8352ae1aecf02",
            "653ab77833094700b6cf5a638fecb2f9",
            "60d6201703e5488d905974495fabf3aa",
            "2707af54ff404109bb42a48d0e516e63",
            "cedda96b789a479394a5b5c6aa479a42"
          ]
        }
      },
      "execution_count": 38,
      "outputs": [
        {
          "output_type": "stream",
          "name": "stdout",
          "text": [
            "\u001b[1mDownloading and preparing dataset 11.06 MiB (download: 11.06 MiB, generated: 21.00 MiB, total: 32.06 MiB) to ~/tensorflow_datasets/mnist/3.0.1...\u001b[0m\n"
          ]
        },
        {
          "output_type": "display_data",
          "data": {
            "text/plain": [
              "Dl Completed...:   0%|          | 0/4 [00:00<?, ? file/s]"
            ],
            "application/vnd.jupyter.widget-view+json": {
              "version_major": 2,
              "version_minor": 0,
              "model_id": "8b5255de8e8349e0b0862a01a2723e76"
            }
          },
          "metadata": {}
        },
        {
          "output_type": "stream",
          "name": "stdout",
          "text": [
            "\u001b[1mDataset mnist downloaded and prepared to ~/tensorflow_datasets/mnist/3.0.1. Subsequent calls will reuse this data.\u001b[0m\n"
          ]
        }
      ]
    },
    {
      "cell_type": "code",
      "source": [
        "#3. Etiquetas de los datos son 10\n",
        "numeros_letras = [\"Cero\", \"Uno\", \"Dos\", \"Tres\", \"Cuatro\", \"Cinco\", \"Seis\", \"Siete\", \"Ocho\", \"Nueve\"]"
      ],
      "metadata": {
        "id": "UoFZ2ZwEJx6F"
      },
      "execution_count": 39,
      "outputs": []
    },
    {
      "cell_type": "code",
      "source": [
        "#4. obtener la cantidad de datos de entrenamiento y prueba\n",
        "print(metadata.splits)\n",
        "numeros_ejemplo_entrenamiento = metadata.splits[\"train\"].num_examples\n",
        "numeros_ejemplo_prueba = metadata.splits[\"test\"].num_examples"
      ],
      "metadata": {
        "id": "weUSRjj8J5wQ",
        "outputId": "86540627-fade-484a-ccf7-f644396733f3",
        "colab": {
          "base_uri": "https://localhost:8080/"
        }
      },
      "execution_count": 40,
      "outputs": [
        {
          "output_type": "stream",
          "name": "stdout",
          "text": [
            "{'test': <SplitInfo num_examples=10000, num_shards=1>, 'train': <SplitInfo num_examples=60000, num_shards=1>}\n"
          ]
        }
      ]
    },
    {
      "cell_type": "code",
      "source": [
        "#5. funcion normalizadora para convertir los valores  de 0 a 255 de los colores entre 0 y 1\n",
        "def normalizacion(img, labels):\n",
        "  img = tf.cast(img, tf.float32)\n",
        "  img /= 255 #150/255 = 0.58\n",
        "  return img, labels"
      ],
      "metadata": {
        "id": "bzc9A_rwKAwS"
      },
      "execution_count": 41,
      "outputs": []
    },
    {
      "cell_type": "code",
      "source": [
        "#6. Llamar la funcion normalizadora\n",
        "\"\"\"for img, label in datos_entrenamiento.take(1):\n",
        "  print( img.numpy()/255 )\n",
        "\"\"\"\n",
        "datos_entrenamiento = datos_entrenamiento.map(normalizacion)\n",
        "datos_prueba = datos_prueba.map(normalizacion)"
      ],
      "metadata": {
        "id": "kudIpQdcKHTM"
      },
      "execution_count": 42,
      "outputs": []
    },
    {
      "cell_type": "code",
      "source": [
        "#7. Arquitectura de la red neuronal.\n",
        "modelo = tf.keras.Sequential([\n",
        "    tf.keras.layers.Flatten(input_shape=(28,28,1)), #capa de entrada de 28*28*1 canal\n",
        "    tf.keras.layers.Dense(64, activation=tf.nn.relu), #capa oculta con 64 neuronas, con la funcion de activacion RELU, nos da valores entre 0 y 1\n",
        "    tf.keras.layers.Dense(64, activation=tf.nn.relu), #capa oculta con 64 neuronas, con la funcion de activacion RELU, nos da valores entre 0 y 1\n",
        "    tf.keras.layers.Dense(10, activation=tf.nn.softmax) #capa de salida con 10 neuronas, con la funcion de activacion softmax es exclusiva para clasificacion de imagenes\n",
        "])"
      ],
      "metadata": {
        "id": "6j5DsytdKNMS"
      },
      "execution_count": 43,
      "outputs": []
    },
    {
      "cell_type": "code",
      "source": [
        "#8. compilar el modelo\n",
        "modelo.compile(\n",
        "    optimizer=\"adam\",\n",
        "    loss=\"sparse_categorical_crossentropy\",\n",
        "    metrics=['accuracy']\n",
        ")\n"
      ],
      "metadata": {
        "id": "zaIc_qIbKVkt"
      },
      "execution_count": 46,
      "outputs": []
    },
    {
      "cell_type": "code",
      "source": [
        "#9. Entrenamineto por lote\n",
        "size_lote = 32\n",
        "datos_entrenamiento = datos_entrenamiento.repeat().shuffle(numeros_ejemplo_entrenamiento).batch(size_lote)\n",
        "datos_prueba = datos_prueba.repeat().shuffle(numeros_ejemplo_prueba).batch(size_lote)"
      ],
      "metadata": {
        "id": "_D2n4lXtKZ1a"
      },
      "execution_count": 47,
      "outputs": []
    },
    {
      "cell_type": "code",
      "source": [
        "#10 Realizamos el entrenamiento\n",
        "modelo.fit(datos_entrenamiento, epochs = 5,\n",
        "           steps_per_epoch=math.ceil(numeros_ejemplo_entrenamiento/size_lote))"
      ],
      "metadata": {
        "id": "cNVyYvrhKgV3",
        "outputId": "7cc9a124-8e60-4c8c-f0a5-63b156e50071",
        "colab": {
          "base_uri": "https://localhost:8080/"
        }
      },
      "execution_count": 48,
      "outputs": [
        {
          "output_type": "stream",
          "name": "stdout",
          "text": [
            "Epoch 1/5\n",
            "1875/1875 [==============================] - 21s 6ms/step - loss: 0.2701 - accuracy: 0.9218\n",
            "Epoch 2/5\n",
            "1875/1875 [==============================] - 10s 5ms/step - loss: 0.1202 - accuracy: 0.9641\n",
            "Epoch 3/5\n",
            "1875/1875 [==============================] - 9s 5ms/step - loss: 0.0910 - accuracy: 0.9730\n",
            "Epoch 4/5\n",
            "1875/1875 [==============================] - 8s 4ms/step - loss: 0.0698 - accuracy: 0.9785\n",
            "Epoch 5/5\n",
            "1875/1875 [==============================] - 8s 4ms/step - loss: 0.0591 - accuracy: 0.9812\n"
          ]
        },
        {
          "output_type": "execute_result",
          "data": {
            "text/plain": [
              "<keras.callbacks.History at 0x7ff2ce858fd0>"
            ]
          },
          "metadata": {},
          "execution_count": 48
        }
      ]
    },
    {
      "cell_type": "code",
      "source": [
        "#11. Evaluar el modelo con los datos de prueba\n",
        "test_loss, accuracy = modelo.evaluate(datos_prueba,steps=math.ceil(numeros_ejemplo_prueba/size_lote))\n",
        "print(\"resultado de la prueba\",test_loss, accuracy)"
      ],
      "metadata": {
        "id": "bonfvWlBKoB1",
        "outputId": "5ea69abc-4c81-41cc-e246-e01291a6291f",
        "colab": {
          "base_uri": "https://localhost:8080/"
        }
      },
      "execution_count": 49,
      "outputs": [
        {
          "output_type": "stream",
          "name": "stdout",
          "text": [
            "313/313 [==============================] - 2s 4ms/step - loss: 0.0916 - accuracy: 0.9722\n",
            "resultado de la prueba 0.09158700704574585 0.972244381904602\n"
          ]
        }
      ]
    },
    {
      "cell_type": "code",
      "source": [
        "#12. Graficar la salida para evaluar los resultados\n",
        "def graficar_imagen(i, predictions_array, true_labels, images):\n",
        "  predictions_array, true_labels, img = predictions_array[i], true_labels[i], images[i]\n",
        "  plt.grid(False)\n",
        "  plt.xticks([])\n",
        "  plt.yticks([])\n",
        "  plt.imshow(img[..., 0], cmap = plt.cm.binary)\n",
        "  \n",
        "  predicted_label = np.argmax(predictions_array)\n",
        "  if predicted_label == true_labels:\n",
        "    color = \"green\"\n",
        "    plt.xlabel(\"Prediccion: {}\".format(numeros_letras[predicted_label]), color = color)\n",
        "  else:\n",
        "    plt.xlabel(\"Prediccion: {}\".format(numeros_letras[predicted_label]), color = color)"
      ],
      "metadata": {
        "id": "8u7WITW0Kqr5"
      },
      "execution_count": 50,
      "outputs": []
    },
    {
      "cell_type": "code",
      "source": [
        "#pendiente pasos 12,14\n",
        "#13,15. Hacer una prediccion\n",
        "i = 0\n",
        "for miImg, etiqueta in datos_entrenamiento.take(1):\n",
        "  etiqueta = etiqueta.numpy()\n",
        "  img = miImg[i].numpy().reshape(1,28,28,1)\n",
        "  prediccion = modelo.predict(img, batch_size=1)\n",
        "\n",
        "valor_predicho = np.argmax(prediccion)\n",
        "print( valor_predicho, etiqueta[i] )\n",
        "\n",
        "plt.grid(False)\n",
        "plt.imshow(img[0,...,0], cmap=plt.cm.binary)\n",
        "plt.xlabel(\"Prediccion: {}\".format(numeros_letras[valor_predicho]), color=\"green\")"
      ],
      "metadata": {
        "id": "ggvjOwjeKywr",
        "outputId": "d56132b1-ae33-4841-9b63-fc9e6001d582",
        "colab": {
          "base_uri": "https://localhost:8080/",
          "height": 331
        }
      },
      "execution_count": 51,
      "outputs": [
        {
          "output_type": "stream",
          "name": "stdout",
          "text": [
            "1/1 [==============================] - 0s 63ms/step\n",
            "6 6\n"
          ]
        },
        {
          "output_type": "execute_result",
          "data": {
            "text/plain": [
              "Text(0.5, 0, 'Prediccion: Seis')"
            ]
          },
          "metadata": {},
          "execution_count": 51
        },
        {
          "output_type": "display_data",
          "data": {
            "text/plain": [
              "<Figure size 432x288 with 1 Axes>"
            ],
            "image/png": "[encoded data removed]"
          },
          "metadata": {
            "needs_background": "light"
          }
        }
      ]
    },
    {
      "cell_type": "markdown",
      "source": [
        "SEMANA 11 NUMEROS REDES NEURONALES PARTE 1"
      ],
      "metadata": {
        "id": "oUMIqosLLQBI"
      }
    },
    {
      "cell_type": "code",
      "source": [
        "#1. Importar las librerias\n",
        "import tensorflow as tf\n",
        "import matplotlib.pyplot as plt\n",
        "import numpy as np\n",
        "import math\n",
        "import tensorflow_datasets as tfds"
      ],
      "metadata": {
        "id": "tHKFpnwzLb85"
      },
      "execution_count": 52,
      "outputs": []
    },
    {
      "cell_type": "code",
      "source": [
        "#2. Cargamos nuestro dataset en variables\n",
        "dataset, metadata = tfds.load('fashion_mnist', as_supervised = True, with_info = True)\n",
        "#dataset, metadata = tfds.load('mnist', as_supervised = True, with_info = True)\n",
        "datos_entrenamiento, datos_prueba = dataset[\"train\"], dataset[\"test\"]\n",
        "print(datos_entrenamiento)"
      ],
      "metadata": {
        "id": "yQoWTIfxLld_",
        "outputId": "0efdd25a-b286-4b55-fed0-0a4aee620762",
        "colab": {
          "base_uri": "https://localhost:8080/",
          "height": 185,
          "referenced_widgets": [
            "81f6dbee825e476a8716c576bc64b11c",
            "4b731852c10e41a1bc32e3032886af80",
            "94b854d02b5e47ccadf3923c90ea49d7",
            "49feccb0ac4b419282360afe57ec3f6a",
            "bf53979e578a4402be6fa6b2e7c44d7e",
            "dd323d5d79bc4a9b942da4a2cee62529",
            "a10a14934a0f4ffab78cb76851786c78",
            "095969ac68cb443ab2ccb8fb0b202348",
            "15fa5d9346ce4eaea8aa8f836f47b1e8",
            "919265dc8092410a9acd3d90921bd68a",
            "a83c31f502074f1e8bf2c93a283fbde8",
            "f088fe09ffd444edb6f2243b89a92279",
            "eadd8f0b37dd45cb8d7558b951e79deb",
            "79dd8e461e3043d09dceffee4648c720",
            "1a3e5f1c1fc047758e92dbce588b01c0",
            "e6ccb3cb576f422b9956ff8e8792788f",
            "6b71f20326854ebaa08503071035e149",
            "84e9e51912df43dfa8941e865cbb11c6",
            "ca1109ca89df45ea8b2960dbfc4f111b",
            "f203cdeff1f7422297c0c607e92f1fa6",
            "1ccb4935c1bb437886d1237e791c8778",
            "f4a8ae8d312743e499dc577c72e1d802",
            "48783eb87a88451fa740d5984423ab97",
            "1736beba1d42498a983bdcfe35d7a1ac",
            "07d79a91d0c84fd1bd0b444e46f249ec",
            "2cef197ec9fd478b9bfe4fff483282ae",
            "9333f714946443f0b7e318de8bd56db7",
            "c819a4a27bde46eeac565871b9c7f95b",
            "5f02989b5b8a407981dedad77f33fa43",
            "5cfaae829ab54b00b4bc2c89d38897cd",
            "049a0d3ebd5944a88299bee92e22fa11",
            "bcddd5fe12a340149f23eb6b64170339",
            "da016af0101b40629b795ab4c175437b",
            "e25c1a434ba74240914bbe7b6200f7a9",
            "ba6f32616f874a079753d8bd2783273b",
            "ece874d6b7f24cb3b9c3ed9dabd94067",
            "d312b0bfda2a48219614ee9de40003b7",
            "e864cf9f58a8423aabf47ac3d03a8d0c",
            "ee1d71a7fd094a8c9cee5add9b932f01",
            "5f4f9ce1ab1842dfb3e5b9c10ce3379c",
            "3baffddd7fb44f6fa40c0a22b388b8b0",
            "4ff1f200d33c4f8d9e1d79555a9b1d2e",
            "24b04ac9a8624539998c54eb4895d349",
            "90c9767c54e242e5aea397c3b683e282",
            "bf9105060e0046bc8907972be6b7746a",
            "b0893b0f4bd342f09fd5fe9b2f5d296a",
            "dd7e183fce974979bb9c7618824d789a",
            "92922859a16d4c99b157b140369dd5c3",
            "26760528dc3c48bfb523b9340a193551",
            "5d4cf3b8bc7542fdb5f78e2ef5da0c8f",
            "115392ded37a4055848e63283c8777d1",
            "747a1112460141e6a4ca0d312712d859",
            "31a810d36b9e47538c9f2921252e7d11",
            "608c3c6397cf47b1987af1250470e820",
            "2a18ba83573c4e3f92b40c1f6910f721",
            "d40de79e544b4a75ad7e53fb331dcfe6",
            "7942c7d235cd4d9d9053beaab8a40884",
            "c8910de8130f4a3dadfda068b04300e7",
            "41db40de73d648cc8f27c908dcc79e33",
            "a8c171c6ec954bbd878cd44c22502ace",
            "fb9e49955ef34bcaac692ada0d3d93bf",
            "f36d882891814d789fc9768d3f7fb6f1",
            "00875e965381411c9ca92a33463359cd",
            "3d5f78964645404ba05a7bb2e0e02e07",
            "2ffdf09b33954fb48c0bfcc4efd1c415",
            "2b2fbc511e5e4f6ea257d33cc01cc8a5",
            "f24e25733e8e4e1597dc7cc98d3ae63c",
            "3f9f957bfa5045139d75c6f06a40374c",
            "9802c60f99d6477e9884cdbc830d8a88",
            "bb4b55fe5c0a45acb5c8d9013d3cff66",
            "5fcd637b61344acd81ee1b80186e6c17",
            "5428a7507442487e97ef0327d3173b8e",
            "1f71560bf1cf4339bef909da45a15262",
            "8d32efc3b2084298b498f101513d7896",
            "89654170653d48c3b676fc865e48b22d",
            "c416d16c2675416cb996741773740498",
            "6731b804a7fe4d0b91542f13b8b34490",
            "c275f68e513c41489caa08af7e550b2a",
            "100fddd38cd946b9a1b1b1b6ce01f876",
            "a85cb77560ae407ab3ba0270e26c3894",
            "5a71568f788444999d9467de88b78d83",
            "85db347f7d074ece88b638399e9743e8",
            "002347cf97e64a8680e99cd5cdbb9251",
            "48870b4e471c45c4a52a62cf73243314",
            "0a573e855ef643b2ad5147fc80dc7e9a",
            "2d7bc05a981c47feacb92e11ab028295",
            "2c3fe6b56392499e9c3b3f9ea57d2616",
            "c3b82fa1a4ac4160bc4efcb2406c6467"
          ]
        }
      },
      "execution_count": 53,
      "outputs": [
        {
          "output_type": "stream",
          "name": "stdout",
          "text": [
            "\u001b[1mDownloading and preparing dataset 29.45 MiB (download: 29.45 MiB, generated: 36.42 MiB, total: 65.87 MiB) to ~/tensorflow_datasets/fashion_mnist/3.0.1...\u001b[0m\n"
          ]
        },
        {
          "output_type": "display_data",
          "data": {
            "text/plain": [
              "Dl Completed...: 0 url [00:00, ? url/s]"
            ],
            "application/vnd.jupyter.widget-view+json": {
              "version_major": 2,
              "version_minor": 0,
              "model_id": "81f6dbee825e476a8716c576bc64b11c"
            }
          },
          "metadata": {}
        },
        {
          "output_type": "display_data",
          "data": {
            "text/plain": [
              "Dl Size...: 0 MiB [00:00, ? MiB/s]"
            ],
            "application/vnd.jupyter.widget-view+json": {
              "version_major": 2,
              "version_minor": 0,
              "model_id": "f088fe09ffd444edb6f2243b89a92279"
            }
          },
          "metadata": {}
        },
        {
          "output_type": "display_data",
          "data": {
            "text/plain": [
              "Extraction completed...: 0 file [00:00, ? file/s]"
            ],
            "application/vnd.jupyter.widget-view+json": {
              "version_major": 2,
              "version_minor": 0,
              "model_id": "48783eb87a88451fa740d5984423ab97"
            }
          },
          "metadata": {}
        },
        {
          "output_type": "display_data",
          "data": {
            "text/plain": [
              "Generating splits...:   0%|          | 0/2 [00:00<?, ? splits/s]"
            ],
            "application/vnd.jupyter.widget-view+json": {
              "version_major": 2,
              "version_minor": 0,
              "model_id": "e25c1a434ba74240914bbe7b6200f7a9"
            }
          },
          "metadata": {}
        },
        {
          "output_type": "display_data",
          "data": {
            "text/plain": [
              "Generating train examples...:   0%|          | 0/60000 [00:00<?, ? examples/s]"
            ],
            "application/vnd.jupyter.widget-view+json": {
              "version_major": 2,
              "version_minor": 0,
              "model_id": "bf9105060e0046bc8907972be6b7746a"
            }
          },
          "metadata": {}
        },
        {
          "output_type": "display_data",
          "data": {
            "text/plain": [
              "Shuffling ~/tensorflow_datasets/fashion_mnist/3.0.1.incompleteBF3O2E/fashion_mnist-train.tfrecord*...:   0%|  …"
            ],
            "application/vnd.jupyter.widget-view+json": {
              "version_major": 2,
              "version_minor": 0,
              "model_id": "d40de79e544b4a75ad7e53fb331dcfe6"
            }
          },
          "metadata": {}
        },
        {
          "output_type": "display_data",
          "data": {
            "text/plain": [
              "Generating test examples...:   0%|          | 0/10000 [00:00<?, ? examples/s]"
            ],
            "application/vnd.jupyter.widget-view+json": {
              "version_major": 2,
              "version_minor": 0,
              "model_id": "f24e25733e8e4e1597dc7cc98d3ae63c"
            }
          },
          "metadata": {}
        },
        {
          "output_type": "display_data",
          "data": {
            "text/plain": [
              "Shuffling ~/tensorflow_datasets/fashion_mnist/3.0.1.incompleteBF3O2E/fashion_mnist-test.tfrecord*...:   0%|   …"
            ],
            "application/vnd.jupyter.widget-view+json": {
              "version_major": 2,
              "version_minor": 0,
              "model_id": "c275f68e513c41489caa08af7e550b2a"
            }
          },
          "metadata": {}
        },
        {
          "output_type": "stream",
          "name": "stdout",
          "text": [
            "\u001b[1mDataset fashion_mnist downloaded and prepared to ~/tensorflow_datasets/fashion_mnist/3.0.1. Subsequent calls will reuse this data.\u001b[0m\n",
            "<PrefetchDataset element_spec=(TensorSpec(shape=(28, 28, 1), dtype=tf.uint8, name=None), TensorSpec(shape=(), dtype=tf.int64, name=None))>\n"
          ]
        }
      ]
    },
    {
      "cell_type": "code",
      "source": [
        "#3. Etiquetas de los datos\n",
        "#numeros_letras = [\"Cero\", \"Uno\", \"Dos\", \"Tres\", \"Cuatro\", \"Cinco\", \"Seis\", \"Siete\", \"Ocho\", \"Nueve\"]\n",
        "numeros_letras = [\"Botin\", \"Bolsa\", \"Abrigo\", \"Vestido\", \"Jersey\", \"Sandalia\", \"Camisa\", \"Zapatilla\", \"Camiseta\", \"Pantalon\"]"
      ],
      "metadata": {
        "id": "TVKt0Iu8Lm7v"
      },
      "execution_count": 54,
      "outputs": []
    },
    {
      "cell_type": "code",
      "source": [
        "#4. Obtener la cantidad de datos de entrenamiento y prueba\n",
        "#splits toma o separa, corta el array metadata para obtener split\n",
        "print(metadata.splits)\n",
        "\n",
        "numeros_ejemplo_entrenamiento = metadata.splits[\"train\"].num_examples \n",
        "numeros_ejemplo_prueba = metadata.splits[\"test\"].num_examples\n",
        "\n",
        "print(numeros_ejemplo_entrenamiento, numeros_ejemplo_prueba)"
      ],
      "metadata": {
        "id": "lsSS673YLucC",
        "outputId": "102e0c70-245a-406f-ea5c-eaad1bb23abd",
        "colab": {
          "base_uri": "https://localhost:8080/"
        }
      },
      "execution_count": 55,
      "outputs": [
        {
          "output_type": "stream",
          "name": "stdout",
          "text": [
            "{Split('train'): <SplitInfo num_examples=60000, num_shards=1>, Split('test'): <SplitInfo num_examples=10000, num_shards=1>}\n",
            "60000 10000\n"
          ]
        }
      ]
    },
    {
      "cell_type": "code",
      "source": [
        "#5. Funcion normalizadora para convertir los valores de 0 a 255 de los colores entre 0 y 1\n",
        "def normalizacion(img, label):\n",
        "  img = tf.cast(img, tf.float32)\n",
        "  img /= 255\n",
        "  return img, label"
      ],
      "metadata": {
        "id": "FjWhApWWLzvf"
      },
      "execution_count": 56,
      "outputs": []
    },
    {
      "cell_type": "code",
      "source": [
        "#6. Llamar la funciÃƒÂ³n normalizadora\n",
        "\"\"\"for img, label in datos_entrenamiento.take(1):\n",
        "  print(img.numpy()/255)\"\"\"\n",
        "datos_entrenamiento = datos_entrenamiento.map(normalizacion)\n",
        "datos_prueba = datos_prueba.map(normalizacion)"
      ],
      "metadata": {
        "id": "cEgLTTlOL4jS"
      },
      "execution_count": 57,
      "outputs": []
    },
    {
      "cell_type": "code",
      "source": [
        "#6. Llamar la funciÃƒÂ³n normalizadora\n",
        "\"\"\"for img, label in datos_entrenamiento.take(1):\n",
        "  print(img.numpy()/255)\"\"\"\n",
        "datos_entrenamiento = datos_entrenamiento.map(normalizacion)\n",
        "datos_prueba = datos_prueba.map(normalizacion)"
      ],
      "metadata": {
        "id": "T9Cx89B4MD4M"
      },
      "execution_count": 58,
      "outputs": []
    },
    {
      "cell_type": "code",
      "source": [
        "#7. Arquitectura de la red neuronal\n",
        "modelo = tf.keras.Sequential([\n",
        "    tf.keras.layers.Flatten(input_shape = (28, 28, 1)), #Aplanando una img a un solo canal. Capa de entrada de 28*28*1 canal. Las img tienen 3 canales cuando son de colores, pero como estas son a blanco y negro, solo tienen 1 canal, los tres colores de las img son RGB\n",
        "    tf.keras.layers.Dense(64, activation = tf.nn.relu), #Capa oculta con 64 neuronas, con la fun de acti \"relu: da valores entre 0 y 1\". Sigmoide da de -1 a 1, solo necesitan val positivos, 0 blanco y 1 negro\n",
        "    tf.keras.layers.Dense(64, activation = tf.nn.relu), #Capa oculta con 64 neuronas, con la fun de acti \"relu: da valores entre 0 y 1\". Sigmoide da de -1 a 1, solo necesitan val positivos, 0 blanco y 1 negro\n",
        "    tf.keras.layers.Dense(10, activation = tf.nn.softmax) #Capa de salida con 10 neuronas, con la funcion de activacion softmax, es exclusiva para clasificar obj, en este caso, imagenes\n",
        "])"
      ],
      "metadata": {
        "id": "ubP7_vyfMS5v"
      },
      "execution_count": 59,
      "outputs": []
    },
    {
      "cell_type": "code",
      "source": [
        "#8. Compilamos el modelo e indicamos  las  funciones  de  optimizaciÃƒÂ³n  y funciÃƒÂ³n de coste\n",
        "modelo.compile(\n",
        "    optimizer = \"adam\",\n",
        "    loss = \"sparse_categorical_crossentropy\",\n",
        "    metrics = ['accuracy'])"
      ],
      "metadata": {
        "id": "z5uUVfRLMYfi"
      },
      "execution_count": 60,
      "outputs": []
    },
    {
      "cell_type": "code",
      "source": [
        "#9. Entrenamiento por lotes\n",
        "batchsize = 32\n",
        "datos_entrenamiento = datos_entrenamiento.repeat().shuffle(numeros_ejemplo_entrenamiento).batch(batchsize)\n",
        "datos_prueba = datos_prueba.repeat().shuffle(numeros_ejemplo_prueba).batch(batchsize)"
      ],
      "metadata": {
        "id": "bTo7jHXWMdD5"
      },
      "execution_count": 61,
      "outputs": []
    },
    {
      "cell_type": "code",
      "source": [
        "#10. Entrenando el modelo de datos\n",
        "modelo.fit(datos_entrenamiento, epochs = 5,\n",
        "           steps_per_epoch = math.ceil(numeros_ejemplo_entrenamiento / batchsize))"
      ],
      "metadata": {
        "id": "GIAVsaFrMim2",
        "outputId": "b5c01ba7-eae6-4295-96e4-fb183f3807ce",
        "colab": {
          "base_uri": "https://localhost:8080/"
        }
      },
      "execution_count": 62,
      "outputs": [
        {
          "output_type": "stream",
          "name": "stdout",
          "text": [
            "Epoch 1/5\n",
            "1875/1875 [==============================] - 16s 5ms/step - loss: 0.9189 - accuracy: 0.6663\n",
            "Epoch 2/5\n",
            "1875/1875 [==============================] - 10s 5ms/step - loss: 0.5901 - accuracy: 0.7851\n",
            "Epoch 3/5\n",
            "1875/1875 [==============================] - 11s 6ms/step - loss: 0.5374 - accuracy: 0.8069\n",
            "Epoch 4/5\n",
            "1875/1875 [==============================] - 10s 5ms/step - loss: 0.5098 - accuracy: 0.8177\n",
            "Epoch 5/5\n",
            "1875/1875 [==============================] - 10s 5ms/step - loss: 0.4803 - accuracy: 0.8290\n"
          ]
        },
        {
          "output_type": "execute_result",
          "data": {
            "text/plain": [
              "<keras.callbacks.History at 0x7ff37452d3d0>"
            ]
          },
          "metadata": {},
          "execution_count": 62
        }
      ]
    },
    {
      "cell_type": "code",
      "source": [
        "#11. Evaluar el modelo con los datos de prueba\n",
        "test_loss, test_accuracy = modelo.evaluate(datos_prueba, steps = math.ceil(numeros_ejemplo_prueba / batchsize))\n",
        "print(\"Resultado de las pruebas\", test_loss, test_accuracy)"
      ],
      "metadata": {
        "id": "o2s46fC2Ms0L",
        "outputId": "cd94ebb0-86b8-4cae-c799-f6c258f354ec",
        "colab": {
          "base_uri": "https://localhost:8080/"
        }
      },
      "execution_count": 63,
      "outputs": [
        {
          "output_type": "stream",
          "name": "stdout",
          "text": [
            "313/313 [==============================] - 3s 4ms/step - loss: 0.5215 - accuracy: 0.8084\n",
            "Resultado de las pruebas 0.5215414762496948 0.8084065318107605\n"
          ]
        }
      ]
    },
    {
      "cell_type": "code",
      "source": [
        "#12. Graficar la salida para evaluar los resultados\n",
        "def graficar_imagen(i, predictions_array, true_labels, images):\n",
        "  predictions_array, true_labels, img = predictions_array[i], true_labels[i], images[i]\n",
        "  plt.grid(False)\n",
        "  plt.xticks([])\n",
        "  plt.yticks([])\n",
        "  plt.imshow(img[..., 0], cmap = plt.cm.binary)\n",
        "  \n",
        "  predicted_label = np.argmax(predictions_array)\n",
        "  if predicted_label == true_labels:\n",
        "    color = \"green\"\n",
        "    plt.xlabel(\"Prediccion: {}\".format(numeros_letras[predicted_label]))#, color = color)\n",
        "  else:\n",
        "    plt.xlabel(\"Prediccion: {}\".format(numeros_letras[predicted_label]))#, color = color)"
      ],
      "metadata": {
        "id": "tLW_qmCuMuU5"
      },
      "execution_count": 64,
      "outputs": []
    },
    {
      "cell_type": "code",
      "source": [
        "#13. Convertimos en matrices con numpy las imÃƒÂ¡genes\n",
        "for imagenes_prueba, etiquetas_prueba in datos_prueba.take(1):\n",
        "  imagenes_prueba = imagenes_prueba.numpy()\n",
        "  etiquetas_prueba = etiquetas_prueba.numpy()\n",
        "  predicciones = modelo.predict(imagenes_prueba)"
      ],
      "metadata": {
        "id": "lavRzDzGM-oN",
        "outputId": "639b5ae2-974a-48ad-f907-6c35b655fa95",
        "colab": {
          "base_uri": "https://localhost:8080/"
        }
      },
      "execution_count": 65,
      "outputs": [
        {
          "output_type": "stream",
          "name": "stdout",
          "text": [
            "1/1 [==============================] - 0s 55ms/step\n"
          ]
        }
      ]
    },
    {
      "cell_type": "code",
      "source": [
        "#14. Graficamos las matrices\n",
        "def graficar_valores_array(i, predictions_array, true_label):\n",
        "  predictions_array, true_label = predictions_array[i], true_label[i]\n",
        "  plt.grid(False)\n",
        "  plt.xticks([])\n",
        "  plt.yticks([])\n",
        "  thisplot = plt.bar(range(10), predictions_array, color = \"#888888\")\n",
        "  plt.ylim([0, 1])\n",
        "  predicted_label = np.argmax(predictions_array)\n",
        "\n",
        "  thisplot[predicted_label].set_color('red')\n",
        "  thisplot[true_label].set_color('blue')"
      ],
      "metadata": {
        "id": "QfAjr0mWNLJ1"
      },
      "execution_count": 66,
      "outputs": []
    },
    {
      "cell_type": "code",
      "source": [
        "#15. Se realiza la grafica por cada imagen de prueba\n",
        "numrows = 5\n",
        "numcols = 3\n",
        "numimages = numrows * numcols\n",
        "\n",
        "plt.figure(figsize = (2*2*numcols, 2*numrows))\n",
        "for i in range(numimages):\n",
        "  plt.subplot(numrows, 2*numcols, 2*i+1)\n",
        "  graficar_imagen(i, predicciones, etiquetas_prueba, imagenes_prueba)\n",
        "  plt.subplot(numrows, 2*numcols, 2*i+2)\n",
        "  graficar_valores_array(i, predicciones, etiquetas_prueba)\n",
        "\n",
        "plt.show()"
      ],
      "metadata": {
        "id": "rQyBS008NUHK",
        "outputId": "ea2c9c3d-f33c-4bec-c6f3-eef015b2b120",
        "colab": {
          "base_uri": "https://localhost:8080/",
          "height": 589
        }
      },
      "execution_count": 67,
      "outputs": [
        {
          "output_type": "display_data",
          "data": {
            "text/plain": [
              "<Figure size 864x720 with 30 Axes>"
            ],
            "image/png": "[encoded data removed]"
          },
          "metadata": {}
        }
      ]
    },
    {
      "cell_type": "code",
      "source": [
        "# Parcial II"
      ],
      "metadata": {
        "id": "PRqoLDjHACjL"
      },
      "execution_count": null,
      "outputs": []
    },
    {
      "cell_type": "code",
      "source": [
        "#importar librerias\n",
        "import tensorflow as tf\n",
        "import pandas as pd\n",
        "import matplotlib.pyplot as plt\n",
        "import seaborn as sb"
      ],
      "metadata": {
        "id": "N1URX54QAxc3"
      },
      "execution_count": 68,
      "outputs": []
    },
    {
      "cell_type": "code",
      "source": [
        "#leer datos de entrenamiento\n",
        "parcial = pd.read_csv(\"/content/parcial.csv\", sep=\";\")\n",
        "print(parcial[\"celsius\"], parcial[\"kelvin\"])"
      ],
      "metadata": {
        "id": "wWyyOqRLA1o1",
        "outputId": "2ee01fed-60c8-4676-ce8e-8d3b459b3069",
        "colab": {
          "base_uri": "https://localhost:8080/"
        }
      },
      "execution_count": 69,
      "outputs": [
        {
          "output_type": "stream",
          "name": "stdout",
          "text": [
            "0     120\n",
            "1      90\n",
            "2      85\n",
            "3      72\n",
            "4      66\n",
            "5      54\n",
            "6      49\n",
            "7      30\n",
            "8      25\n",
            "9      10\n",
            "10    -10\n",
            "11    -25\n",
            "12    -30\n",
            "13    -49\n",
            "14    -54\n",
            "15    -66\n",
            "16    -72\n",
            "17    -90\n",
            "18   -120\n",
            "Name: celsius, dtype: int64 0     393.15\n",
            "1     363.15\n",
            "2     358.15\n",
            "3     345.15\n",
            "4     339.15\n",
            "5     327.15\n",
            "6     322.15\n",
            "7     303.15\n",
            "8     298.15\n",
            "9     283.15\n",
            "10    263.15\n",
            "11    248.15\n",
            "12    243.15\n",
            "13    224.15\n",
            "14    219.15\n",
            "15    207.15\n",
            "16    201.15\n",
            "17    183.15\n",
            "18    153.15\n",
            "Name: kelvin, dtype: float64\n"
          ]
        }
      ]
    },
    {
      "cell_type": "code",
      "source": [
        "#graficar datos\n",
        "sb.barplot(parcial[\"celsius\"], parcial[\"kelvin\"])\n",
        "plt.show()"
      ],
      "metadata": {
        "id": "2VlpizkhA7GN",
        "outputId": "3a601667-d26d-4a55-e000-21b1e3c485e2",
        "colab": {
          "base_uri": "https://localhost:8080/",
          "height": 334
        }
      },
      "execution_count": 70,
      "outputs": [
        {
          "output_type": "stream",
          "name": "stderr",
          "text": [
            "/usr/local/lib/python3.7/dist-packages/seaborn/_decorators.py:43: FutureWarning: Pass the following variables as keyword args: x, y. From version 0.12, the only valid positional argument will be `data`, and passing other arguments without an explicit keyword will result in an error or misinterpretation.\n",
            "  FutureWarning\n"
          ]
        },
        {
          "output_type": "display_data",
          "data": {
            "text/plain": [
              "<Figure size 432x288 with 1 Axes>"
            ],
            "image/png": "[encoded data removed]"
          },
          "metadata": {
            "needs_background": "light"
          }
        }
      ]
    },
    {
      "cell_type": "code",
      "source": [
        "#datos de entrada y salida\n",
        "celsius = parcial[\"kelvin\"]\n",
        "fahrenheit = parcial[\"celsius\"]"
      ],
      "metadata": {
        "id": "JMVjVkyPA-Pi"
      },
      "execution_count": 71,
      "outputs": []
    },
    {
      "cell_type": "code",
      "source": [
        "#Modelo de entrenamiento\n",
        "modelo = tf.keras.Sequential()\n",
        "modelo.add(tf.keras.layers.Dense(units=1, input_shape=[1]))"
      ],
      "metadata": {
        "id": "3_5UwSrjBBga"
      },
      "execution_count": 72,
      "outputs": []
    },
    {
      "cell_type": "code",
      "source": [
        "#compilar modelo\n",
        "modelo.compile(optimizer=tf.keras.optimizers.Adam(1), loss='mean_squared_error')"
      ],
      "metadata": {
        "id": "g2DnPDMyBE_0"
      },
      "execution_count": 73,
      "outputs": []
    },
    {
      "cell_type": "code",
      "source": [
        "#Entrenar el modelo\n",
        "epocas = modelo.fit(celsius, fahrenheit, epochs=100, verbose=1)"
      ],
      "metadata": {
        "id": "RVr0r-j3BFcM",
        "outputId": "8ec2756f-cfe0-4888-dfe1-38d340201ec4",
        "colab": {
          "base_uri": "https://localhost:8080/"
        }
      },
      "execution_count": 74,
      "outputs": [
        {
          "output_type": "stream",
          "name": "stdout",
          "text": [
            "Epoch 1/100\n",
            "1/1 [==============================] - 0s 342ms/step - loss: 17691.2480\n",
            "Epoch 2/100\n",
            "1/1 [==============================] - 0s 18ms/step - loss: 32911.4688\n",
            "Epoch 3/100\n",
            "1/1 [==============================] - 0s 7ms/step - loss: 14631.2432\n",
            "Epoch 4/100\n",
            "1/1 [==============================] - 0s 6ms/step - loss: 4707.9355\n",
            "Epoch 5/100\n",
            "1/1 [==============================] - 0s 6ms/step - loss: 16474.7305\n",
            "Epoch 6/100\n",
            "1/1 [==============================] - 0s 6ms/step - loss: 15969.5459\n",
            "Epoch 7/100\n",
            "1/1 [==============================] - 0s 16ms/step - loss: 6435.0405\n",
            "Epoch 8/100\n",
            "1/1 [==============================] - 0s 8ms/step - loss: 4842.6108\n",
            "Epoch 9/100\n",
            "1/1 [==============================] - 0s 7ms/step - loss: 10698.4463\n",
            "Epoch 10/100\n",
            "1/1 [==============================] - 0s 7ms/step - loss: 11873.7256\n",
            "Epoch 11/100\n",
            "1/1 [==============================] - 0s 7ms/step - loss: 7018.3223\n",
            "Epoch 12/100\n",
            "1/1 [==============================] - 0s 7ms/step - loss: 4032.9873\n",
            "Epoch 13/100\n",
            "1/1 [==============================] - 0s 7ms/step - loss: 6353.8208\n",
            "Epoch 14/100\n",
            "1/1 [==============================] - 0s 7ms/step - loss: 9017.8730\n",
            "Epoch 15/100\n",
            "1/1 [==============================] - 0s 6ms/step - loss: 7647.5664\n",
            "Epoch 16/100\n",
            "1/1 [==============================] - 0s 6ms/step - loss: 4662.9888\n",
            "Epoch 17/100\n",
            "1/1 [==============================] - 0s 6ms/step - loss: 4286.2397\n",
            "Epoch 18/100\n",
            "1/1 [==============================] - 0s 6ms/step - loss: 6288.5557\n",
            "Epoch 19/100\n",
            "1/1 [==============================] - 0s 6ms/step - loss: 7063.4014\n",
            "Epoch 20/100\n",
            "1/1 [==============================] - 0s 9ms/step - loss: 5482.2607\n",
            "Epoch 21/100\n",
            "1/1 [==============================] - 0s 6ms/step - loss: 4033.6628\n",
            "Epoch 22/100\n",
            "1/1 [==============================] - 0s 10ms/step - loss: 4592.9282\n",
            "Epoch 23/100\n",
            "1/1 [==============================] - 0s 6ms/step - loss: 5809.4692\n",
            "Epoch 24/100\n",
            "1/1 [==============================] - 0s 7ms/step - loss: 5604.6064\n",
            "Epoch 25/100\n",
            "1/1 [==============================] - 0s 8ms/step - loss: 4382.9858\n",
            "Epoch 26/100\n",
            "1/1 [==============================] - 0s 8ms/step - loss: 3998.7183\n",
            "Epoch 27/100\n",
            "1/1 [==============================] - 0s 7ms/step - loss: 4758.5532\n",
            "Epoch 28/100\n",
            "1/1 [==============================] - 0s 7ms/step - loss: 5193.2979\n",
            "Epoch 29/100\n",
            "1/1 [==============================] - 0s 7ms/step - loss: 4585.8945\n",
            "Epoch 30/100\n",
            "1/1 [==============================] - 0s 7ms/step - loss: 3951.3679\n",
            "Epoch 31/100\n",
            "1/1 [==============================] - 0s 7ms/step - loss: 4187.3013\n",
            "Epoch 32/100\n",
            "1/1 [==============================] - 0s 12ms/step - loss: 4689.1875\n",
            "Epoch 33/100\n",
            "1/1 [==============================] - 0s 8ms/step - loss: 4536.2173\n",
            "Epoch 34/100\n",
            "1/1 [==============================] - 0s 11ms/step - loss: 4011.7241\n",
            "Epoch 35/100\n",
            "1/1 [==============================] - 0s 12ms/step - loss: 3955.0962\n",
            "Epoch 36/100\n",
            "1/1 [==============================] - 0s 11ms/step - loss: 4314.7705\n",
            "Epoch 37/100\n",
            "1/1 [==============================] - 0s 9ms/step - loss: 4368.8047\n",
            "Epoch 38/100\n",
            "1/1 [==============================] - 0s 8ms/step - loss: 4024.5215\n",
            "Epoch 39/100\n",
            "1/1 [==============================] - 0s 9ms/step - loss: 3872.8625\n",
            "Epoch 40/100\n",
            "1/1 [==============================] - 0s 9ms/step - loss: 4087.3413\n",
            "Epoch 41/100\n",
            "1/1 [==============================] - 0s 9ms/step - loss: 4193.8555\n",
            "Epoch 42/100\n",
            "1/1 [==============================] - 0s 11ms/step - loss: 3984.7109\n",
            "Epoch 43/100\n",
            "1/1 [==============================] - 0s 10ms/step - loss: 3835.0115\n",
            "Epoch 44/100\n",
            "1/1 [==============================] - 0s 13ms/step - loss: 3956.7808\n",
            "Epoch 45/100\n",
            "1/1 [==============================] - 0s 9ms/step - loss: 4051.7529\n",
            "Epoch 46/100\n",
            "1/1 [==============================] - 0s 9ms/step - loss: 3920.7820\n",
            "Epoch 47/100\n",
            "1/1 [==============================] - 0s 9ms/step - loss: 3803.8047\n",
            "Epoch 48/100\n",
            "1/1 [==============================] - 0s 9ms/step - loss: 3877.2805\n",
            "Epoch 49/100\n",
            "1/1 [==============================] - 0s 8ms/step - loss: 3943.6609\n",
            "Epoch 50/100\n",
            "1/1 [==============================] - 0s 7ms/step - loss: 3852.8762\n",
            "Epoch 51/100\n",
            "1/1 [==============================] - 0s 7ms/step - loss: 3771.5090\n",
            "Epoch 52/100\n",
            "1/1 [==============================] - 0s 7ms/step - loss: 3821.8198\n",
            "Epoch 53/100\n",
            "1/1 [==============================] - 0s 7ms/step - loss: 3859.7039\n",
            "Epoch 54/100\n",
            "1/1 [==============================] - 0s 8ms/step - loss: 3789.8035\n",
            "Epoch 55/100\n",
            "1/1 [==============================] - 0s 8ms/step - loss: 3738.8335\n",
            "Epoch 56/100\n",
            "1/1 [==============================] - 0s 9ms/step - loss: 3776.5588\n",
            "Epoch 57/100\n",
            "1/1 [==============================] - 0s 8ms/step - loss: 3790.4128\n",
            "Epoch 58/100\n",
            "1/1 [==============================] - 0s 8ms/step - loss: 3734.0300\n",
            "Epoch 59/100\n",
            "1/1 [==============================] - 0s 7ms/step - loss: 3707.0059\n",
            "Epoch 60/100\n",
            "1/1 [==============================] - 0s 8ms/step - loss: 3734.6086\n",
            "Epoch 61/100\n",
            "1/1 [==============================] - 0s 7ms/step - loss: 3729.8701\n",
            "Epoch 62/100\n",
            "1/1 [==============================] - 0s 7ms/step - loss: 3685.7363\n",
            "Epoch 63/100\n",
            "1/1 [==============================] - 0s 7ms/step - loss: 3675.9219\n",
            "Epoch 64/100\n",
            "1/1 [==============================] - 0s 9ms/step - loss: 3692.3757\n",
            "Epoch 65/100\n",
            "1/1 [==============================] - 0s 7ms/step - loss: 3675.2554\n",
            "Epoch 66/100\n",
            "1/1 [==============================] - 0s 7ms/step - loss: 3644.0945\n",
            "Epoch 67/100\n",
            "1/1 [==============================] - 0s 7ms/step - loss: 3644.2266\n",
            "Epoch 68/100\n",
            "1/1 [==============================] - 0s 7ms/step - loss: 3648.4622\n",
            "Epoch 69/100\n",
            "1/1 [==============================] - 0s 7ms/step - loss: 3625.9490\n",
            "Epoch 70/100\n",
            "1/1 [==============================] - 0s 7ms/step - loss: 3607.4705\n",
            "Epoch 71/100\n",
            "1/1 [==============================] - 0s 7ms/step - loss: 3610.0801\n",
            "Epoch 72/100\n",
            "1/1 [==============================] - 0s 7ms/step - loss: 3603.2327\n",
            "Epoch 73/100\n",
            "1/1 [==============================] - 0s 7ms/step - loss: 3582.0005\n",
            "Epoch 74/100\n",
            "1/1 [==============================] - 0s 7ms/step - loss: 3573.2747\n",
            "Epoch 75/100\n",
            "1/1 [==============================] - 0s 7ms/step - loss: 3572.3379\n",
            "Epoch 76/100\n",
            "1/1 [==============================] - 0s 7ms/step - loss: 3558.4688\n",
            "Epoch 77/100\n",
            "1/1 [==============================] - 0s 7ms/step - loss: 3542.8274\n",
            "Epoch 78/100\n",
            "1/1 [==============================] - 0s 8ms/step - loss: 3538.5386\n",
            "Epoch 79/100\n",
            "1/1 [==============================] - 0s 8ms/step - loss: 3531.4436\n",
            "Epoch 80/100\n",
            "1/1 [==============================] - 0s 7ms/step - loss: 3516.1167\n",
            "Epoch 81/100\n",
            "1/1 [==============================] - 0s 7ms/step - loss: 3506.4260\n",
            "Epoch 82/100\n",
            "1/1 [==============================] - 0s 7ms/step - loss: 3501.2012\n",
            "Epoch 83/100\n",
            "1/1 [==============================] - 0s 7ms/step - loss: 3489.4490\n",
            "Epoch 84/100\n",
            "1/1 [==============================] - 0s 7ms/step - loss: 3476.8564\n",
            "Epoch 85/100\n",
            "1/1 [==============================] - 0s 8ms/step - loss: 3470.0032\n",
            "Epoch 86/100\n",
            "1/1 [==============================] - 0s 8ms/step - loss: 3461.2163\n",
            "Epoch 87/100\n",
            "1/1 [==============================] - 0s 8ms/step - loss: 3448.6008\n",
            "Epoch 88/100\n",
            "1/1 [==============================] - 0s 12ms/step - loss: 3439.3901\n",
            "Epoch 89/100\n",
            "1/1 [==============================] - 0s 11ms/step - loss: 3431.6492\n",
            "Epoch 90/100\n",
            "1/1 [==============================] - 0s 9ms/step - loss: 3420.3569\n",
            "Epoch 91/100\n",
            "1/1 [==============================] - 0s 7ms/step - loss: 3409.6392\n",
            "Epoch 92/100\n",
            "1/1 [==============================] - 0s 8ms/step - loss: 3401.5164\n",
            "Epoch 93/100\n",
            "1/1 [==============================] - 0s 8ms/step - loss: 3391.5254\n",
            "Epoch 94/100\n",
            "1/1 [==============================] - 0s 9ms/step - loss: 3380.3843\n",
            "Epoch 95/100\n",
            "1/1 [==============================] - 0s 8ms/step - loss: 3371.3823\n",
            "Epoch 96/100\n",
            "1/1 [==============================] - 0s 8ms/step - loss: 3362.1023\n",
            "Epoch 97/100\n",
            "1/1 [==============================] - 0s 8ms/step - loss: 3351.1948\n",
            "Epoch 98/100\n",
            "1/1 [==============================] - 0s 8ms/step - loss: 3341.4268\n",
            "Epoch 99/100\n",
            "1/1 [==============================] - 0s 8ms/step - loss: 3332.2949\n",
            "Epoch 100/100\n",
            "1/1 [==============================] - 0s 7ms/step - loss: 3321.8196\n"
          ]
        }
      ]
    },
    {
      "cell_type": "code",
      "source": [
        "#Hacer predicciones... Verificar si el resultado es el esperado\n",
        "f = modelo.predict([234])\n",
        "print(f[0][0])"
      ],
      "metadata": {
        "id": "Et3z9jxbBM-6",
        "outputId": "9c9d753d-3509-4835-acb7-7043608f0620",
        "colab": {
          "base_uri": "https://localhost:8080/"
        }
      },
      "execution_count": 75,
      "outputs": [
        {
          "output_type": "stream",
          "name": "stderr",
          "text": [
            "WARNING:tensorflow:5 out of the last 5 calls to <function Model.make_predict_function.<locals>.predict_function at 0x7ff341e7b050> triggered tf.function retracing. Tracing is expensive and the excessive number of tracings could be due to (1) creating @tf.function repeatedly in a loop, (2) passing tensors with different shapes, (3) passing Python objects instead of tensors. For (1), please define your @tf.function outside of the loop. For (2), @tf.function has reduce_retracing=True option that can avoid unnecessary retracing. For (3), please refer to https://www.tensorflow.org/guide/function#controlling_retracing and https://www.tensorflow.org/api_docs/python/tf/function for  more details.\n"
          ]
        },
        {
          "output_type": "stream",
          "name": "stdout",
          "text": [
            "1/1 [==============================] - 0s 69ms/step\n",
            "10.624884\n"
          ]
        }
      ]
    }
  ],
  "metadata": {
    "colab": {
      "collapsed_sections": [],
      "name": "PracticaProg",
      "provenance": [],
      "include_colab_link": true
    },
    "kernelspec": {
      "display_name": "Python 3",
      "name": "python3"
    },
    "widgets": {
      "application/vnd.jupyter.widget-state+json": {
        "8b5255de8e8349e0b0862a01a2723e76": {
          "model_module": "@jupyter-widgets/controls",
          "model_name": "HBoxModel",
          "model_module_version": "1.5.0",
          "state": {
            "_dom_classes": [],
            "_model_module": "@jupyter-widgets/controls",
            "_model_module_version": "1.5.0",
            "_model_name": "HBoxModel",
            "_view_count": null,
            "_view_module": "@jupyter-widgets/controls",
            "_view_module_version": "1.5.0",
            "_view_name": "HBoxView",
            "box_style": "",
            "children": [
              "IPY_MODEL_18f46e5c63ac47e7b0446da632c98f48",
              "IPY_MODEL_1056c26f5a0a49b3a2057d9c03fd40a3",
              "IPY_MODEL_eb0d7d4b7c7a40d2b82f969efd1d44c1"
            ],
            "layout": "IPY_MODEL_31c0562e6b3443c68ba4ace505a3fca8"
          }
        },
        "18f46e5c63ac47e7b0446da632c98f48": {
          "model_module": "@jupyter-widgets/controls",
          "model_name": "HTMLModel",
          "model_module_version": "1.5.0",
          "state": {
            "_dom_classes": [],
            "_model_module": "@jupyter-widgets/controls",
            "_model_module_version": "1.5.0",
            "_model_name": "HTMLModel",
            "_view_count": null,
            "_view_module": "@jupyter-widgets/controls",
            "_view_module_version": "1.5.0",
            "_view_name": "HTMLView",
            "description": "",
            "description_tooltip": null,
            "layout": "IPY_MODEL_3ac5e27e8c27498790f4ba30a9465cb1",
            "placeholder": "​",
            "style": "IPY_MODEL_5e7b56c5d33f4e039dc8352ae1aecf02",
            "value": "Dl Completed...: 100%"
          }
        },
        "1056c26f5a0a49b3a2057d9c03fd40a3": {
          "model_module": "@jupyter-widgets/controls",
          "model_name": "FloatProgressModel",
          "model_module_version": "1.5.0",
          "state": {
            "_dom_classes": [],
            "_model_module": "@jupyter-widgets/controls",
            "_model_module_version": "1.5.0",
            "_model_name": "FloatProgressModel",
            "_view_count": null,
            "_view_module": "@jupyter-widgets/controls",
            "_view_module_version": "1.5.0",
            "_view_name": "ProgressView",
            "bar_style": "success",
            "description": "",
            "description_tooltip": null,
            "layout": "IPY_MODEL_653ab77833094700b6cf5a638fecb2f9",
            "max": 4,
            "min": 0,
            "orientation": "horizontal",
            "style": "IPY_MODEL_60d6201703e5488d905974495fabf3aa",
            "value": 4
          }
        },
        "eb0d7d4b7c7a40d2b82f969efd1d44c1": {
          "model_module": "@jupyter-widgets/controls",
          "model_name": "HTMLModel",
          "model_module_version": "1.5.0",
          "state": {
            "_dom_classes": [],
            "_model_module": "@jupyter-widgets/controls",
            "_model_module_version": "1.5.0",
            "_model_name": "HTMLModel",
            "_view_count": null,
            "_view_module": "@jupyter-widgets/controls",
            "_view_module_version": "1.5.0",
            "_view_name": "HTMLView",
            "description": "",
            "description_tooltip": null,
            "layout": "IPY_MODEL_2707af54ff404109bb42a48d0e516e63",
            "placeholder": "​",
            "style": "IPY_MODEL_cedda96b789a479394a5b5c6aa479a42",
            "value": " 4/4 [00:00&lt;00:00, 14.07 file/s]"
          }
        },
        "31c0562e6b3443c68ba4ace505a3fca8": {
          "model_module": "@jupyter-widgets/base",
          "model_name": "LayoutModel",
          "model_module_version": "1.2.0",
          "state": {
            "_model_module": "@jupyter-widgets/base",
            "_model_module_version": "1.2.0",
            "_model_name": "LayoutModel",
            "_view_count": null,
            "_view_module": "@jupyter-widgets/base",
            "_view_module_version": "1.2.0",
            "_view_name": "LayoutView",
            "align_content": null,
            "align_items": null,
            "align_self": null,
            "border": null,
            "bottom": null,
            "display": null,
            "flex": null,
            "flex_flow": null,
            "grid_area": null,
            "grid_auto_columns": null,
            "grid_auto_flow": null,
            "grid_auto_rows": null,
            "grid_column": null,
            "grid_gap": null,
            "grid_row": null,
            "grid_template_areas": null,
            "grid_template_columns": null,
            "grid_template_rows": null,
            "height": null,
            "justify_content": null,
            "justify_items": null,
            "left": null,
            "margin": null,
            "max_height": null,
            "max_width": null,
            "min_height": null,
            "min_width": null,
            "object_fit": null,
            "object_position": null,
            "order": null,
            "overflow": null,
            "overflow_x": null,
            "overflow_y": null,
            "padding": null,
            "right": null,
            "top": null,
            "visibility": null,
            "width": null
          }
        },
        "3ac5e27e8c27498790f4ba30a9465cb1": {
          "model_module": "@jupyter-widgets/base",
          "model_name": "LayoutModel",
          "model_module_version": "1.2.0",
          "state": {
            "_model_module": "@jupyter-widgets/base",
            "_model_module_version": "1.2.0",
            "_model_name": "LayoutModel",
            "_view_count": null,
            "_view_module": "@jupyter-widgets/base",
            "_view_module_version": "1.2.0",
            "_view_name": "LayoutView",
            "align_content": null,
            "align_items": null,
            "align_self": null,
            "border": null,
            "bottom": null,
            "display": null,
            "flex": null,
            "flex_flow": null,
            "grid_area": null,
            "grid_auto_columns": null,
            "grid_auto_flow": null,
            "grid_auto_rows": null,
            "grid_column": null,
            "grid_gap": null,
            "grid_row": null,
            "grid_template_areas": null,
            "grid_template_columns": null,
            "grid_template_rows": null,
            "height": null,
            "justify_content": null,
            "justify_items": null,
            "left": null,
            "margin": null,
            "max_height": null,
            "max_width": null,
            "min_height": null,
            "min_width": null,
            "object_fit": null,
            "object_position": null,
            "order": null,
            "overflow": null,
            "overflow_x": null,
            "overflow_y": null,
            "padding": null,
            "right": null,
            "top": null,
            "visibility": null,
            "width": null
          }
        },
        "5e7b56c5d33f4e039dc8352ae1aecf02": {
          "model_module": "@jupyter-widgets/controls",
          "model_name": "DescriptionStyleModel",
          "model_module_version": "1.5.0",
          "state": {
            "_model_module": "@jupyter-widgets/controls",
            "_model_module_version": "1.5.0",
            "_model_name": "DescriptionStyleModel",
            "_view_count": null,
            "_view_module": "@jupyter-widgets/base",
            "_view_module_version": "1.2.0",
            "_view_name": "StyleView",
            "description_width": ""
          }
        },
        "653ab77833094700b6cf5a638fecb2f9": {
          "model_module": "@jupyter-widgets/base",
          "model_name": "LayoutModel",
          "model_module_version": "1.2.0",
          "state": {
            "_model_module": "@jupyter-widgets/base",
            "_model_module_version": "1.2.0",
            "_model_name": "LayoutModel",
            "_view_count": null,
            "_view_module": "@jupyter-widgets/base",
            "_view_module_version": "1.2.0",
            "_view_name": "LayoutView",
            "align_content": null,
            "align_items": null,
            "align_self": null,
            "border": null,
            "bottom": null,
            "display": null,
            "flex": null,
            "flex_flow": null,
            "grid_area": null,
            "grid_auto_columns": null,
            "grid_auto_flow": null,
            "grid_auto_rows": null,
            "grid_column": null,
            "grid_gap": null,
            "grid_row": null,
            "grid_template_areas": null,
            "grid_template_columns": null,
            "grid_template_rows": null,
            "height": null,
            "justify_content": null,
            "justify_items": null,
            "left": null,
            "margin": null,
            "max_height": null,
            "max_width": null,
            "min_height": null,
            "min_width": null,
            "object_fit": null,
            "object_position": null,
            "order": null,
            "overflow": null,
            "overflow_x": null,
            "overflow_y": null,
            "padding": null,
            "right": null,
            "top": null,
            "visibility": null,
            "width": null
          }
        },
        "60d6201703e5488d905974495fabf3aa": {
          "model_module": "@jupyter-widgets/controls",
          "model_name": "ProgressStyleModel",
          "model_module_version": "1.5.0",
          "state": {
            "_model_module": "@jupyter-widgets/controls",
            "_model_module_version": "1.5.0",
            "_model_name": "ProgressStyleModel",
            "_view_count": null,
            "_view_module": "@jupyter-widgets/base",
            "_view_module_version": "1.2.0",
            "_view_name": "StyleView",
            "bar_color": null,
            "description_width": ""
          }
        },
        "2707af54ff404109bb42a48d0e516e63": {
          "model_module": "@jupyter-widgets/base",
          "model_name": "LayoutModel",
          "model_module_version": "1.2.0",
          "state": {
            "_model_module": "@jupyter-widgets/base",
            "_model_module_version": "1.2.0",
            "_model_name": "LayoutModel",
            "_view_count": null,
            "_view_module": "@jupyter-widgets/base",
            "_view_module_version": "1.2.0",
            "_view_name": "LayoutView",
            "align_content": null,
            "align_items": null,
            "align_self": null,
            "border": null,
            "bottom": null,
            "display": null,
            "flex": null,
            "flex_flow": null,
            "grid_area": null,
            "grid_auto_columns": null,
            "grid_auto_flow": null,
            "grid_auto_rows": null,
            "grid_column": null,
            "grid_gap": null,
            "grid_row": null,
            "grid_template_areas": null,
            "grid_template_columns": null,
            "grid_template_rows": null,
            "height": null,
            "justify_content": null,
            "justify_items": null,
            "left": null,
            "margin": null,
            "max_height": null,
            "max_width": null,
            "min_height": null,
            "min_width": null,
            "object_fit": null,
            "object_position": null,
            "order": null,
            "overflow": null,
            "overflow_x": null,
            "overflow_y": null,
            "padding": null,
            "right": null,
            "top": null,
            "visibility": null,
            "width": null
          }
        },
        "cedda96b789a479394a5b5c6aa479a42": {
          "model_module": "@jupyter-widgets/controls",
          "model_name": "DescriptionStyleModel",
          "model_module_version": "1.5.0",
          "state": {
            "_model_module": "@jupyter-widgets/controls",
            "_model_module_version": "1.5.0",
            "_model_name": "DescriptionStyleModel",
            "_view_count": null,
            "_view_module": "@jupyter-widgets/base",
            "_view_module_version": "1.2.0",
            "_view_name": "StyleView",
            "description_width": ""
          }
        },
        "81f6dbee825e476a8716c576bc64b11c": {
          "model_module": "@jupyter-widgets/controls",
          "model_name": "HBoxModel",
          "model_module_version": "1.5.0",
          "state": {
            "_dom_classes": [],
            "_model_module": "@jupyter-widgets/controls",
            "_model_module_version": "1.5.0",
            "_model_name": "HBoxModel",
            "_view_count": null,
            "_view_module": "@jupyter-widgets/controls",
            "_view_module_version": "1.5.0",
            "_view_name": "HBoxView",
            "box_style": "",
            "children": [
              "IPY_MODEL_4b731852c10e41a1bc32e3032886af80",
              "IPY_MODEL_94b854d02b5e47ccadf3923c90ea49d7",
              "IPY_MODEL_49feccb0ac4b419282360afe57ec3f6a"
            ],
            "layout": "IPY_MODEL_bf53979e578a4402be6fa6b2e7c44d7e"
          }
        },
        "4b731852c10e41a1bc32e3032886af80": {
          "model_module": "@jupyter-widgets/controls",
          "model_name": "HTMLModel",
          "model_module_version": "1.5.0",
          "state": {
            "_dom_classes": [],
            "_model_module": "@jupyter-widgets/controls",
            "_model_module_version": "1.5.0",
            "_model_name": "HTMLModel",
            "_view_count": null,
            "_view_module": "@jupyter-widgets/controls",
            "_view_module_version": "1.5.0",
            "_view_name": "HTMLView",
            "description": "",
            "description_tooltip": null,
            "layout": "IPY_MODEL_dd323d5d79bc4a9b942da4a2cee62529",
            "placeholder": "​",
            "style": "IPY_MODEL_a10a14934a0f4ffab78cb76851786c78",
            "value": "Dl Completed...: 100%"
          }
        },
        "94b854d02b5e47ccadf3923c90ea49d7": {
          "model_module": "@jupyter-widgets/controls",
          "model_name": "FloatProgressModel",
          "model_module_version": "1.5.0",
          "state": {
            "_dom_classes": [],
            "_model_module": "@jupyter-widgets/controls",
            "_model_module_version": "1.5.0",
            "_model_name": "FloatProgressModel",
            "_view_count": null,
            "_view_module": "@jupyter-widgets/controls",
            "_view_module_version": "1.5.0",
            "_view_name": "ProgressView",
            "bar_style": "success",
            "description": "",
            "description_tooltip": null,
            "layout": "IPY_MODEL_095969ac68cb443ab2ccb8fb0b202348",
            "max": 1,
            "min": 0,
            "orientation": "horizontal",
            "style": "IPY_MODEL_15fa5d9346ce4eaea8aa8f836f47b1e8",
            "value": 1
          }
        },
        "49feccb0ac4b419282360afe57ec3f6a": {
          "model_module": "@jupyter-widgets/controls",
          "model_name": "HTMLModel",
          "model_module_version": "1.5.0",
          "state": {
            "_dom_classes": [],
            "_model_module": "@jupyter-widgets/controls",
            "_model_module_version": "1.5.0",
            "_model_name": "HTMLModel",
            "_view_count": null,
            "_view_module": "@jupyter-widgets/controls",
            "_view_module_version": "1.5.0",
            "_view_name": "HTMLView",
            "description": "",
            "description_tooltip": null,
            "layout": "IPY_MODEL_919265dc8092410a9acd3d90921bd68a",
            "placeholder": "​",
            "style": "IPY_MODEL_a83c31f502074f1e8bf2c93a283fbde8",
            "value": " 4/4 [00:03&lt;00:00,  1.13 url/s]"
          }
        },
        "bf53979e578a4402be6fa6b2e7c44d7e": {
          "model_module": "@jupyter-widgets/base",
          "model_name": "LayoutModel",
          "model_module_version": "1.2.0",
          "state": {
            "_model_module": "@jupyter-widgets/base",
            "_model_module_version": "1.2.0",
            "_model_name": "LayoutModel",
            "_view_count": null,
            "_view_module": "@jupyter-widgets/base",
            "_view_module_version": "1.2.0",
            "_view_name": "LayoutView",
            "align_content": null,
            "align_items": null,
            "align_self": null,
            "border": null,
            "bottom": null,
            "display": null,
            "flex": null,
            "flex_flow": null,
            "grid_area": null,
            "grid_auto_columns": null,
            "grid_auto_flow": null,
            "grid_auto_rows": null,
            "grid_column": null,
            "grid_gap": null,
            "grid_row": null,
            "grid_template_areas": null,
            "grid_template_columns": null,
            "grid_template_rows": null,
            "height": null,
            "justify_content": null,
            "justify_items": null,
            "left": null,
            "margin": null,
            "max_height": null,
            "max_width": null,
            "min_height": null,
            "min_width": null,
            "object_fit": null,
            "object_position": null,
            "order": null,
            "overflow": null,
            "overflow_x": null,
            "overflow_y": null,
            "padding": null,
            "right": null,
            "top": null,
            "visibility": null,
            "width": null
          }
        },
        "dd323d5d79bc4a9b942da4a2cee62529": {
          "model_module": "@jupyter-widgets/base",
          "model_name": "LayoutModel",
          "model_module_version": "1.2.0",
          "state": {
            "_model_module": "@jupyter-widgets/base",
            "_model_module_version": "1.2.0",
            "_model_name": "LayoutModel",
            "_view_count": null,
            "_view_module": "@jupyter-widgets/base",
            "_view_module_version": "1.2.0",
            "_view_name": "LayoutView",
            "align_content": null,
            "align_items": null,
            "align_self": null,
            "border": null,
            "bottom": null,
            "display": null,
            "flex": null,
            "flex_flow": null,
            "grid_area": null,
            "grid_auto_columns": null,
            "grid_auto_flow": null,
            "grid_auto_rows": null,
            "grid_column": null,
            "grid_gap": null,
            "grid_row": null,
            "grid_template_areas": null,
            "grid_template_columns": null,
            "grid_template_rows": null,
            "height": null,
            "justify_content": null,
            "justify_items": null,
            "left": null,
            "margin": null,
            "max_height": null,
            "max_width": null,
            "min_height": null,
            "min_width": null,
            "object_fit": null,
            "object_position": null,
            "order": null,
            "overflow": null,
            "overflow_x": null,
            "overflow_y": null,
            "padding": null,
            "right": null,
            "top": null,
            "visibility": null,
            "width": null
          }
        },
        "a10a14934a0f4ffab78cb76851786c78": {
          "model_module": "@jupyter-widgets/controls",
          "model_name": "DescriptionStyleModel",
          "model_module_version": "1.5.0",
          "state": {
            "_model_module": "@jupyter-widgets/controls",
            "_model_module_version": "1.5.0",
            "_model_name": "DescriptionStyleModel",
            "_view_count": null,
            "_view_module": "@jupyter-widgets/base",
            "_view_module_version": "1.2.0",
            "_view_name": "StyleView",
            "description_width": ""
          }
        },
        "095969ac68cb443ab2ccb8fb0b202348": {
          "model_module": "@jupyter-widgets/base",
          "model_name": "LayoutModel",
          "model_module_version": "1.2.0",
          "state": {
            "_model_module": "@jupyter-widgets/base",
            "_model_module_version": "1.2.0",
            "_model_name": "LayoutModel",
            "_view_count": null,
            "_view_module": "@jupyter-widgets/base",
            "_view_module_version": "1.2.0",
            "_view_name": "LayoutView",
            "align_content": null,
            "align_items": null,
            "align_self": null,
            "border": null,
            "bottom": null,
            "display": null,
            "flex": null,
            "flex_flow": null,
            "grid_area": null,
            "grid_auto_columns": null,
            "grid_auto_flow": null,
            "grid_auto_rows": null,
            "grid_column": null,
            "grid_gap": null,
            "grid_row": null,
            "grid_template_areas": null,
            "grid_template_columns": null,
            "grid_template_rows": null,
            "height": null,
            "justify_content": null,
            "justify_items": null,
            "left": null,
            "margin": null,
            "max_height": null,
            "max_width": null,
            "min_height": null,
            "min_width": null,
            "object_fit": null,
            "object_position": null,
            "order": null,
            "overflow": null,
            "overflow_x": null,
            "overflow_y": null,
            "padding": null,
            "right": null,
            "top": null,
            "visibility": null,
            "width": "20px"
          }
        },
        "15fa5d9346ce4eaea8aa8f836f47b1e8": {
          "model_module": "@jupyter-widgets/controls",
          "model_name": "ProgressStyleModel",
          "model_module_version": "1.5.0",
          "state": {
            "_model_module": "@jupyter-widgets/controls",
            "_model_module_version": "1.5.0",
            "_model_name": "ProgressStyleModel",
            "_view_count": null,
            "_view_module": "@jupyter-widgets/base",
            "_view_module_version": "1.2.0",
            "_view_name": "StyleView",
            "bar_color": null,
            "description_width": ""
          }
        },
        "919265dc8092410a9acd3d90921bd68a": {
          "model_module": "@jupyter-widgets/base",
          "model_name": "LayoutModel",
          "model_module_version": "1.2.0",
          "state": {
            "_model_module": "@jupyter-widgets/base",
            "_model_module_version": "1.2.0",
            "_model_name": "LayoutModel",
            "_view_count": null,
            "_view_module": "@jupyter-widgets/base",
            "_view_module_version": "1.2.0",
            "_view_name": "LayoutView",
            "align_content": null,
            "align_items": null,
            "align_self": null,
            "border": null,
            "bottom": null,
            "display": null,
            "flex": null,
            "flex_flow": null,
            "grid_area": null,
            "grid_auto_columns": null,
            "grid_auto_flow": null,
            "grid_auto_rows": null,
            "grid_column": null,
            "grid_gap": null,
            "grid_row": null,
            "grid_template_areas": null,
            "grid_template_columns": null,
            "grid_template_rows": null,
            "height": null,
            "justify_content": null,
            "justify_items": null,
            "left": null,
            "margin": null,
            "max_height": null,
            "max_width": null,
            "min_height": null,
            "min_width": null,
            "object_fit": null,
            "object_position": null,
            "order": null,
            "overflow": null,
            "overflow_x": null,
            "overflow_y": null,
            "padding": null,
            "right": null,
            "top": null,
            "visibility": null,
            "width": null
          }
        },
        "a83c31f502074f1e8bf2c93a283fbde8": {
          "model_module": "@jupyter-widgets/controls",
          "model_name": "DescriptionStyleModel",
          "model_module_version": "1.5.0",
          "state": {
            "_model_module": "@jupyter-widgets/controls",
            "_model_module_version": "1.5.0",
            "_model_name": "DescriptionStyleModel",
            "_view_count": null,
            "_view_module": "@jupyter-widgets/base",
            "_view_module_version": "1.2.0",
            "_view_name": "StyleView",
            "description_width": ""
          }
        },
        "f088fe09ffd444edb6f2243b89a92279": {
          "model_module": "@jupyter-widgets/controls",
          "model_name": "HBoxModel",
          "model_module_version": "1.5.0",
          "state": {
            "_dom_classes": [],
            "_model_module": "@jupyter-widgets/controls",
            "_model_module_version": "1.5.0",
            "_model_name": "HBoxModel",
            "_view_count": null,
            "_view_module": "@jupyter-widgets/controls",
            "_view_module_version": "1.5.0",
            "_view_name": "HBoxView",
            "box_style": "",
            "children": [
              "IPY_MODEL_eadd8f0b37dd45cb8d7558b951e79deb",
              "IPY_MODEL_79dd8e461e3043d09dceffee4648c720",
              "IPY_MODEL_1a3e5f1c1fc047758e92dbce588b01c0"
            ],
            "layout": "IPY_MODEL_e6ccb3cb576f422b9956ff8e8792788f"
          }
        },
        "eadd8f0b37dd45cb8d7558b951e79deb": {
          "model_module": "@jupyter-widgets/controls",
          "model_name": "HTMLModel",
          "model_module_version": "1.5.0",
          "state": {
            "_dom_classes": [],
            "_model_module": "@jupyter-widgets/controls",
            "_model_module_version": "1.5.0",
            "_model_name": "HTMLModel",
            "_view_count": null,
            "_view_module": "@jupyter-widgets/controls",
            "_view_module_version": "1.5.0",
            "_view_name": "HTMLView",
            "description": "",
            "description_tooltip": null,
            "layout": "IPY_MODEL_6b71f20326854ebaa08503071035e149",
            "placeholder": "​",
            "style": "IPY_MODEL_84e9e51912df43dfa8941e865cbb11c6",
            "value": "Dl Size...: 100%"
          }
        },
        "79dd8e461e3043d09dceffee4648c720": {
          "model_module": "@jupyter-widgets/controls",
          "model_name": "FloatProgressModel",
          "model_module_version": "1.5.0",
          "state": {
            "_dom_classes": [],
            "_model_module": "@jupyter-widgets/controls",
            "_model_module_version": "1.5.0",
            "_model_name": "FloatProgressModel",
            "_view_count": null,
            "_view_module": "@jupyter-widgets/controls",
            "_view_module_version": "1.5.0",
            "_view_name": "ProgressView",
            "bar_style": "success",
            "description": "",
            "description_tooltip": null,
            "layout": "IPY_MODEL_ca1109ca89df45ea8b2960dbfc4f111b",
            "max": 1,
            "min": 0,
            "orientation": "horizontal",
            "style": "IPY_MODEL_f203cdeff1f7422297c0c607e92f1fa6",
            "value": 1
          }
        },
        "1a3e5f1c1fc047758e92dbce588b01c0": {
          "model_module": "@jupyter-widgets/controls",
          "model_name": "HTMLModel",
          "model_module_version": "1.5.0",
          "state": {
            "_dom_classes": [],
            "_model_module": "@jupyter-widgets/controls",
            "_model_module_version": "1.5.0",
            "_model_name": "HTMLModel",
            "_view_count": null,
            "_view_module": "@jupyter-widgets/controls",
            "_view_module_version": "1.5.0",
            "_view_name": "HTMLView",
            "description": "",
            "description_tooltip": null,
            "layout": "IPY_MODEL_1ccb4935c1bb437886d1237e791c8778",
            "placeholder": "​",
            "style": "IPY_MODEL_f4a8ae8d312743e499dc577c72e1d802",
            "value": " 29/29 [00:03&lt;00:00, 16.13 MiB/s]"
          }
        },
        "e6ccb3cb576f422b9956ff8e8792788f": {
          "model_module": "@jupyter-widgets/base",
          "model_name": "LayoutModel",
          "model_module_version": "1.2.0",
          "state": {
            "_model_module": "@jupyter-widgets/base",
            "_model_module_version": "1.2.0",
            "_model_name": "LayoutModel",
            "_view_count": null,
            "_view_module": "@jupyter-widgets/base",
            "_view_module_version": "1.2.0",
            "_view_name": "LayoutView",
            "align_content": null,
            "align_items": null,
            "align_self": null,
            "border": null,
            "bottom": null,
            "display": null,
            "flex": null,
            "flex_flow": null,
            "grid_area": null,
            "grid_auto_columns": null,
            "grid_auto_flow": null,
            "grid_auto_rows": null,
            "grid_column": null,
            "grid_gap": null,
            "grid_row": null,
            "grid_template_areas": null,
            "grid_template_columns": null,
            "grid_template_rows": null,
            "height": null,
            "justify_content": null,
            "justify_items": null,
            "left": null,
            "margin": null,
            "max_height": null,
            "max_width": null,
            "min_height": null,
            "min_width": null,
            "object_fit": null,
            "object_position": null,
            "order": null,
            "overflow": null,
            "overflow_x": null,
            "overflow_y": null,
            "padding": null,
            "right": null,
            "top": null,
            "visibility": null,
            "width": null
          }
        },
        "6b71f20326854ebaa08503071035e149": {
          "model_module": "@jupyter-widgets/base",
          "model_name": "LayoutModel",
          "model_module_version": "1.2.0",
          "state": {
            "_model_module": "@jupyter-widgets/base",
            "_model_module_version": "1.2.0",
            "_model_name": "LayoutModel",
            "_view_count": null,
            "_view_module": "@jupyter-widgets/base",
            "_view_module_version": "1.2.0",
            "_view_name": "LayoutView",
            "align_content": null,
            "align_items": null,
            "align_self": null,
            "border": null,
            "bottom": null,
            "display": null,
            "flex": null,
            "flex_flow": null,
            "grid_area": null,
            "grid_auto_columns": null,
            "grid_auto_flow": null,
            "grid_auto_rows": null,
            "grid_column": null,
            "grid_gap": null,
            "grid_row": null,
            "grid_template_areas": null,
            "grid_template_columns": null,
            "grid_template_rows": null,
            "height": null,
            "justify_content": null,
            "justify_items": null,
            "left": null,
            "margin": null,
            "max_height": null,
            "max_width": null,
            "min_height": null,
            "min_width": null,
            "object_fit": null,
            "object_position": null,
            "order": null,
            "overflow": null,
            "overflow_x": null,
            "overflow_y": null,
            "padding": null,
            "right": null,
            "top": null,
            "visibility": null,
            "width": null
          }
        },
        "84e9e51912df43dfa8941e865cbb11c6": {
          "model_module": "@jupyter-widgets/controls",
          "model_name": "DescriptionStyleModel",
          "model_module_version": "1.5.0",
          "state": {
            "_model_module": "@jupyter-widgets/controls",
            "_model_module_version": "1.5.0",
            "_model_name": "DescriptionStyleModel",
            "_view_count": null,
            "_view_module": "@jupyter-widgets/base",
            "_view_module_version": "1.2.0",
            "_view_name": "StyleView",
            "description_width": ""
          }
        },
        "ca1109ca89df45ea8b2960dbfc4f111b": {
          "model_module": "@jupyter-widgets/base",
          "model_name": "LayoutModel",
          "model_module_version": "1.2.0",
          "state": {
            "_model_module": "@jupyter-widgets/base",
            "_model_module_version": "1.2.0",
            "_model_name": "LayoutModel",
            "_view_count": null,
            "_view_module": "@jupyter-widgets/base",
            "_view_module_version": "1.2.0",
            "_view_name": "LayoutView",
            "align_content": null,
            "align_items": null,
            "align_self": null,
            "border": null,
            "bottom": null,
            "display": null,
            "flex": null,
            "flex_flow": null,
            "grid_area": null,
            "grid_auto_columns": null,
            "grid_auto_flow": null,
            "grid_auto_rows": null,
            "grid_column": null,
            "grid_gap": null,
            "grid_row": null,
            "grid_template_areas": null,
            "grid_template_columns": null,
            "grid_template_rows": null,
            "height": null,
            "justify_content": null,
            "justify_items": null,
            "left": null,
            "margin": null,
            "max_height": null,
            "max_width": null,
            "min_height": null,
            "min_width": null,
            "object_fit": null,
            "object_position": null,
            "order": null,
            "overflow": null,
            "overflow_x": null,
            "overflow_y": null,
            "padding": null,
            "right": null,
            "top": null,
            "visibility": null,
            "width": "20px"
          }
        },
        "f203cdeff1f7422297c0c607e92f1fa6": {
          "model_module": "@jupyter-widgets/controls",
          "model_name": "ProgressStyleModel",
          "model_module_version": "1.5.0",
          "state": {
            "_model_module": "@jupyter-widgets/controls",
            "_model_module_version": "1.5.0",
            "_model_name": "ProgressStyleModel",
            "_view_count": null,
            "_view_module": "@jupyter-widgets/base",
            "_view_module_version": "1.2.0",
            "_view_name": "StyleView",
            "bar_color": null,
            "description_width": ""
          }
        },
        "1ccb4935c1bb437886d1237e791c8778": {
          "model_module": "@jupyter-widgets/base",
          "model_name": "LayoutModel",
          "model_module_version": "1.2.0",
          "state": {
            "_model_module": "@jupyter-widgets/base",
            "_model_module_version": "1.2.0",
            "_model_name": "LayoutModel",
            "_view_count": null,
            "_view_module": "@jupyter-widgets/base",
            "_view_module_version": "1.2.0",
            "_view_name": "LayoutView",
            "align_content": null,
            "align_items": null,
            "align_self": null,
            "border": null,
            "bottom": null,
            "display": null,
            "flex": null,
            "flex_flow": null,
            "grid_area": null,
            "grid_auto_columns": null,
            "grid_auto_flow": null,
            "grid_auto_rows": null,
            "grid_column": null,
            "grid_gap": null,
            "grid_row": null,
            "grid_template_areas": null,
            "grid_template_columns": null,
            "grid_template_rows": null,
            "height": null,
            "justify_content": null,
            "justify_items": null,
            "left": null,
            "margin": null,
            "max_height": null,
            "max_width": null,
            "min_height": null,
            "min_width": null,
            "object_fit": null,
            "object_position": null,
            "order": null,
            "overflow": null,
            "overflow_x": null,
            "overflow_y": null,
            "padding": null,
            "right": null,
            "top": null,
            "visibility": null,
            "width": null
          }
        },
        "f4a8ae8d312743e499dc577c72e1d802": {
          "model_module": "@jupyter-widgets/controls",
          "model_name": "DescriptionStyleModel",
          "model_module_version": "1.5.0",
          "state": {
            "_model_module": "@jupyter-widgets/controls",
            "_model_module_version": "1.5.0",
            "_model_name": "DescriptionStyleModel",
            "_view_count": null,
            "_view_module": "@jupyter-widgets/base",
            "_view_module_version": "1.2.0",
            "_view_name": "StyleView",
            "description_width": ""
          }
        },
        "48783eb87a88451fa740d5984423ab97": {
          "model_module": "@jupyter-widgets/controls",
          "model_name": "HBoxModel",
          "model_module_version": "1.5.0",
          "state": {
            "_dom_classes": [],
            "_model_module": "@jupyter-widgets/controls",
            "_model_module_version": "1.5.0",
            "_model_name": "HBoxModel",
            "_view_count": null,
            "_view_module": "@jupyter-widgets/controls",
            "_view_module_version": "1.5.0",
            "_view_name": "HBoxView",
            "box_style": "",
            "children": [
              "IPY_MODEL_1736beba1d42498a983bdcfe35d7a1ac",
              "IPY_MODEL_07d79a91d0c84fd1bd0b444e46f249ec",
              "IPY_MODEL_2cef197ec9fd478b9bfe4fff483282ae"
            ],
            "layout": "IPY_MODEL_9333f714946443f0b7e318de8bd56db7"
          }
        },
        "1736beba1d42498a983bdcfe35d7a1ac": {
          "model_module": "@jupyter-widgets/controls",
          "model_name": "HTMLModel",
          "model_module_version": "1.5.0",
          "state": {
            "_dom_classes": [],
            "_model_module": "@jupyter-widgets/controls",
            "_model_module_version": "1.5.0",
            "_model_name": "HTMLModel",
            "_view_count": null,
            "_view_module": "@jupyter-widgets/controls",
            "_view_module_version": "1.5.0",
            "_view_name": "HTMLView",
            "description": "",
            "description_tooltip": null,
            "layout": "IPY_MODEL_c819a4a27bde46eeac565871b9c7f95b",
            "placeholder": "​",
            "style": "IPY_MODEL_5f02989b5b8a407981dedad77f33fa43",
            "value": "Extraction completed...: 100%"
          }
        },
        "07d79a91d0c84fd1bd0b444e46f249ec": {
          "model_module": "@jupyter-widgets/controls",
          "model_name": "FloatProgressModel",
          "model_module_version": "1.5.0",
          "state": {
            "_dom_classes": [],
            "_model_module": "@jupyter-widgets/controls",
            "_model_module_version": "1.5.0",
            "_model_name": "FloatProgressModel",
            "_view_count": null,
            "_view_module": "@jupyter-widgets/controls",
            "_view_module_version": "1.5.0",
            "_view_name": "ProgressView",
            "bar_style": "success",
            "description": "",
            "description_tooltip": null,
            "layout": "IPY_MODEL_5cfaae829ab54b00b4bc2c89d38897cd",
            "max": 1,
            "min": 0,
            "orientation": "horizontal",
            "style": "IPY_MODEL_049a0d3ebd5944a88299bee92e22fa11",
            "value": 1
          }
        },
        "2cef197ec9fd478b9bfe4fff483282ae": {
          "model_module": "@jupyter-widgets/controls",
          "model_name": "HTMLModel",
          "model_module_version": "1.5.0",
          "state": {
            "_dom_classes": [],
            "_model_module": "@jupyter-widgets/controls",
            "_model_module_version": "1.5.0",
            "_model_name": "HTMLModel",
            "_view_count": null,
            "_view_module": "@jupyter-widgets/controls",
            "_view_module_version": "1.5.0",
            "_view_name": "HTMLView",
            "description": "",
            "description_tooltip": null,
            "layout": "IPY_MODEL_bcddd5fe12a340149f23eb6b64170339",
            "placeholder": "​",
            "style": "IPY_MODEL_da016af0101b40629b795ab4c175437b",
            "value": " 4/4 [00:03&lt;00:00,  1.06s/ file]"
          }
        },
        "9333f714946443f0b7e318de8bd56db7": {
          "model_module": "@jupyter-widgets/base",
          "model_name": "LayoutModel",
          "model_module_version": "1.2.0",
          "state": {
            "_model_module": "@jupyter-widgets/base",
            "_model_module_version": "1.2.0",
            "_model_name": "LayoutModel",
            "_view_count": null,
            "_view_module": "@jupyter-widgets/base",
            "_view_module_version": "1.2.0",
            "_view_name": "LayoutView",
            "align_content": null,
            "align_items": null,
            "align_self": null,
            "border": null,
            "bottom": null,
            "display": null,
            "flex": null,
            "flex_flow": null,
            "grid_area": null,
            "grid_auto_columns": null,
            "grid_auto_flow": null,
            "grid_auto_rows": null,
            "grid_column": null,
            "grid_gap": null,
            "grid_row": null,
            "grid_template_areas": null,
            "grid_template_columns": null,
            "grid_template_rows": null,
            "height": null,
            "justify_content": null,
            "justify_items": null,
            "left": null,
            "margin": null,
            "max_height": null,
            "max_width": null,
            "min_height": null,
            "min_width": null,
            "object_fit": null,
            "object_position": null,
            "order": null,
            "overflow": null,
            "overflow_x": null,
            "overflow_y": null,
            "padding": null,
            "right": null,
            "top": null,
            "visibility": null,
            "width": null
          }
        },
        "c819a4a27bde46eeac565871b9c7f95b": {
          "model_module": "@jupyter-widgets/base",
          "model_name": "LayoutModel",
          "model_module_version": "1.2.0",
          "state": {
            "_model_module": "@jupyter-widgets/base",
            "_model_module_version": "1.2.0",
            "_model_name": "LayoutModel",
            "_view_count": null,
            "_view_module": "@jupyter-widgets/base",
            "_view_module_version": "1.2.0",
            "_view_name": "LayoutView",
            "align_content": null,
            "align_items": null,
            "align_self": null,
            "border": null,
            "bottom": null,
            "display": null,
            "flex": null,
            "flex_flow": null,
            "grid_area": null,
            "grid_auto_columns": null,
            "grid_auto_flow": null,
            "grid_auto_rows": null,
            "grid_column": null,
            "grid_gap": null,
            "grid_row": null,
            "grid_template_areas": null,
            "grid_template_columns": null,
            "grid_template_rows": null,
            "height": null,
            "justify_content": null,
            "justify_items": null,
            "left": null,
            "margin": null,
            "max_height": null,
            "max_width": null,
            "min_height": null,
            "min_width": null,
            "object_fit": null,
            "object_position": null,
            "order": null,
            "overflow": null,
            "overflow_x": null,
            "overflow_y": null,
            "padding": null,
            "right": null,
            "top": null,
            "visibility": null,
            "width": null
          }
        },
        "5f02989b5b8a407981dedad77f33fa43": {
          "model_module": "@jupyter-widgets/controls",
          "model_name": "DescriptionStyleModel",
          "model_module_version": "1.5.0",
          "state": {
            "_model_module": "@jupyter-widgets/controls",
            "_model_module_version": "1.5.0",
            "_model_name": "DescriptionStyleModel",
            "_view_count": null,
            "_view_module": "@jupyter-widgets/base",
            "_view_module_version": "1.2.0",
            "_view_name": "StyleView",
            "description_width": ""
          }
        },
        "5cfaae829ab54b00b4bc2c89d38897cd": {
          "model_module": "@jupyter-widgets/base",
          "model_name": "LayoutModel",
          "model_module_version": "1.2.0",
          "state": {
            "_model_module": "@jupyter-widgets/base",
            "_model_module_version": "1.2.0",
            "_model_name": "LayoutModel",
            "_view_count": null,
            "_view_module": "@jupyter-widgets/base",
            "_view_module_version": "1.2.0",
            "_view_name": "LayoutView",
            "align_content": null,
            "align_items": null,
            "align_self": null,
            "border": null,
            "bottom": null,
            "display": null,
            "flex": null,
            "flex_flow": null,
            "grid_area": null,
            "grid_auto_columns": null,
            "grid_auto_flow": null,
            "grid_auto_rows": null,
            "grid_column": null,
            "grid_gap": null,
            "grid_row": null,
            "grid_template_areas": null,
            "grid_template_columns": null,
            "grid_template_rows": null,
            "height": null,
            "justify_content": null,
            "justify_items": null,
            "left": null,
            "margin": null,
            "max_height": null,
            "max_width": null,
            "min_height": null,
            "min_width": null,
            "object_fit": null,
            "object_position": null,
            "order": null,
            "overflow": null,
            "overflow_x": null,
            "overflow_y": null,
            "padding": null,
            "right": null,
            "top": null,
            "visibility": null,
            "width": "20px"
          }
        },
        "049a0d3ebd5944a88299bee92e22fa11": {
          "model_module": "@jupyter-widgets/controls",
          "model_name": "ProgressStyleModel",
          "model_module_version": "1.5.0",
          "state": {
            "_model_module": "@jupyter-widgets/controls",
            "_model_module_version": "1.5.0",
            "_model_name": "ProgressStyleModel",
            "_view_count": null,
            "_view_module": "@jupyter-widgets/base",
            "_view_module_version": "1.2.0",
            "_view_name": "StyleView",
            "bar_color": null,
            "description_width": ""
          }
        },
        "bcddd5fe12a340149f23eb6b64170339": {
          "model_module": "@jupyter-widgets/base",
          "model_name": "LayoutModel",
          "model_module_version": "1.2.0",
          "state": {
            "_model_module": "@jupyter-widgets/base",
            "_model_module_version": "1.2.0",
            "_model_name": "LayoutModel",
            "_view_count": null,
            "_view_module": "@jupyter-widgets/base",
            "_view_module_version": "1.2.0",
            "_view_name": "LayoutView",
            "align_content": null,
            "align_items": null,
            "align_self": null,
            "border": null,
            "bottom": null,
            "display": null,
            "flex": null,
            "flex_flow": null,
            "grid_area": null,
            "grid_auto_columns": null,
            "grid_auto_flow": null,
            "grid_auto_rows": null,
            "grid_column": null,
            "grid_gap": null,
            "grid_row": null,
            "grid_template_areas": null,
            "grid_template_columns": null,
            "grid_template_rows": null,
            "height": null,
            "justify_content": null,
            "justify_items": null,
            "left": null,
            "margin": null,
            "max_height": null,
            "max_width": null,
            "min_height": null,
            "min_width": null,
            "object_fit": null,
            "object_position": null,
            "order": null,
            "overflow": null,
            "overflow_x": null,
            "overflow_y": null,
            "padding": null,
            "right": null,
            "top": null,
            "visibility": null,
            "width": null
          }
        },
        "da016af0101b40629b795ab4c175437b": {
          "model_module": "@jupyter-widgets/controls",
          "model_name": "DescriptionStyleModel",
          "model_module_version": "1.5.0",
          "state": {
            "_model_module": "@jupyter-widgets/controls",
            "_model_module_version": "1.5.0",
            "_model_name": "DescriptionStyleModel",
            "_view_count": null,
            "_view_module": "@jupyter-widgets/base",
            "_view_module_version": "1.2.0",
            "_view_name": "StyleView",
            "description_width": ""
          }
        },
        "e25c1a434ba74240914bbe7b6200f7a9": {
          "model_module": "@jupyter-widgets/controls",
          "model_name": "HBoxModel",
          "model_module_version": "1.5.0",
          "state": {
            "_dom_classes": [],
            "_model_module": "@jupyter-widgets/controls",
            "_model_module_version": "1.5.0",
            "_model_name": "HBoxModel",
            "_view_count": null,
            "_view_module": "@jupyter-widgets/controls",
            "_view_module_version": "1.5.0",
            "_view_name": "HBoxView",
            "box_style": "",
            "children": [
              "IPY_MODEL_ba6f32616f874a079753d8bd2783273b",
              "IPY_MODEL_ece874d6b7f24cb3b9c3ed9dabd94067",
              "IPY_MODEL_d312b0bfda2a48219614ee9de40003b7"
            ],
            "layout": "IPY_MODEL_e864cf9f58a8423aabf47ac3d03a8d0c"
          }
        },
        "ba6f32616f874a079753d8bd2783273b": {
          "model_module": "@jupyter-widgets/controls",
          "model_name": "HTMLModel",
          "model_module_version": "1.5.0",
          "state": {
            "_dom_classes": [],
            "_model_module": "@jupyter-widgets/controls",
            "_model_module_version": "1.5.0",
            "_model_name": "HTMLModel",
            "_view_count": null,
            "_view_module": "@jupyter-widgets/controls",
            "_view_module_version": "1.5.0",
            "_view_name": "HTMLView",
            "description": "",
            "description_tooltip": null,
            "layout": "IPY_MODEL_ee1d71a7fd094a8c9cee5add9b932f01",
            "placeholder": "​",
            "style": "IPY_MODEL_5f4f9ce1ab1842dfb3e5b9c10ce3379c",
            "value": "Generating splits...: 100%"
          }
        },
        "ece874d6b7f24cb3b9c3ed9dabd94067": {
          "model_module": "@jupyter-widgets/controls",
          "model_name": "FloatProgressModel",
          "model_module_version": "1.5.0",
          "state": {
            "_dom_classes": [],
            "_model_module": "@jupyter-widgets/controls",
            "_model_module_version": "1.5.0",
            "_model_name": "FloatProgressModel",
            "_view_count": null,
            "_view_module": "@jupyter-widgets/controls",
            "_view_module_version": "1.5.0",
            "_view_name": "ProgressView",
            "bar_style": "",
            "description": "",
            "description_tooltip": null,
            "layout": "IPY_MODEL_3baffddd7fb44f6fa40c0a22b388b8b0",
            "max": 2,
            "min": 0,
            "orientation": "horizontal",
            "style": "IPY_MODEL_4ff1f200d33c4f8d9e1d79555a9b1d2e",
            "value": 2
          }
        },
        "d312b0bfda2a48219614ee9de40003b7": {
          "model_module": "@jupyter-widgets/controls",
          "model_name": "HTMLModel",
          "model_module_version": "1.5.0",
          "state": {
            "_dom_classes": [],
            "_model_module": "@jupyter-widgets/controls",
            "_model_module_version": "1.5.0",
            "_model_name": "HTMLModel",
            "_view_count": null,
            "_view_module": "@jupyter-widgets/controls",
            "_view_module_version": "1.5.0",
            "_view_name": "HTMLView",
            "description": "",
            "description_tooltip": null,
            "layout": "IPY_MODEL_24b04ac9a8624539998c54eb4895d349",
            "placeholder": "​",
            "style": "IPY_MODEL_90c9767c54e242e5aea397c3b683e282",
            "value": " 2/2 [00:27&lt;00:00, 12.24s/ splits]"
          }
        },
        "e864cf9f58a8423aabf47ac3d03a8d0c": {
          "model_module": "@jupyter-widgets/base",
          "model_name": "LayoutModel",
          "model_module_version": "1.2.0",
          "state": {
            "_model_module": "@jupyter-widgets/base",
            "_model_module_version": "1.2.0",
            "_model_name": "LayoutModel",
            "_view_count": null,
            "_view_module": "@jupyter-widgets/base",
            "_view_module_version": "1.2.0",
            "_view_name": "LayoutView",
            "align_content": null,
            "align_items": null,
            "align_self": null,
            "border": null,
            "bottom": null,
            "display": null,
            "flex": null,
            "flex_flow": null,
            "grid_area": null,
            "grid_auto_columns": null,
            "grid_auto_flow": null,
            "grid_auto_rows": null,
            "grid_column": null,
            "grid_gap": null,
            "grid_row": null,
            "grid_template_areas": null,
            "grid_template_columns": null,
            "grid_template_rows": null,
            "height": null,
            "justify_content": null,
            "justify_items": null,
            "left": null,
            "margin": null,
            "max_height": null,
            "max_width": null,
            "min_height": null,
            "min_width": null,
            "object_fit": null,
            "object_position": null,
            "order": null,
            "overflow": null,
            "overflow_x": null,
            "overflow_y": null,
            "padding": null,
            "right": null,
            "top": null,
            "visibility": "hidden",
            "width": null
          }
        },
        "ee1d71a7fd094a8c9cee5add9b932f01": {
          "model_module": "@jupyter-widgets/base",
          "model_name": "LayoutModel",
          "model_module_version": "1.2.0",
          "state": {
            "_model_module": "@jupyter-widgets/base",
            "_model_module_version": "1.2.0",
            "_model_name": "LayoutModel",
            "_view_count": null,
            "_view_module": "@jupyter-widgets/base",
            "_view_module_version": "1.2.0",
            "_view_name": "LayoutView",
            "align_content": null,
            "align_items": null,
            "align_self": null,
            "border": null,
            "bottom": null,
            "display": null,
            "flex": null,
            "flex_flow": null,
            "grid_area": null,
            "grid_auto_columns": null,
            "grid_auto_flow": null,
            "grid_auto_rows": null,
            "grid_column": null,
            "grid_gap": null,
            "grid_row": null,
            "grid_template_areas": null,
            "grid_template_columns": null,
            "grid_template_rows": null,
            "height": null,
            "justify_content": null,
            "justify_items": null,
            "left": null,
            "margin": null,
            "max_height": null,
            "max_width": null,
            "min_height": null,
            "min_width": null,
            "object_fit": null,
            "object_position": null,
            "order": null,
            "overflow": null,
            "overflow_x": null,
            "overflow_y": null,
            "padding": null,
            "right": null,
            "top": null,
            "visibility": null,
            "width": null
          }
        },
        "5f4f9ce1ab1842dfb3e5b9c10ce3379c": {
          "model_module": "@jupyter-widgets/controls",
          "model_name": "DescriptionStyleModel",
          "model_module_version": "1.5.0",
          "state": {
            "_model_module": "@jupyter-widgets/controls",
            "_model_module_version": "1.5.0",
            "_model_name": "DescriptionStyleModel",
            "_view_count": null,
            "_view_module": "@jupyter-widgets/base",
            "_view_module_version": "1.2.0",
            "_view_name": "StyleView",
            "description_width": ""
          }
        },
        "3baffddd7fb44f6fa40c0a22b388b8b0": {
          "model_module": "@jupyter-widgets/base",
          "model_name": "LayoutModel",
          "model_module_version": "1.2.0",
          "state": {
            "_model_module": "@jupyter-widgets/base",
            "_model_module_version": "1.2.0",
            "_model_name": "LayoutModel",
            "_view_count": null,
            "_view_module": "@jupyter-widgets/base",
            "_view_module_version": "1.2.0",
            "_view_name": "LayoutView",
            "align_content": null,
            "align_items": null,
            "align_self": null,
            "border": null,
            "bottom": null,
            "display": null,
            "flex": null,
            "flex_flow": null,
            "grid_area": null,
            "grid_auto_columns": null,
            "grid_auto_flow": null,
            "grid_auto_rows": null,
            "grid_column": null,
            "grid_gap": null,
            "grid_row": null,
            "grid_template_areas": null,
            "grid_template_columns": null,
            "grid_template_rows": null,
            "height": null,
            "justify_content": null,
            "justify_items": null,
            "left": null,
            "margin": null,
            "max_height": null,
            "max_width": null,
            "min_height": null,
            "min_width": null,
            "object_fit": null,
            "object_position": null,
            "order": null,
            "overflow": null,
            "overflow_x": null,
            "overflow_y": null,
            "padding": null,
            "right": null,
            "top": null,
            "visibility": null,
            "width": null
          }
        },
        "4ff1f200d33c4f8d9e1d79555a9b1d2e": {
          "model_module": "@jupyter-widgets/controls",
          "model_name": "ProgressStyleModel",
          "model_module_version": "1.5.0",
          "state": {
            "_model_module": "@jupyter-widgets/controls",
            "_model_module_version": "1.5.0",
            "_model_name": "ProgressStyleModel",
            "_view_count": null,
            "_view_module": "@jupyter-widgets/base",
            "_view_module_version": "1.2.0",
            "_view_name": "StyleView",
            "bar_color": null,
            "description_width": ""
          }
        },
        "24b04ac9a8624539998c54eb4895d349": {
          "model_module": "@jupyter-widgets/base",
          "model_name": "LayoutModel",
          "model_module_version": "1.2.0",
          "state": {
            "_model_module": "@jupyter-widgets/base",
            "_model_module_version": "1.2.0",
            "_model_name": "LayoutModel",
            "_view_count": null,
            "_view_module": "@jupyter-widgets/base",
            "_view_module_version": "1.2.0",
            "_view_name": "LayoutView",
            "align_content": null,
            "align_items": null,
            "align_self": null,
            "border": null,
            "bottom": null,
            "display": null,
            "flex": null,
            "flex_flow": null,
            "grid_area": null,
            "grid_auto_columns": null,
            "grid_auto_flow": null,
            "grid_auto_rows": null,
            "grid_column": null,
            "grid_gap": null,
            "grid_row": null,
            "grid_template_areas": null,
            "grid_template_columns": null,
            "grid_template_rows": null,
            "height": null,
            "justify_content": null,
            "justify_items": null,
            "left": null,
            "margin": null,
            "max_height": null,
            "max_width": null,
            "min_height": null,
            "min_width": null,
            "object_fit": null,
            "object_position": null,
            "order": null,
            "overflow": null,
            "overflow_x": null,
            "overflow_y": null,
            "padding": null,
            "right": null,
            "top": null,
            "visibility": null,
            "width": null
          }
        },
        "90c9767c54e242e5aea397c3b683e282": {
          "model_module": "@jupyter-widgets/controls",
          "model_name": "DescriptionStyleModel",
          "model_module_version": "1.5.0",
          "state": {
            "_model_module": "@jupyter-widgets/controls",
            "_model_module_version": "1.5.0",
            "_model_name": "DescriptionStyleModel",
            "_view_count": null,
            "_view_module": "@jupyter-widgets/base",
            "_view_module_version": "1.2.0",
            "_view_name": "StyleView",
            "description_width": ""
          }
        },
        "bf9105060e0046bc8907972be6b7746a": {
          "model_module": "@jupyter-widgets/controls",
          "model_name": "HBoxModel",
          "model_module_version": "1.5.0",
          "state": {
            "_dom_classes": [],
            "_model_module": "@jupyter-widgets/controls",
            "_model_module_version": "1.5.0",
            "_model_name": "HBoxModel",
            "_view_count": null,
            "_view_module": "@jupyter-widgets/controls",
            "_view_module_version": "1.5.0",
            "_view_name": "HBoxView",
            "box_style": "",
            "children": [
              "IPY_MODEL_b0893b0f4bd342f09fd5fe9b2f5d296a",
              "IPY_MODEL_dd7e183fce974979bb9c7618824d789a",
              "IPY_MODEL_92922859a16d4c99b157b140369dd5c3"
            ],
            "layout": "IPY_MODEL_26760528dc3c48bfb523b9340a193551"
          }
        },
        "b0893b0f4bd342f09fd5fe9b2f5d296a": {
          "model_module": "@jupyter-widgets/controls",
          "model_name": "HTMLModel",
          "model_module_version": "1.5.0",
          "state": {
            "_dom_classes": [],
            "_model_module": "@jupyter-widgets/controls",
            "_model_module_version": "1.5.0",
            "_model_name": "HTMLModel",
            "_view_count": null,
            "_view_module": "@jupyter-widgets/controls",
            "_view_module_version": "1.5.0",
            "_view_name": "HTMLView",
            "description": "",
            "description_tooltip": null,
            "layout": "IPY_MODEL_5d4cf3b8bc7542fdb5f78e2ef5da0c8f",
            "placeholder": "​",
            "style": "IPY_MODEL_115392ded37a4055848e63283c8777d1",
            "value": "Generating train examples...: 100%"
          }
        },
        "dd7e183fce974979bb9c7618824d789a": {
          "model_module": "@jupyter-widgets/controls",
          "model_name": "FloatProgressModel",
          "model_module_version": "1.5.0",
          "state": {
            "_dom_classes": [],
            "_model_module": "@jupyter-widgets/controls",
            "_model_module_version": "1.5.0",
            "_model_name": "FloatProgressModel",
            "_view_count": null,
            "_view_module": "@jupyter-widgets/controls",
            "_view_module_version": "1.5.0",
            "_view_name": "ProgressView",
            "bar_style": "",
            "description": "",
            "description_tooltip": null,
            "layout": "IPY_MODEL_747a1112460141e6a4ca0d312712d859",
            "max": 60000,
            "min": 0,
            "orientation": "horizontal",
            "style": "IPY_MODEL_31a810d36b9e47538c9f2921252e7d11",
            "value": 60000
          }
        },
        "92922859a16d4c99b157b140369dd5c3": {
          "model_module": "@jupyter-widgets/controls",
          "model_name": "HTMLModel",
          "model_module_version": "1.5.0",
          "state": {
            "_dom_classes": [],
            "_model_module": "@jupyter-widgets/controls",
            "_model_module_version": "1.5.0",
            "_model_name": "HTMLModel",
            "_view_count": null,
            "_view_module": "@jupyter-widgets/controls",
            "_view_module_version": "1.5.0",
            "_view_name": "HTMLView",
            "description": "",
            "description_tooltip": null,
            "layout": "IPY_MODEL_608c3c6397cf47b1987af1250470e820",
            "placeholder": "​",
            "style": "IPY_MODEL_2a18ba83573c4e3f92b40c1f6910f721",
            "value": " 59927/60000 [00:23&lt;00:00, 2682.28 examples/s]"
          }
        },
        "26760528dc3c48bfb523b9340a193551": {
          "model_module": "@jupyter-widgets/base",
          "model_name": "LayoutModel",
          "model_module_version": "1.2.0",
          "state": {
            "_model_module": "@jupyter-widgets/base",
            "_model_module_version": "1.2.0",
            "_model_name": "LayoutModel",
            "_view_count": null,
            "_view_module": "@jupyter-widgets/base",
            "_view_module_version": "1.2.0",
            "_view_name": "LayoutView",
            "align_content": null,
            "align_items": null,
            "align_self": null,
            "border": null,
            "bottom": null,
            "display": null,
            "flex": null,
            "flex_flow": null,
            "grid_area": null,
            "grid_auto_columns": null,
            "grid_auto_flow": null,
            "grid_auto_rows": null,
            "grid_column": null,
            "grid_gap": null,
            "grid_row": null,
            "grid_template_areas": null,
            "grid_template_columns": null,
            "grid_template_rows": null,
            "height": null,
            "justify_content": null,
            "justify_items": null,
            "left": null,
            "margin": null,
            "max_height": null,
            "max_width": null,
            "min_height": null,
            "min_width": null,
            "object_fit": null,
            "object_position": null,
            "order": null,
            "overflow": null,
            "overflow_x": null,
            "overflow_y": null,
            "padding": null,
            "right": null,
            "top": null,
            "visibility": "hidden",
            "width": null
          }
        },
        "5d4cf3b8bc7542fdb5f78e2ef5da0c8f": {
          "model_module": "@jupyter-widgets/base",
          "model_name": "LayoutModel",
          "model_module_version": "1.2.0",
          "state": {
            "_model_module": "@jupyter-widgets/base",
            "_model_module_version": "1.2.0",
            "_model_name": "LayoutModel",
            "_view_count": null,
            "_view_module": "@jupyter-widgets/base",
            "_view_module_version": "1.2.0",
            "_view_name": "LayoutView",
            "align_content": null,
            "align_items": null,
            "align_self": null,
            "border": null,
            "bottom": null,
            "display": null,
            "flex": null,
            "flex_flow": null,
            "grid_area": null,
            "grid_auto_columns": null,
            "grid_auto_flow": null,
            "grid_auto_rows": null,
            "grid_column": null,
            "grid_gap": null,
            "grid_row": null,
            "grid_template_areas": null,
            "grid_template_columns": null,
            "grid_template_rows": null,
            "height": null,
            "justify_content": null,
            "justify_items": null,
            "left": null,
            "margin": null,
            "max_height": null,
            "max_width": null,
            "min_height": null,
            "min_width": null,
            "object_fit": null,
            "object_position": null,
            "order": null,
            "overflow": null,
            "overflow_x": null,
            "overflow_y": null,
            "padding": null,
            "right": null,
            "top": null,
            "visibility": null,
            "width": null
          }
        },
        "115392ded37a4055848e63283c8777d1": {
          "model_module": "@jupyter-widgets/controls",
          "model_name": "DescriptionStyleModel",
          "model_module_version": "1.5.0",
          "state": {
            "_model_module": "@jupyter-widgets/controls",
            "_model_module_version": "1.5.0",
            "_model_name": "DescriptionStyleModel",
            "_view_count": null,
            "_view_module": "@jupyter-widgets/base",
            "_view_module_version": "1.2.0",
            "_view_name": "StyleView",
            "description_width": ""
          }
        },
        "747a1112460141e6a4ca0d312712d859": {
          "model_module": "@jupyter-widgets/base",
          "model_name": "LayoutModel",
          "model_module_version": "1.2.0",
          "state": {
            "_model_module": "@jupyter-widgets/base",
            "_model_module_version": "1.2.0",
            "_model_name": "LayoutModel",
            "_view_count": null,
            "_view_module": "@jupyter-widgets/base",
            "_view_module_version": "1.2.0",
            "_view_name": "LayoutView",
            "align_content": null,
            "align_items": null,
            "align_self": null,
            "border": null,
            "bottom": null,
            "display": null,
            "flex": null,
            "flex_flow": null,
            "grid_area": null,
            "grid_auto_columns": null,
            "grid_auto_flow": null,
            "grid_auto_rows": null,
            "grid_column": null,
            "grid_gap": null,
            "grid_row": null,
            "grid_template_areas": null,
            "grid_template_columns": null,
            "grid_template_rows": null,
            "height": null,
            "justify_content": null,
            "justify_items": null,
            "left": null,
            "margin": null,
            "max_height": null,
            "max_width": null,
            "min_height": null,
            "min_width": null,
            "object_fit": null,
            "object_position": null,
            "order": null,
            "overflow": null,
            "overflow_x": null,
            "overflow_y": null,
            "padding": null,
            "right": null,
            "top": null,
            "visibility": null,
            "width": null
          }
        },
        "31a810d36b9e47538c9f2921252e7d11": {
          "model_module": "@jupyter-widgets/controls",
          "model_name": "ProgressStyleModel",
          "model_module_version": "1.5.0",
          "state": {
            "_model_module": "@jupyter-widgets/controls",
            "_model_module_version": "1.5.0",
            "_model_name": "ProgressStyleModel",
            "_view_count": null,
            "_view_module": "@jupyter-widgets/base",
            "_view_module_version": "1.2.0",
            "_view_name": "StyleView",
            "bar_color": null,
            "description_width": ""
          }
        },
        "608c3c6397cf47b1987af1250470e820": {
          "model_module": "@jupyter-widgets/base",
          "model_name": "LayoutModel",
          "model_module_version": "1.2.0",
          "state": {
            "_model_module": "@jupyter-widgets/base",
            "_model_module_version": "1.2.0",
            "_model_name": "LayoutModel",
            "_view_count": null,
            "_view_module": "@jupyter-widgets/base",
            "_view_module_version": "1.2.0",
            "_view_name": "LayoutView",
            "align_content": null,
            "align_items": null,
            "align_self": null,
            "border": null,
            "bottom": null,
            "display": null,
            "flex": null,
            "flex_flow": null,
            "grid_area": null,
            "grid_auto_columns": null,
            "grid_auto_flow": null,
            "grid_auto_rows": null,
            "grid_column": null,
            "grid_gap": null,
            "grid_row": null,
            "grid_template_areas": null,
            "grid_template_columns": null,
            "grid_template_rows": null,
            "height": null,
            "justify_content": null,
            "justify_items": null,
            "left": null,
            "margin": null,
            "max_height": null,
            "max_width": null,
            "min_height": null,
            "min_width": null,
            "object_fit": null,
            "object_position": null,
            "order": null,
            "overflow": null,
            "overflow_x": null,
            "overflow_y": null,
            "padding": null,
            "right": null,
            "top": null,
            "visibility": null,
            "width": null
          }
        },
        "2a18ba83573c4e3f92b40c1f6910f721": {
          "model_module": "@jupyter-widgets/controls",
          "model_name": "DescriptionStyleModel",
          "model_module_version": "1.5.0",
          "state": {
            "_model_module": "@jupyter-widgets/controls",
            "_model_module_version": "1.5.0",
            "_model_name": "DescriptionStyleModel",
            "_view_count": null,
            "_view_module": "@jupyter-widgets/base",
            "_view_module_version": "1.2.0",
            "_view_name": "StyleView",
            "description_width": ""
          }
        },
        "d40de79e544b4a75ad7e53fb331dcfe6": {
          "model_module": "@jupyter-widgets/controls",
          "model_name": "HBoxModel",
          "model_module_version": "1.5.0",
          "state": {
            "_dom_classes": [],
            "_model_module": "@jupyter-widgets/controls",
            "_model_module_version": "1.5.0",
            "_model_name": "HBoxModel",
            "_view_count": null,
            "_view_module": "@jupyter-widgets/controls",
            "_view_module_version": "1.5.0",
            "_view_name": "HBoxView",
            "box_style": "",
            "children": [
              "IPY_MODEL_7942c7d235cd4d9d9053beaab8a40884",
              "IPY_MODEL_c8910de8130f4a3dadfda068b04300e7",
              "IPY_MODEL_41db40de73d648cc8f27c908dcc79e33"
            ],
            "layout": "IPY_MODEL_a8c171c6ec954bbd878cd44c22502ace"
          }
        },
        "7942c7d235cd4d9d9053beaab8a40884": {
          "model_module": "@jupyter-widgets/controls",
          "model_name": "HTMLModel",
          "model_module_version": "1.5.0",
          "state": {
            "_dom_classes": [],
            "_model_module": "@jupyter-widgets/controls",
            "_model_module_version": "1.5.0",
            "_model_name": "HTMLModel",
            "_view_count": null,
            "_view_module": "@jupyter-widgets/controls",
            "_view_module_version": "1.5.0",
            "_view_name": "HTMLView",
            "description": "",
            "description_tooltip": null,
            "layout": "IPY_MODEL_fb9e49955ef34bcaac692ada0d3d93bf",
            "placeholder": "​",
            "style": "IPY_MODEL_f36d882891814d789fc9768d3f7fb6f1",
            "value": "Shuffling ~/tensorflow_datasets/fashion_mnist/3.0.1.incompleteBF3O2E/fashion_mnist-train.tfrecord*...:  79%"
          }
        },
        "c8910de8130f4a3dadfda068b04300e7": {
          "model_module": "@jupyter-widgets/controls",
          "model_name": "FloatProgressModel",
          "model_module_version": "1.5.0",
          "state": {
            "_dom_classes": [],
            "_model_module": "@jupyter-widgets/controls",
            "_model_module_version": "1.5.0",
            "_model_name": "FloatProgressModel",
            "_view_count": null,
            "_view_module": "@jupyter-widgets/controls",
            "_view_module_version": "1.5.0",
            "_view_name": "ProgressView",
            "bar_style": "",
            "description": "",
            "description_tooltip": null,
            "layout": "IPY_MODEL_00875e965381411c9ca92a33463359cd",
            "max": 60000,
            "min": 0,
            "orientation": "horizontal",
            "style": "IPY_MODEL_3d5f78964645404ba05a7bb2e0e02e07",
            "value": 60000
          }
        },
        "41db40de73d648cc8f27c908dcc79e33": {
          "model_module": "@jupyter-widgets/controls",
          "model_name": "HTMLModel",
          "model_module_version": "1.5.0",
          "state": {
            "_dom_classes": [],
            "_model_module": "@jupyter-widgets/controls",
            "_model_module_version": "1.5.0",
            "_model_name": "HTMLModel",
            "_view_count": null,
            "_view_module": "@jupyter-widgets/controls",
            "_view_module_version": "1.5.0",
            "_view_name": "HTMLView",
            "description": "",
            "description_tooltip": null,
            "layout": "IPY_MODEL_2ffdf09b33954fb48c0bfcc4efd1c415",
            "placeholder": "​",
            "style": "IPY_MODEL_2b2fbc511e5e4f6ea257d33cc01cc8a5",
            "value": " 47597/60000 [00:00&lt;00:00, 176917.52 examples/s]"
          }
        },
        "a8c171c6ec954bbd878cd44c22502ace": {
          "model_module": "@jupyter-widgets/base",
          "model_name": "LayoutModel",
          "model_module_version": "1.2.0",
          "state": {
            "_model_module": "@jupyter-widgets/base",
            "_model_module_version": "1.2.0",
            "_model_name": "LayoutModel",
            "_view_count": null,
            "_view_module": "@jupyter-widgets/base",
            "_view_module_version": "1.2.0",
            "_view_name": "LayoutView",
            "align_content": null,
            "align_items": null,
            "align_self": null,
            "border": null,
            "bottom": null,
            "display": null,
            "flex": null,
            "flex_flow": null,
            "grid_area": null,
            "grid_auto_columns": null,
            "grid_auto_flow": null,
            "grid_auto_rows": null,
            "grid_column": null,
            "grid_gap": null,
            "grid_row": null,
            "grid_template_areas": null,
            "grid_template_columns": null,
            "grid_template_rows": null,
            "height": null,
            "justify_content": null,
            "justify_items": null,
            "left": null,
            "margin": null,
            "max_height": null,
            "max_width": null,
            "min_height": null,
            "min_width": null,
            "object_fit": null,
            "object_position": null,
            "order": null,
            "overflow": null,
            "overflow_x": null,
            "overflow_y": null,
            "padding": null,
            "right": null,
            "top": null,
            "visibility": "hidden",
            "width": null
          }
        },
        "fb9e49955ef34bcaac692ada0d3d93bf": {
          "model_module": "@jupyter-widgets/base",
          "model_name": "LayoutModel",
          "model_module_version": "1.2.0",
          "state": {
            "_model_module": "@jupyter-widgets/base",
            "_model_module_version": "1.2.0",
            "_model_name": "LayoutModel",
            "_view_count": null,
            "_view_module": "@jupyter-widgets/base",
            "_view_module_version": "1.2.0",
            "_view_name": "LayoutView",
            "align_content": null,
            "align_items": null,
            "align_self": null,
            "border": null,
            "bottom": null,
            "display": null,
            "flex": null,
            "flex_flow": null,
            "grid_area": null,
            "grid_auto_columns": null,
            "grid_auto_flow": null,
            "grid_auto_rows": null,
            "grid_column": null,
            "grid_gap": null,
            "grid_row": null,
            "grid_template_areas": null,
            "grid_template_columns": null,
            "grid_template_rows": null,
            "height": null,
            "justify_content": null,
            "justify_items": null,
            "left": null,
            "margin": null,
            "max_height": null,
            "max_width": null,
            "min_height": null,
            "min_width": null,
            "object_fit": null,
            "object_position": null,
            "order": null,
            "overflow": null,
            "overflow_x": null,
            "overflow_y": null,
            "padding": null,
            "right": null,
            "top": null,
            "visibility": null,
            "width": null
          }
        },
        "f36d882891814d789fc9768d3f7fb6f1": {
          "model_module": "@jupyter-widgets/controls",
          "model_name": "DescriptionStyleModel",
          "model_module_version": "1.5.0",
          "state": {
            "_model_module": "@jupyter-widgets/controls",
            "_model_module_version": "1.5.0",
            "_model_name": "DescriptionStyleModel",
            "_view_count": null,
            "_view_module": "@jupyter-widgets/base",
            "_view_module_version": "1.2.0",
            "_view_name": "StyleView",
            "description_width": ""
          }
        },
        "00875e965381411c9ca92a33463359cd": {
          "model_module": "@jupyter-widgets/base",
          "model_name": "LayoutModel",
          "model_module_version": "1.2.0",
          "state": {
            "_model_module": "@jupyter-widgets/base",
            "_model_module_version": "1.2.0",
            "_model_name": "LayoutModel",
            "_view_count": null,
            "_view_module": "@jupyter-widgets/base",
            "_view_module_version": "1.2.0",
            "_view_name": "LayoutView",
            "align_content": null,
            "align_items": null,
            "align_self": null,
            "border": null,
            "bottom": null,
            "display": null,
            "flex": null,
            "flex_flow": null,
            "grid_area": null,
            "grid_auto_columns": null,
            "grid_auto_flow": null,
            "grid_auto_rows": null,
            "grid_column": null,
            "grid_gap": null,
            "grid_row": null,
            "grid_template_areas": null,
            "grid_template_columns": null,
            "grid_template_rows": null,
            "height": null,
            "justify_content": null,
            "justify_items": null,
            "left": null,
            "margin": null,
            "max_height": null,
            "max_width": null,
            "min_height": null,
            "min_width": null,
            "object_fit": null,
            "object_position": null,
            "order": null,
            "overflow": null,
            "overflow_x": null,
            "overflow_y": null,
            "padding": null,
            "right": null,
            "top": null,
            "visibility": null,
            "width": null
          }
        },
        "3d5f78964645404ba05a7bb2e0e02e07": {
          "model_module": "@jupyter-widgets/controls",
          "model_name": "ProgressStyleModel",
          "model_module_version": "1.5.0",
          "state": {
            "_model_module": "@jupyter-widgets/controls",
            "_model_module_version": "1.5.0",
            "_model_name": "ProgressStyleModel",
            "_view_count": null,
            "_view_module": "@jupyter-widgets/base",
            "_view_module_version": "1.2.0",
            "_view_name": "StyleView",
            "bar_color": null,
            "description_width": ""
          }
        },
        "2ffdf09b33954fb48c0bfcc4efd1c415": {
          "model_module": "@jupyter-widgets/base",
          "model_name": "LayoutModel",
          "model_module_version": "1.2.0",
          "state": {
            "_model_module": "@jupyter-widgets/base",
            "_model_module_version": "1.2.0",
            "_model_name": "LayoutModel",
            "_view_count": null,
            "_view_module": "@jupyter-widgets/base",
            "_view_module_version": "1.2.0",
            "_view_name": "LayoutView",
            "align_content": null,
            "align_items": null,
            "align_self": null,
            "border": null,
            "bottom": null,
            "display": null,
            "flex": null,
            "flex_flow": null,
            "grid_area": null,
            "grid_auto_columns": null,
            "grid_auto_flow": null,
            "grid_auto_rows": null,
            "grid_column": null,
            "grid_gap": null,
            "grid_row": null,
            "grid_template_areas": null,
            "grid_template_columns": null,
            "grid_template_rows": null,
            "height": null,
            "justify_content": null,
            "justify_items": null,
            "left": null,
            "margin": null,
            "max_height": null,
            "max_width": null,
            "min_height": null,
            "min_width": null,
            "object_fit": null,
            "object_position": null,
            "order": null,
            "overflow": null,
            "overflow_x": null,
            "overflow_y": null,
            "padding": null,
            "right": null,
            "top": null,
            "visibility": null,
            "width": null
          }
        },
        "2b2fbc511e5e4f6ea257d33cc01cc8a5": {
          "model_module": "@jupyter-widgets/controls",
          "model_name": "DescriptionStyleModel",
          "model_module_version": "1.5.0",
          "state": {
            "_model_module": "@jupyter-widgets/controls",
            "_model_module_version": "1.5.0",
            "_model_name": "DescriptionStyleModel",
            "_view_count": null,
            "_view_module": "@jupyter-widgets/base",
            "_view_module_version": "1.2.0",
            "_view_name": "StyleView",
            "description_width": ""
          }
        },
        "f24e25733e8e4e1597dc7cc98d3ae63c": {
          "model_module": "@jupyter-widgets/controls",
          "model_name": "HBoxModel",
          "model_module_version": "1.5.0",
          "state": {
            "_dom_classes": [],
            "_model_module": "@jupyter-widgets/controls",
            "_model_module_version": "1.5.0",
            "_model_name": "HBoxModel",
            "_view_count": null,
            "_view_module": "@jupyter-widgets/controls",
            "_view_module_version": "1.5.0",
            "_view_name": "HBoxView",
            "box_style": "",
            "children": [
              "IPY_MODEL_3f9f957bfa5045139d75c6f06a40374c",
              "IPY_MODEL_9802c60f99d6477e9884cdbc830d8a88",
              "IPY_MODEL_bb4b55fe5c0a45acb5c8d9013d3cff66"
            ],
            "layout": "IPY_MODEL_5fcd637b61344acd81ee1b80186e6c17"
          }
        },
        "3f9f957bfa5045139d75c6f06a40374c": {
          "model_module": "@jupyter-widgets/controls",
          "model_name": "HTMLModel",
          "model_module_version": "1.5.0",
          "state": {
            "_dom_classes": [],
            "_model_module": "@jupyter-widgets/controls",
            "_model_module_version": "1.5.0",
            "_model_name": "HTMLModel",
            "_view_count": null,
            "_view_module": "@jupyter-widgets/controls",
            "_view_module_version": "1.5.0",
            "_view_name": "HTMLView",
            "description": "",
            "description_tooltip": null,
            "layout": "IPY_MODEL_5428a7507442487e97ef0327d3173b8e",
            "placeholder": "​",
            "style": "IPY_MODEL_1f71560bf1cf4339bef909da45a15262",
            "value": "Generating test examples...:  98%"
          }
        },
        "9802c60f99d6477e9884cdbc830d8a88": {
          "model_module": "@jupyter-widgets/controls",
          "model_name": "FloatProgressModel",
          "model_module_version": "1.5.0",
          "state": {
            "_dom_classes": [],
            "_model_module": "@jupyter-widgets/controls",
            "_model_module_version": "1.5.0",
            "_model_name": "FloatProgressModel",
            "_view_count": null,
            "_view_module": "@jupyter-widgets/controls",
            "_view_module_version": "1.5.0",
            "_view_name": "ProgressView",
            "bar_style": "",
            "description": "",
            "description_tooltip": null,
            "layout": "IPY_MODEL_8d32efc3b2084298b498f101513d7896",
            "max": 10000,
            "min": 0,
            "orientation": "horizontal",
            "style": "IPY_MODEL_89654170653d48c3b676fc865e48b22d",
            "value": 10000
          }
        },
        "bb4b55fe5c0a45acb5c8d9013d3cff66": {
          "model_module": "@jupyter-widgets/controls",
          "model_name": "HTMLModel",
          "model_module_version": "1.5.0",
          "state": {
            "_dom_classes": [],
            "_model_module": "@jupyter-widgets/controls",
            "_model_module_version": "1.5.0",
            "_model_name": "HTMLModel",
            "_view_count": null,
            "_view_module": "@jupyter-widgets/controls",
            "_view_module_version": "1.5.0",
            "_view_name": "HTMLView",
            "description": "",
            "description_tooltip": null,
            "layout": "IPY_MODEL_c416d16c2675416cb996741773740498",
            "placeholder": "​",
            "style": "IPY_MODEL_6731b804a7fe4d0b91542f13b8b34490",
            "value": " 9817/10000 [00:03&lt;00:00, 2631.33 examples/s]"
          }
        },
        "5fcd637b61344acd81ee1b80186e6c17": {
          "model_module": "@jupyter-widgets/base",
          "model_name": "LayoutModel",
          "model_module_version": "1.2.0",
          "state": {
            "_model_module": "@jupyter-widgets/base",
            "_model_module_version": "1.2.0",
            "_model_name": "LayoutModel",
            "_view_count": null,
            "_view_module": "@jupyter-widgets/base",
            "_view_module_version": "1.2.0",
            "_view_name": "LayoutView",
            "align_content": null,
            "align_items": null,
            "align_self": null,
            "border": null,
            "bottom": null,
            "display": null,
            "flex": null,
            "flex_flow": null,
            "grid_area": null,
            "grid_auto_columns": null,
            "grid_auto_flow": null,
            "grid_auto_rows": null,
            "grid_column": null,
            "grid_gap": null,
            "grid_row": null,
            "grid_template_areas": null,
            "grid_template_columns": null,
            "grid_template_rows": null,
            "height": null,
            "justify_content": null,
            "justify_items": null,
            "left": null,
            "margin": null,
            "max_height": null,
            "max_width": null,
            "min_height": null,
            "min_width": null,
            "object_fit": null,
            "object_position": null,
            "order": null,
            "overflow": null,
            "overflow_x": null,
            "overflow_y": null,
            "padding": null,
            "right": null,
            "top": null,
            "visibility": "hidden",
            "width": null
          }
        },
        "5428a7507442487e97ef0327d3173b8e": {
          "model_module": "@jupyter-widgets/base",
          "model_name": "LayoutModel",
          "model_module_version": "1.2.0",
          "state": {
            "_model_module": "@jupyter-widgets/base",
            "_model_module_version": "1.2.0",
            "_model_name": "LayoutModel",
            "_view_count": null,
            "_view_module": "@jupyter-widgets/base",
            "_view_module_version": "1.2.0",
            "_view_name": "LayoutView",
            "align_content": null,
            "align_items": null,
            "align_self": null,
            "border": null,
            "bottom": null,
            "display": null,
            "flex": null,
            "flex_flow": null,
            "grid_area": null,
            "grid_auto_columns": null,
            "grid_auto_flow": null,
            "grid_auto_rows": null,
            "grid_column": null,
            "grid_gap": null,
            "grid_row": null,
            "grid_template_areas": null,
            "grid_template_columns": null,
            "grid_template_rows": null,
            "height": null,
            "justify_content": null,
            "justify_items": null,
            "left": null,
            "margin": null,
            "max_height": null,
            "max_width": null,
            "min_height": null,
            "min_width": null,
            "object_fit": null,
            "object_position": null,
            "order": null,
            "overflow": null,
            "overflow_x": null,
            "overflow_y": null,
            "padding": null,
            "right": null,
            "top": null,
            "visibility": null,
            "width": null
          }
        },
        "1f71560bf1cf4339bef909da45a15262": {
          "model_module": "@jupyter-widgets/controls",
          "model_name": "DescriptionStyleModel",
          "model_module_version": "1.5.0",
          "state": {
            "_model_module": "@jupyter-widgets/controls",
            "_model_module_version": "1.5.0",
            "_model_name": "DescriptionStyleModel",
            "_view_count": null,
            "_view_module": "@jupyter-widgets/base",
            "_view_module_version": "1.2.0",
            "_view_name": "StyleView",
            "description_width": ""
          }
        },
        "8d32efc3b2084298b498f101513d7896": {
          "model_module": "@jupyter-widgets/base",
          "model_name": "LayoutModel",
          "model_module_version": "1.2.0",
          "state": {
            "_model_module": "@jupyter-widgets/base",
            "_model_module_version": "1.2.0",
            "_model_name": "LayoutModel",
            "_view_count": null,
            "_view_module": "@jupyter-widgets/base",
            "_view_module_version": "1.2.0",
            "_view_name": "LayoutView",
            "align_content": null,
            "align_items": null,
            "align_self": null,
            "border": null,
            "bottom": null,
            "display": null,
            "flex": null,
            "flex_flow": null,
            "grid_area": null,
            "grid_auto_columns": null,
            "grid_auto_flow": null,
            "grid_auto_rows": null,
            "grid_column": null,
            "grid_gap": null,
            "grid_row": null,
            "grid_template_areas": null,
            "grid_template_columns": null,
            "grid_template_rows": null,
            "height": null,
            "justify_content": null,
            "justify_items": null,
            "left": null,
            "margin": null,
            "max_height": null,
            "max_width": null,
            "min_height": null,
            "min_width": null,
            "object_fit": null,
            "object_position": null,
            "order": null,
            "overflow": null,
            "overflow_x": null,
            "overflow_y": null,
            "padding": null,
            "right": null,
            "top": null,
            "visibility": null,
            "width": null
          }
        },
        "89654170653d48c3b676fc865e48b22d": {
          "model_module": "@jupyter-widgets/controls",
          "model_name": "ProgressStyleModel",
          "model_module_version": "1.5.0",
          "state": {
            "_model_module": "@jupyter-widgets/controls",
            "_model_module_version": "1.5.0",
            "_model_name": "ProgressStyleModel",
            "_view_count": null,
            "_view_module": "@jupyter-widgets/base",
            "_view_module_version": "1.2.0",
            "_view_name": "StyleView",
            "bar_color": null,
            "description_width": ""
          }
        },
        "c416d16c2675416cb996741773740498": {
          "model_module": "@jupyter-widgets/base",
          "model_name": "LayoutModel",
          "model_module_version": "1.2.0",
          "state": {
            "_model_module": "@jupyter-widgets/base",
            "_model_module_version": "1.2.0",
            "_model_name": "LayoutModel",
            "_view_count": null,
            "_view_module": "@jupyter-widgets/base",
            "_view_module_version": "1.2.0",
            "_view_name": "LayoutView",
            "align_content": null,
            "align_items": null,
            "align_self": null,
            "border": null,
            "bottom": null,
            "display": null,
            "flex": null,
            "flex_flow": null,
            "grid_area": null,
            "grid_auto_columns": null,
            "grid_auto_flow": null,
            "grid_auto_rows": null,
            "grid_column": null,
            "grid_gap": null,
            "grid_row": null,
            "grid_template_areas": null,
            "grid_template_columns": null,
            "grid_template_rows": null,
            "height": null,
            "justify_content": null,
            "justify_items": null,
            "left": null,
            "margin": null,
            "max_height": null,
            "max_width": null,
            "min_height": null,
            "min_width": null,
            "object_fit": null,
            "object_position": null,
            "order": null,
            "overflow": null,
            "overflow_x": null,
            "overflow_y": null,
            "padding": null,
            "right": null,
            "top": null,
            "visibility": null,
            "width": null
          }
        },
        "6731b804a7fe4d0b91542f13b8b34490": {
          "model_module": "@jupyter-widgets/controls",
          "model_name": "DescriptionStyleModel",
          "model_module_version": "1.5.0",
          "state": {
            "_model_module": "@jupyter-widgets/controls",
            "_model_module_version": "1.5.0",
            "_model_name": "DescriptionStyleModel",
            "_view_count": null,
            "_view_module": "@jupyter-widgets/base",
            "_view_module_version": "1.2.0",
            "_view_name": "StyleView",
            "description_width": ""
          }
        },
        "c275f68e513c41489caa08af7e550b2a": {
          "model_module": "@jupyter-widgets/controls",
          "model_name": "HBoxModel",
          "model_module_version": "1.5.0",
          "state": {
            "_dom_classes": [],
            "_model_module": "@jupyter-widgets/controls",
            "_model_module_version": "1.5.0",
            "_model_name": "HBoxModel",
            "_view_count": null,
            "_view_module": "@jupyter-widgets/controls",
            "_view_module_version": "1.5.0",
            "_view_name": "HBoxView",
            "box_style": "",
            "children": [
              "IPY_MODEL_100fddd38cd946b9a1b1b1b6ce01f876",
              "IPY_MODEL_a85cb77560ae407ab3ba0270e26c3894",
              "IPY_MODEL_5a71568f788444999d9467de88b78d83"
            ],
            "layout": "IPY_MODEL_85db347f7d074ece88b638399e9743e8"
          }
        },
        "100fddd38cd946b9a1b1b1b6ce01f876": {
          "model_module": "@jupyter-widgets/controls",
          "model_name": "HTMLModel",
          "model_module_version": "1.5.0",
          "state": {
            "_dom_classes": [],
            "_model_module": "@jupyter-widgets/controls",
            "_model_module_version": "1.5.0",
            "_model_name": "HTMLModel",
            "_view_count": null,
            "_view_module": "@jupyter-widgets/controls",
            "_view_module_version": "1.5.0",
            "_view_name": "HTMLView",
            "description": "",
            "description_tooltip": null,
            "layout": "IPY_MODEL_002347cf97e64a8680e99cd5cdbb9251",
            "placeholder": "​",
            "style": "IPY_MODEL_48870b4e471c45c4a52a62cf73243314",
            "value": "Shuffling ~/tensorflow_datasets/fashion_mnist/3.0.1.incompleteBF3O2E/fashion_mnist-test.tfrecord*...:  81%"
          }
        },
        "a85cb77560ae407ab3ba0270e26c3894": {
          "model_module": "@jupyter-widgets/controls",
          "model_name": "FloatProgressModel",
          "model_module_version": "1.5.0",
          "state": {
            "_dom_classes": [],
            "_model_module": "@jupyter-widgets/controls",
            "_model_module_version": "1.5.0",
            "_model_name": "FloatProgressModel",
            "_view_count": null,
            "_view_module": "@jupyter-widgets/controls",
            "_view_module_version": "1.5.0",
            "_view_name": "ProgressView",
            "bar_style": "",
            "description": "",
            "description_tooltip": null,
            "layout": "IPY_MODEL_0a573e855ef643b2ad5147fc80dc7e9a",
            "max": 10000,
            "min": 0,
            "orientation": "horizontal",
            "style": "IPY_MODEL_2d7bc05a981c47feacb92e11ab028295",
            "value": 10000
          }
        },
        "5a71568f788444999d9467de88b78d83": {
          "model_module": "@jupyter-widgets/controls",
          "model_name": "HTMLModel",
          "model_module_version": "1.5.0",
          "state": {
            "_dom_classes": [],
            "_model_module": "@jupyter-widgets/controls",
            "_model_module_version": "1.5.0",
            "_model_name": "HTMLModel",
            "_view_count": null,
            "_view_module": "@jupyter-widgets/controls",
            "_view_module_version": "1.5.0",
            "_view_name": "HTMLView",
            "description": "",
            "description_tooltip": null,
            "layout": "IPY_MODEL_2c3fe6b56392499e9c3b3f9ea57d2616",
            "placeholder": "​",
            "style": "IPY_MODEL_c3b82fa1a4ac4160bc4efcb2406c6467",
            "value": " 8120/10000 [00:00&lt;00:00, 81178.59 examples/s]"
          }
        },
        "85db347f7d074ece88b638399e9743e8": {
          "model_module": "@jupyter-widgets/base",
          "model_name": "LayoutModel",
          "model_module_version": "1.2.0",
          "state": {
            "_model_module": "@jupyter-widgets/base",
            "_model_module_version": "1.2.0",
            "_model_name": "LayoutModel",
            "_view_count": null,
            "_view_module": "@jupyter-widgets/base",
            "_view_module_version": "1.2.0",
            "_view_name": "LayoutView",
            "align_content": null,
            "align_items": null,
            "align_self": null,
            "border": null,
            "bottom": null,
            "display": null,
            "flex": null,
            "flex_flow": null,
            "grid_area": null,
            "grid_auto_columns": null,
            "grid_auto_flow": null,
            "grid_auto_rows": null,
            "grid_column": null,
            "grid_gap": null,
            "grid_row": null,
            "grid_template_areas": null,
            "grid_template_columns": null,
            "grid_template_rows": null,
            "height": null,
            "justify_content": null,
            "justify_items": null,
            "left": null,
            "margin": null,
            "max_height": null,
            "max_width": null,
            "min_height": null,
            "min_width": null,
            "object_fit": null,
            "object_position": null,
            "order": null,
            "overflow": null,
            "overflow_x": null,
            "overflow_y": null,
            "padding": null,
            "right": null,
            "top": null,
            "visibility": "hidden",
            "width": null
          }
        },
        "002347cf97e64a8680e99cd5cdbb9251": {
          "model_module": "@jupyter-widgets/base",
          "model_name": "LayoutModel",
          "model_module_version": "1.2.0",
          "state": {
            "_model_module": "@jupyter-widgets/base",
            "_model_module_version": "1.2.0",
            "_model_name": "LayoutModel",
            "_view_count": null,
            "_view_module": "@jupyter-widgets/base",
            "_view_module_version": "1.2.0",
            "_view_name": "LayoutView",
            "align_content": null,
            "align_items": null,
            "align_self": null,
            "border": null,
            "bottom": null,
            "display": null,
            "flex": null,
            "flex_flow": null,
            "grid_area": null,
            "grid_auto_columns": null,
            "grid_auto_flow": null,
            "grid_auto_rows": null,
            "grid_column": null,
            "grid_gap": null,
            "grid_row": null,
            "grid_template_areas": null,
            "grid_template_columns": null,
            "grid_template_rows": null,
            "height": null,
            "justify_content": null,
            "justify_items": null,
            "left": null,
            "margin": null,
            "max_height": null,
            "max_width": null,
            "min_height": null,
            "min_width": null,
            "object_fit": null,
            "object_position": null,
            "order": null,
            "overflow": null,
            "overflow_x": null,
            "overflow_y": null,
            "padding": null,
            "right": null,
            "top": null,
            "visibility": null,
            "width": null
          }
        },
        "48870b4e471c45c4a52a62cf73243314": {
          "model_module": "@jupyter-widgets/controls",
          "model_name": "DescriptionStyleModel",
          "model_module_version": "1.5.0",
          "state": {
            "_model_module": "@jupyter-widgets/controls",
            "_model_module_version": "1.5.0",
            "_model_name": "DescriptionStyleModel",
            "_view_count": null,
            "_view_module": "@jupyter-widgets/base",
            "_view_module_version": "1.2.0",
            "_view_name": "StyleView",
            "description_width": ""
          }
        },
        "0a573e855ef643b2ad5147fc80dc7e9a": {
          "model_module": "@jupyter-widgets/base",
          "model_name": "LayoutModel",
          "model_module_version": "1.2.0",
          "state": {
            "_model_module": "@jupyter-widgets/base",
            "_model_module_version": "1.2.0",
            "_model_name": "LayoutModel",
            "_view_count": null,
            "_view_module": "@jupyter-widgets/base",
            "_view_module_version": "1.2.0",
            "_view_name": "LayoutView",
            "align_content": null,
            "align_items": null,
            "align_self": null,
            "border": null,
            "bottom": null,
            "display": null,
            "flex": null,
            "flex_flow": null,
            "grid_area": null,
            "grid_auto_columns": null,
            "grid_auto_flow": null,
            "grid_auto_rows": null,
            "grid_column": null,
            "grid_gap": null,
            "grid_row": null,
            "grid_template_areas": null,
            "grid_template_columns": null,
            "grid_template_rows": null,
            "height": null,
            "justify_content": null,
            "justify_items": null,
            "left": null,
            "margin": null,
            "max_height": null,
            "max_width": null,
            "min_height": null,
            "min_width": null,
            "object_fit": null,
            "object_position": null,
            "order": null,
            "overflow": null,
            "overflow_x": null,
            "overflow_y": null,
            "padding": null,
            "right": null,
            "top": null,
            "visibility": null,
            "width": null
          }
        },
        "2d7bc05a981c47feacb92e11ab028295": {
          "model_module": "@jupyter-widgets/controls",
          "model_name": "ProgressStyleModel",
          "model_module_version": "1.5.0",
          "state": {
            "_model_module": "@jupyter-widgets/controls",
            "_model_module_version": "1.5.0",
            "_model_name": "ProgressStyleModel",
            "_view_count": null,
            "_view_module": "@jupyter-widgets/base",
            "_view_module_version": "1.2.0",
            "_view_name": "StyleView",
            "bar_color": null,
            "description_width": ""
          }
        },
        "2c3fe6b56392499e9c3b3f9ea57d2616": {
          "model_module": "@jupyter-widgets/base",
          "model_name": "LayoutModel",
          "model_module_version": "1.2.0",
          "state": {
            "_model_module": "@jupyter-widgets/base",
            "_model_module_version": "1.2.0",
            "_model_name": "LayoutModel",
            "_view_count": null,
            "_view_module": "@jupyter-widgets/base",
            "_view_module_version": "1.2.0",
            "_view_name": "LayoutView",
            "align_content": null,
            "align_items": null,
            "align_self": null,
            "border": null,
            "bottom": null,
            "display": null,
            "flex": null,
            "flex_flow": null,
            "grid_area": null,
            "grid_auto_columns": null,
            "grid_auto_flow": null,
            "grid_auto_rows": null,
            "grid_column": null,
            "grid_gap": null,
            "grid_row": null,
            "grid_template_areas": null,
            "grid_template_columns": null,
            "grid_template_rows": null,
            "height": null,
            "justify_content": null,
            "justify_items": null,
            "left": null,
            "margin": null,
            "max_height": null,
            "max_width": null,
            "min_height": null,
            "min_width": null,
            "object_fit": null,
            "object_position": null,
            "order": null,
            "overflow": null,
            "overflow_x": null,
            "overflow_y": null,
            "padding": null,
            "right": null,
            "top": null,
            "visibility": null,
            "width": null
          }
        },
        "c3b82fa1a4ac4160bc4efcb2406c6467": {
          "model_module": "@jupyter-widgets/controls",
          "model_name": "DescriptionStyleModel",
          "model_module_version": "1.5.0",
          "state": {
            "_model_module": "@jupyter-widgets/controls",
            "_model_module_version": "1.5.0",
            "_model_name": "DescriptionStyleModel",
            "_view_count": null,
            "_view_module": "@jupyter-widgets/base",
            "_view_module_version": "1.2.0",
            "_view_name": "StyleView",
            "description_width": ""
          }
        }
      }
    }
  },
  "nbformat": 4,
  "nbformat_minor": 0
}
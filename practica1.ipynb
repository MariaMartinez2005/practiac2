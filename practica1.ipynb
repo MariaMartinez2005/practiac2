{
  "nbformat": 4,
  "nbformat_minor": 0,
  "metadata": {
    "colab": {
      "name": "Untitled2.ipynb",
      "provenance": [],
      "authorship_tag": "ABX9TyPm1xORNbglZaHGcQ/EIn5Q",
      "include_colab_link": true
    },
    "kernelspec": {
      "name": "python3",
      "display_name": "Python 3"
    },
    "language_info": {
      "name": "python"
    }
  },
  "cells": [
    {
      "cell_type": "markdown",
      "metadata": {
        "id": "view-in-github",
        "colab_type": "text"
      },
      "source": [
        "<a href=\"https://colab.research.google.com/github/MariaMartinez2005/practiac2/blob/main/practica1.ipynb\" target=\"_parent\"><img src=\"https://colab.research.google.com/assets/colab-badge.svg\" alt=\"Open In Colab\"/></a>"
      ]
    },
    {
      "cell_type": "code",
      "execution_count": 2,
      "metadata": {
        "id": "s2iqG8x8KrvY",
        "colab": {
          "base_uri": "https://localhost:8080/"
        },
        "outputId": "32dab256-3f43-4df1-94f2-a57561cfca61"
      },
      "outputs": [
        {
          "output_type": "stream",
          "name": "stdout",
          "text": [
            "Hola MundoBienvenidos a Programacion Computacional III\n"
          ]
        }
      ],
      "source": [
        "print(\"Hola Mundo\" \"Bienvenidos a Programacion Computacional III\")"
      ]
    },
    {
      "cell_type": "code",
      "source": [
        "print(\"Maria Rodriguez\")"
      ],
      "metadata": {
        "colab": {
          "base_uri": "https://localhost:8080/"
        },
        "id": "8bPwgjtbyj_M",
        "outputId": "965d2a67-dabc-4839-d642-9a6b6d9e48f8"
      },
      "execution_count": 3,
      "outputs": [
        {
          "output_type": "stream",
          "name": "stdout",
          "text": [
            "Maria Rodriguez\n"
          ]
        }
      ]
    },
    {
      "cell_type": "code",
      "source": [
        "nombre = \"Maria Rodriguez\"\n",
        "print  (\"Hola\", nombre, nombre[5], type(nombre))\n",
        "\n",
        "\n",
        "nombre = 37\n",
        "print(\"Tu edad es: \" , type(nombre))"
      ],
      "metadata": {
        "colab": {
          "base_uri": "https://localhost:8080/"
        },
        "id": "6OvneIm2yvJL",
        "outputId": "ec8cd343-62b4-483a-9d27-d83bb7bd2abc"
      },
      "execution_count": 11,
      "outputs": [
        {
          "output_type": "stream",
          "name": "stdout",
          "text": [
            "Hola Maria Rodriguez   <class 'str'>\n",
            "Tu edad es:  <class 'int'>\n"
          ]
        }
      ]
    },
    {
      "cell_type": "code",
      "source": [
        "programacion = True\n",
        "diseno = False\n",
        "print( \"Te gusta Progra\", programacion,\"Te gusta diseño\", diseno Type(Programacion) )"
      ],
      "metadata": {
        "colab": {
          "base_uri": "https://localhost:8080/",
          "height": 130
        },
        "id": "eg5SUHJR0Pf1",
        "outputId": "006a7da4-b613-42f2-d41a-ab4b2d3ee7c0"
      },
      "execution_count": 22,
      "outputs": [
        {
          "output_type": "error",
          "ename": "SyntaxError",
          "evalue": "ignored",
          "traceback": [
            "\u001b[0;36m  File \u001b[0;32m\"<ipython-input-22-804037164f4e>\"\u001b[0;36m, line \u001b[0;32m3\u001b[0m\n\u001b[0;31m    print( \"Te gusta Progra\", programacion,\"Te gusta diseño\", diseno Type(Programacion) )\u001b[0m\n\u001b[0m                                                                        ^\u001b[0m\n\u001b[0;31mSyntaxError\u001b[0m\u001b[0;31m:\u001b[0m invalid syntax\n"
          ]
        }
      ]
    },
    {
      "cell_type": "code",
      "source": [
        ""
      ],
      "metadata": {
        "id": "Qwml-K13zO3B"
      },
      "execution_count": null,
      "outputs": []
    },
    {
      "cell_type": "code",
      "source": [
        "edad = int(input(\"Dime tu edad: \"))\n",
        "if edad>=37: #comparacion da como resultado un valor booleana\n",
        "  print(\"Eres un adulto, tiene resposabilidades...\")\n",
        "else:\n",
        "  print(\"Eres libre\")  "
      ],
      "metadata": {
        "colab": {
          "base_uri": "https://localhost:8080/"
        },
        "id": "ByA5TEVc1DRv",
        "outputId": "beff987b-0106-4ddf-c1dc-62e25311a933"
      },
      "execution_count": 21,
      "outputs": [
        {
          "output_type": "stream",
          "name": "stdout",
          "text": [
            "Dime tu edad: 37\n",
            "Eres un adulto, tiene resposabilidades...\n"
          ]
        }
      ]
    },
    {
      "cell_type": "code",
      "source": [
        "def sumaDosNumeros(num1,num2):\n",
        "  resp = num1 + num2\n",
        "  return resp \n",
        "print( \"La suma: \", sumaDosNumeros(2,5))"
      ],
      "metadata": {
        "colab": {
          "base_uri": "https://localhost:8080/"
        },
        "id": "2j826FqN2PWh",
        "outputId": "fc4c32c6-5360-41e8-816e-494d17527e6b"
      },
      "execution_count": 23,
      "outputs": [
        {
          "output_type": "stream",
          "name": "stdout",
          "text": [
            "La suma:  7\n"
          ]
        }
      ]
    },
    {
      "cell_type": "code",
      "source": [
        "#funciones anonimas...\n",
        "sumaNumeros= lambda num1,num2: num1 + num2\n",
        "print( \"La suma: \", sumaNumeros (4,6))"
      ],
      "metadata": {
        "colab": {
          "base_uri": "https://localhost:8080/"
        },
        "id": "frOsSL6R3DpC",
        "outputId": "4a7cb34c-a07d-409f-d665-1d694753f3ed"
      },
      "execution_count": 25,
      "outputs": [
        {
          "output_type": "stream",
          "name": "stdout",
          "text": [
            "La suma:  10\n"
          ]
        }
      ]
    },
    {
      "cell_type": "code",
      "source": [
        "numeros=[5,4,7,8,-4,-9] #array unidimensional"
      ],
      "metadata": {
        "id": "LJI1k7cQ3I9k"
      },
      "execution_count": 26,
      "outputs": []
    },
    {
      "cell_type": "code",
      "source": [
        "def cuadrado(num):\n",
        "  return num**2"
      ],
      "metadata": {
        "id": "SQ1AYAsH3qHW"
      },
      "execution_count": 28,
      "outputs": []
    },
    {
      "cell_type": "code",
      "source": [
        "def cubo(num):\n",
        "  return num**3"
      ],
      "metadata": {
        "id": "-KYpcX_S3y86"
      },
      "execution_count": 29,
      "outputs": []
    },
    {
      "cell_type": "code",
      "source": [
        "def pares(num): #num = 2/2 = 1 ==0\n",
        "   return num%2==0"
      ],
      "metadata": {
        "id": "jOkXdMfo356_"
      },
      "execution_count": 30,
      "outputs": []
    },
    {
      "cell_type": "code",
      "source": [
        "def impares(num): \n",
        "   return num%2!=0"
      ],
      "metadata": {
        "id": "Wvg1gp284K8v"
      },
      "execution_count": 31,
      "outputs": []
    },
    {
      "cell_type": "code",
      "source": [
        "numCuadrado= list(map(cuadrado,numeros))\n",
        "numXDos = list( map(lambda num: num*2, numeros ) )\n",
        "print(\"Elevar al Cuadradola lista:\", numCuadrado, numXDos )"
      ],
      "metadata": {
        "colab": {
          "base_uri": "https://localhost:8080/"
        },
        "id": "2RMhqsd84f7B",
        "outputId": "a21f37ab-74ef-4b75-ef89-dc28749e3ac0"
      },
      "execution_count": 33,
      "outputs": [
        {
          "output_type": "stream",
          "name": "stdout",
          "text": [
            "Elevar al Cuadradola lista: [25, 16, 49, 64, 16, 81] [10, 8, 14, 16, -8, -18]\n"
          ]
        }
      ]
    },
    {
      "cell_type": "code",
      "source": [
        "numCubo = list( map(cubo, numeros) )\n",
        "print (numCubo)"
      ],
      "metadata": {
        "colab": {
          "base_uri": "https://localhost:8080/"
        },
        "id": "2zoTv_Iv49pa",
        "outputId": "20d8dafe-4beb-4f02-e799-c30af67ad17f"
      },
      "execution_count": 34,
      "outputs": [
        {
          "output_type": "stream",
          "name": "stdout",
          "text": [
            "[125, 64, 343, 512, -64, -729]\n"
          ]
        }
      ]
    },
    {
      "cell_type": "code",
      "source": [
        "#usando filter dejamos solo los pares\n",
        "pares = list ( filter(pares,numeros))\n",
        "print(pares)"
      ],
      "metadata": {
        "colab": {
          "base_uri": "https://localhost:8080/"
        },
        "id": "NFqS4zrc47B1",
        "outputId": "6651db15-f5c5-4de9-9fe0-8615435430c6"
      },
      "execution_count": 35,
      "outputs": [
        {
          "output_type": "stream",
          "name": "stdout",
          "text": [
            "[4, 8, -4]\n"
          ]
        }
      ]
    },
    {
      "cell_type": "code",
      "source": [
        "impares = list ( filter(impares,numeros))\n",
        "print(impares)"
      ],
      "metadata": {
        "colab": {
          "base_uri": "https://localhost:8080/"
        },
        "id": "RDlkN24_5xBQ",
        "outputId": "99d2f8f7-9547-4a55-b63c-f306b608633c"
      },
      "execution_count": 36,
      "outputs": [
        {
          "output_type": "stream",
          "name": "stdout",
          "text": [
            "[5, 7, -9]\n"
          ]
        }
      ]
    },
    {
      "cell_type": "code",
      "source": [
        "#conversor de Celsius a f\n",
        "def cf(c):\n",
        "  return c*9/2+32"
      ],
      "metadata": {
        "id": "HtRXuhxu5w1R"
      },
      "execution_count": 37,
      "outputs": []
    },
    {
      "cell_type": "code",
      "source": [
        "c = float(input( \"Grados C , grados\")):"
      ],
      "metadata": {
        "id": "70W32VFS5wpF"
      },
      "execution_count": null,
      "outputs": []
    }
  ]
}
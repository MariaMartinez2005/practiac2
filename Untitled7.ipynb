{
  "nbformat": 4,
  "nbformat_minor": 0,
  "metadata": {
    "colab": {
      "provenance": [],
      "collapsed_sections": [],
      "authorship_tag": "ABX9TyPULx3fkGonnIH5W1I3fK9z",
      "include_colab_link": true
    },
    "kernelspec": {
      "name": "python3",
      "display_name": "Python 3"
    },
    "language_info": {
      "name": "python"
    }
  },
  "cells": [
    {
      "cell_type": "markdown",
      "metadata": {
        "id": "view-in-github",
        "colab_type": "text"
      },
      "source": [
        "<a href=\"https://colab.research.google.com/github/MariaMartinez2005/practiac2/blob/main/Untitled7.ipynb\" target=\"_parent\"><img src=\"https://colab.research.google.com/assets/colab-badge.svg\" alt=\"Open In Colab\"/></a>"
      ]
    },
    {
      "cell_type": "code",
      "execution_count": null,
      "metadata": {
        "id": "ni1L4CwgbUW4"
      },
      "outputs": [],
      "source": []
    },
    {
      "cell_type": "markdown",
      "source": [
        "Ejercisio 2:   Desarrolle un algoritmo en python que calcule el impuesto a las actividades Economicas de acuerdo con la siguiente tabla.El monto de la actividaddeve ser introducido por el usuario"
      ],
      "metadata": {
        "id": "D7oLxCvRbVV_"
      }
    },
    {
      "cell_type": "code",
      "source": [
        "def calcular():\n",
        "    monto = float(input(\"Ingrese el monto de su empresa: \"))\n",
        "    impuesto = monto + 0.01/1000 * 0 +1.5\n",
        "    print(\"El IMPUESTO del monto de su Empresa es: $\",monto)\n",
        "    Mtotal = monto - impuesto\n",
        "    print(\"El monto total es de : $\", Mtotal)\n",
        "\n",
        "calcular()"
      ],
      "metadata": {
        "id": "r8u3srAPca7K",
        "colab": {
          "base_uri": "https://localhost:8080/"
        },
        "outputId": "e6f7feb8-3608-4155-a43b-680b896abac2"
      },
      "execution_count": 11,
      "outputs": [
        {
          "output_type": "stream",
          "name": "stdout",
          "text": [
            "Ingrese el monto de su empresa: 359.75\n",
            "El IMPUESTO del monto de su Empresa es: $ 359.75\n",
            "El monto total es de : $ -1.5\n"
          ]
        }
      ]
    }
  ]
}